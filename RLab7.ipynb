{
 "cells": [
  {
   "cell_type": "markdown",
   "metadata": {
    "deletable": false,
    "editable": false,
    "nbgrader": {
     "cell_type": "markdown",
     "checksum": "d33fc2771e797eb50ae1d69b534c0282",
     "grade": false,
     "grade_id": "cell-fc0a1f00806af400",
     "locked": true,
     "schema_version": 3,
     "solution": false,
     "task": false
    }
   },
   "source": [
    "## RLab 7:\n",
    "In this R Lab assignment, we will  use K-means clustering algorithm for dimension reduction and data labeling purposes. Please read the following two chapters for the details. \n",
    "\n",
    "- HOML CH 20 K-Means Clustering\n",
    "- HOML CH 21 Hierarchical Clustering\n",
    "\n",
    "# Soccer Data\n",
    "\n",
    "We have the following publicly available soccer data from FiveThirtyEight website. FiveThirtyEight  has data on on player performances across 16 metrics in World Cup from 1966 to 2018. FiveThirtyEight's Modeled Event Soccer Similarity Index (MESSI) is a system that evaluates and compares player performances across 16 metrics. For moere information, please visit the following website: https://projects.fivethirtyeight.com/world-cup-comparisons/.\n",
    "\n",
    "\n",
    "\n",
    "- The data is in panel format: players across years. Hence, the same player's statistics can appear in different rows for different Worls Cup tournament. \n",
    "- There are 5899 rows of data from 14 World Cup tournament on 4533 soccer players from 80 different countries.  \n",
    "\n",
    "- Each metric is measured on a per-match basis, and for each metric, FiveThirtyEight calculates a z-score — the number of standard deviations above or below average for that World Cup. Any metric above 0 indicates that the player performed better than the average player, vice versa. \n",
    "\n",
    "Variables:\n",
    "\n",
    "\n",
    "- **player**: name of the player\n",
    "- **season**: World cup tournament year\n",
    "- **team**  : Country       \n",
    "- **goals_z**: Standardized goals\n",
    "- **xg_z**: Standardized expected goals\n",
    "- **crosses_z**: Standardized crosses\n",
    "- **boxtouches_z**: Standardized touches in box\n",
    "- **passes_z**: Standardized passes\n",
    "- **progpasses_z**: Standardized progressive passes\n",
    "- **takeons_z**: Standardized take-ons\n",
    "- **progruns_z**: Standardized progressive dribbles\n",
    "- **tackles_z** : Standardized tackles    \n",
    "- **interceptions_z**: Standardized interceptions\n",
    "- **clearances_z**: Standardized clearences\n",
    "- **blocks_z**: Standardized blocks\n",
    "- **aerials_z**: Standardized others\n",
    "- **fouls_z**: Standardized fouls committed\n",
    "- **fouled_z**: Standardized fouls drawn\n",
    "- **nsxg_z**: Standardized non-shot expected goals \n"
   ]
  },
  {
   "cell_type": "markdown",
   "metadata": {
    "deletable": false,
    "editable": false,
    "nbgrader": {
     "cell_type": "markdown",
     "checksum": "2f03c83bb20987fd5ab83f6e9460d666",
     "grade": false,
     "grade_id": "cell-170d128991e26194",
     "locked": true,
     "schema_version": 3,
     "solution": false,
     "task": false
    }
   },
   "source": [
    "# Soccer game \n",
    "In case you don't know, a soccer game is played by two teams. Each time is allowed no more than 11 players on the field at any one time and there is a goalkeeper to prevent the other team from scorin. As a last line of defence, only the goalkeeper is allowed to use their hands (Yes, it is a strange rule). The remaining players can only use their feet,  head or chest to play the ball. \n",
    "\n",
    "If you Google \"Soccer positions\", you will get the following important positons on the field. \n",
    "\n",
    "- Goalkeeper\n",
    "- Central Defender\n",
    "- Left and Right Full-back (or Wingback)\n",
    "- Central Midfielder\n",
    "- Left and Right Midfielder\n",
    "- Forward\n",
    "- Striker\n",
    "\n"
   ]
  },
  {
   "cell_type": "code",
   "execution_count": 76,
   "metadata": {
    "deletable": false,
    "editable": false,
    "nbgrader": {
     "cell_type": "code",
     "checksum": "79e77a5d8236477653c0d1bab03787e3",
     "grade": false,
     "grade_id": "cell-f2ba207e104045db",
     "locked": true,
     "schema_version": 3,
     "solution": false,
     "task": false
    }
   },
   "outputs": [
    {
     "data": {
      "text/html": [
       "<table>\n",
       "<caption>A data.frame: 6 × 2</caption>\n",
       "<thead>\n",
       "\t<tr><th></th><th scope=col>player</th><th scope=col>goals_z</th></tr>\n",
       "\t<tr><th></th><th scope=col>&lt;fct&gt;</th><th scope=col>&lt;dbl&gt;</th></tr>\n",
       "</thead>\n",
       "<tbody>\n",
       "\t<tr><th scope=row>1</th><td>Cristiano Ronaldo</td><td>6.46</td></tr>\n",
       "\t<tr><th scope=row>2</th><td>Harry Kane       </td><td>5.21</td></tr>\n",
       "\t<tr><th scope=row>3</th><td>Denis Cheryshev  </td><td>4.74</td></tr>\n",
       "\t<tr><th scope=row>4</th><td>Yerry Mina       </td><td>4.34</td></tr>\n",
       "\t<tr><th scope=row>5</th><td>Diego Costa      </td><td>4.34</td></tr>\n",
       "\t<tr><th scope=row>6</th><td>Mile Jedinak     </td><td>4.17</td></tr>\n",
       "</tbody>\n",
       "</table>\n"
      ],
      "text/latex": [
       "A data.frame: 6 × 2\n",
       "\\begin{tabular}{r|ll}\n",
       "  & player & goals\\_z\\\\\n",
       "  & <fct> & <dbl>\\\\\n",
       "\\hline\n",
       "\t1 & Cristiano Ronaldo & 6.46\\\\\n",
       "\t2 & Harry Kane        & 5.21\\\\\n",
       "\t3 & Denis Cheryshev   & 4.74\\\\\n",
       "\t4 & Yerry Mina        & 4.34\\\\\n",
       "\t5 & Diego Costa       & 4.34\\\\\n",
       "\t6 & Mile Jedinak      & 4.17\\\\\n",
       "\\end{tabular}\n"
      ],
      "text/markdown": [
       "\n",
       "A data.frame: 6 × 2\n",
       "\n",
       "| <!--/--> | player &lt;fct&gt; | goals_z &lt;dbl&gt; |\n",
       "|---|---|---|\n",
       "| 1 | Cristiano Ronaldo | 6.46 |\n",
       "| 2 | Harry Kane        | 5.21 |\n",
       "| 3 | Denis Cheryshev   | 4.74 |\n",
       "| 4 | Yerry Mina        | 4.34 |\n",
       "| 5 | Diego Costa       | 4.34 |\n",
       "| 6 | Mile Jedinak      | 4.17 |\n",
       "\n"
      ],
      "text/plain": [
       "  player            goals_z\n",
       "1 Cristiano Ronaldo 6.46   \n",
       "2 Harry Kane        5.21   \n",
       "3 Denis Cheryshev   4.74   \n",
       "4 Yerry Mina        4.34   \n",
       "5 Diego Costa       4.34   \n",
       "6 Mile Jedinak      4.17   "
      ]
     },
     "metadata": {},
     "output_type": "display_data"
    }
   ],
   "source": [
    "#Call the packages needed \n",
    "library(tidyverse)\n",
    "library(dplyr)\n",
    "library(ggplot2)\n",
    "library(class)\n",
    "library(testthat)\n",
    "\n",
    "\n",
    "\n",
    "\n",
    "\n",
    "player_data<-read.csv(\"soccer.csv\")\n",
    "\n",
    "\n",
    "\n",
    "# Best scorers in 2018\n",
    "\n",
    "player_data%>%\n",
    "     filter(season==2018)%>%\n",
    "     select(player, goals_z)%>%\n",
    "     arrange(desc(goals_z))%>%head()\n"
   ]
  },
  {
   "cell_type": "code",
   "execution_count": 77,
   "metadata": {
    "deletable": false,
    "editable": false,
    "nbgrader": {
     "cell_type": "code",
     "checksum": "5ab9a71c86c32c9c79d0c8a8859ab640",
     "grade": false,
     "grade_id": "cell-c4953989bdccc550",
     "locked": true,
     "schema_version": 3,
     "solution": false,
     "task": false
    }
   },
   "outputs": [
    {
     "data": {
      "text/html": [
       "<table>\n",
       "<caption>A data.frame: 6 × 3</caption>\n",
       "<thead>\n",
       "\t<tr><th></th><th scope=col>player</th><th scope=col>goals_z</th><th scope=col>season</th></tr>\n",
       "\t<tr><th></th><th scope=col>&lt;fct&gt;</th><th scope=col>&lt;dbl&gt;</th><th scope=col>&lt;int&gt;</th></tr>\n",
       "</thead>\n",
       "<tbody>\n",
       "\t<tr><th scope=row>1</th><td>Landon Donovan</td><td>4.39</td><td>2010</td></tr>\n",
       "\t<tr><th scope=row>2</th><td>Clint Dempsey </td><td>2.60</td><td>2014</td></tr>\n",
       "\t<tr><th scope=row>3</th><td>Brian McBride </td><td>2.13</td><td>2002</td></tr>\n",
       "\t<tr><th scope=row>4</th><td>Landon Donovan</td><td>2.13</td><td>2002</td></tr>\n",
       "\t<tr><th scope=row>5</th><td>Clint Dempsey </td><td>2.08</td><td>2006</td></tr>\n",
       "\t<tr><th scope=row>6</th><td>Bruce Murray  </td><td>1.90</td><td>1990</td></tr>\n",
       "</tbody>\n",
       "</table>\n"
      ],
      "text/latex": [
       "A data.frame: 6 × 3\n",
       "\\begin{tabular}{r|lll}\n",
       "  & player & goals\\_z & season\\\\\n",
       "  & <fct> & <dbl> & <int>\\\\\n",
       "\\hline\n",
       "\t1 & Landon Donovan & 4.39 & 2010\\\\\n",
       "\t2 & Clint Dempsey  & 2.60 & 2014\\\\\n",
       "\t3 & Brian McBride  & 2.13 & 2002\\\\\n",
       "\t4 & Landon Donovan & 2.13 & 2002\\\\\n",
       "\t5 & Clint Dempsey  & 2.08 & 2006\\\\\n",
       "\t6 & Bruce Murray   & 1.90 & 1990\\\\\n",
       "\\end{tabular}\n"
      ],
      "text/markdown": [
       "\n",
       "A data.frame: 6 × 3\n",
       "\n",
       "| <!--/--> | player &lt;fct&gt; | goals_z &lt;dbl&gt; | season &lt;int&gt; |\n",
       "|---|---|---|---|\n",
       "| 1 | Landon Donovan | 4.39 | 2010 |\n",
       "| 2 | Clint Dempsey  | 2.60 | 2014 |\n",
       "| 3 | Brian McBride  | 2.13 | 2002 |\n",
       "| 4 | Landon Donovan | 2.13 | 2002 |\n",
       "| 5 | Clint Dempsey  | 2.08 | 2006 |\n",
       "| 6 | Bruce Murray   | 1.90 | 1990 |\n",
       "\n"
      ],
      "text/plain": [
       "  player         goals_z season\n",
       "1 Landon Donovan 4.39    2010  \n",
       "2 Clint Dempsey  2.60    2014  \n",
       "3 Brian McBride  2.13    2002  \n",
       "4 Landon Donovan 2.13    2002  \n",
       "5 Clint Dempsey  2.08    2006  \n",
       "6 Bruce Murray   1.90    1990  "
      ]
     },
     "metadata": {},
     "output_type": "display_data"
    }
   ],
   "source": [
    "\n",
    "# Best scorers from USA\n",
    "player_data%>%\n",
    "     filter(team==\"USA\")%>%\n",
    "     select(player, goals_z, season)%>%\n",
    "     arrange(desc(goals_z))%>%head()"
   ]
  },
  {
   "cell_type": "markdown",
   "metadata": {
    "deletable": false,
    "editable": false,
    "nbgrader": {
     "cell_type": "markdown",
     "checksum": "46cbb2bf97f3ddbf54906d8d54b80ec9",
     "grade": false,
     "grade_id": "cell-abf6ad39d4925d16",
     "locked": true,
     "schema_version": 3,
     "solution": false,
     "task": false
    }
   },
   "source": [
    "# Exercise 1:\n",
    " \n",
    "Before clustering our data, we will save all numerical columns in **player_data**  under a different name. \n",
    "\n",
    "- Create a new data frame and name it as **player_attributes** to store the 16  numerical columns from **player_data** dataset. "
   ]
  },
  {
   "cell_type": "code",
   "execution_count": 78,
   "metadata": {
    "deletable": false,
    "nbgrader": {
     "cell_type": "code",
     "checksum": "e0cb131ea9c24c45d10c66523c8dbbee",
     "grade": false,
     "grade_id": "cell-53403f0af310b5a5",
     "locked": false,
     "schema_version": 3,
     "solution": true,
     "task": false
    }
   },
   "outputs": [],
   "source": [
    "\n",
    "\n",
    "# Exercise #1: Create player_attributes dataset\n",
    "\n",
    "# your code here\n",
    "\n",
    " player_attributes <- player_data %>% select(goals_z, xg_z, crosses_z, boxtouches_z, passes_z, progpasses_z, takeons_z, progruns_z, tackles_z, interceptions_z, clearances_z, blocks_z, aerials_z, fouls_z,\n",
    "                  fouled_z, nsxg_z,  )\n"
   ]
  },
  {
   "cell_type": "code",
   "execution_count": 79,
   "metadata": {
    "deletable": false,
    "editable": false,
    "nbgrader": {
     "cell_type": "code",
     "checksum": "d092baf71b3ebdd679b4b8df910c3363",
     "grade": true,
     "grade_id": "cell-d01eb7423236a332",
     "locked": true,
     "points": 14,
     "schema_version": 3,
     "solution": false,
     "task": false
    }
   },
   "outputs": [
    {
     "name": "stdout",
     "output_type": "stream",
     "text": [
      "[1] \"Passed! This was easy!\"\n"
     ]
    }
   ],
   "source": [
    "# Test your code in here\n",
    "### BEGIN HIDDEN TEST\n",
    "\n",
    "test_that(\"Check the player_attributes dataset\", {\n",
    "    expect_equal( IQR(player_attributes$blocks_z),0.79)\n",
    "        \n",
    "\n",
    "    expect_equal(  ncol(player_attributes),16)\n",
    "\n",
    "    expect_equal(  min(player_attributes[3333,]),-1.18)\n",
    "})\n",
    "\n",
    "\n",
    "print(\"Passed! This was easy!\")\n",
    "\n",
    "### END HIDDEN TEST"
   ]
  },
  {
   "cell_type": "markdown",
   "metadata": {
    "deletable": false,
    "editable": false,
    "nbgrader": {
     "cell_type": "markdown",
     "checksum": "aad86fb6ad4f85e8522fa82c72155441",
     "grade": false,
     "grade_id": "cell-b8c869ce076f4063",
     "locked": true,
     "schema_version": 3,
     "solution": false,
     "task": false
    }
   },
   "source": [
    "# Exercise 2:  k-means Clustering\n",
    "\n",
    "\n",
    "In k-means clustering, if we want to create 5 clusters, the data will be clustered by the k-means method by partitioning the points into 5 groups in such a way that the sum of squares from points to the assigned cluster centres is minimized. \n",
    "\n",
    "In this exercise, we will use **class** package in R to use **kmeans** function to cluster our data. Data in **player_attributes** are all numerical and scaled, so no need to pre process the data. \n",
    "\n",
    "By using **set.seed(4230)**, cluster **player_attributes** data by imposing 5 clusters. Use 50 number of  starts (nstart=50).  Name your cluster object as **five_cluster**. \n",
    "\n",
    "**nstart**  is used with **kmeans()** function to decide how many random sets should be chosen for initial cluster assignments. When we set nstart=50, the algorithm will run for 50 different initial cluster assignments, the best one will be used for the final clustering. \n",
    "\n"
   ]
  },
  {
   "cell_type": "code",
   "execution_count": 80,
   "metadata": {
    "deletable": false,
    "nbgrader": {
     "cell_type": "code",
     "checksum": "60f8948c97a37d877da4b136e6a611be",
     "grade": false,
     "grade_id": "cell-0ecdb2cbe32ff329",
     "locked": false,
     "schema_version": 3,
     "solution": true,
     "task": false
    }
   },
   "outputs": [],
   "source": [
    "# Exercise #2: Create five_cluster\n",
    "\n",
    "# your code here\n",
    "set.seed(4230)\n",
    "five_cluster <- kmeans(player_attributes, 5, nstart=50)\n"
   ]
  },
  {
   "cell_type": "code",
   "execution_count": 81,
   "metadata": {
    "deletable": false,
    "editable": false,
    "nbgrader": {
     "cell_type": "code",
     "checksum": "23a26e51ca43e0297120c715fe393133",
     "grade": true,
     "grade_id": "cell-fb23cf57f93e4e2e",
     "locked": true,
     "points": 14,
     "schema_version": 3,
     "solution": false,
     "task": false
    }
   },
   "outputs": [
    {
     "name": "stdout",
     "output_type": "stream",
     "text": [
      "[1] \"Passed! Good work!\"\n"
     ]
    }
   ],
   "source": [
    "# Test your code in here\n",
    "### BEGIN HIDDEN TEST\n",
    "\n",
    "test_that(\"Check the player_attributes dataset\", {\n",
    "    expect_equal(round(sqrt(round(five_cluster$totss))),307)\n",
    "        \n",
    "\n",
    "    expect_equal(round(mean(five_cluster$center), 3)  ,0.269)\n",
    "\n",
    "   \n",
    "})\n",
    "\n",
    "\n",
    "print(\"Passed! Good work!\")\n",
    "\n",
    "### END HIDDEN TEST"
   ]
  },
  {
   "cell_type": "markdown",
   "metadata": {
    "deletable": false,
    "editable": false,
    "nbgrader": {
     "cell_type": "markdown",
     "checksum": "8b2cafb32b930ee4afe537185194d1f4",
     "grade": false,
     "grade_id": "cell-b9f33745655744ea",
     "locked": true,
     "schema_version": 3,
     "solution": false,
     "task": false
    }
   },
   "source": [
    "# Exercise 3:  \n",
    "\n",
    "Based on **five_cluster** results, how many players are assigned in cluster # 3?  Count the number of player assigned to cluster # 3 and name it as **group3**."
   ]
  },
  {
   "cell_type": "code",
   "execution_count": 82,
   "metadata": {},
   "outputs": [
    {
     "data": {
      "text/html": [
       "583"
      ],
      "text/latex": [
       "583"
      ],
      "text/markdown": [
       "583"
      ],
      "text/plain": [
       "[1] 583"
      ]
     },
     "metadata": {},
     "output_type": "display_data"
    }
   ],
   "source": [
    "five_cluster$size[3]"
   ]
  },
  {
   "cell_type": "code",
   "execution_count": 83,
   "metadata": {
    "deletable": false,
    "nbgrader": {
     "cell_type": "code",
     "checksum": "bba28b33f683d3cb359ccbcd7652a169",
     "grade": false,
     "grade_id": "cell-b77b2d69d08d7082",
     "locked": false,
     "schema_version": 3,
     "solution": true,
     "task": false
    }
   },
   "outputs": [],
   "source": [
    "# Exercise #3: count cluster =5 in five_cluster\n",
    "\n",
    "# your code here\n",
    "group3 <- five_cluster$size[3]"
   ]
  },
  {
   "cell_type": "code",
   "execution_count": 84,
   "metadata": {
    "deletable": false,
    "editable": false,
    "nbgrader": {
     "cell_type": "code",
     "checksum": "1cf7fc5be9a07a231f353966d0e25579",
     "grade": true,
     "grade_id": "cell-06ad5d7efa4b9ee6",
     "locked": true,
     "points": 14,
     "schema_version": 3,
     "solution": false,
     "task": false
    }
   },
   "outputs": [
    {
     "name": "stdout",
     "output_type": "stream",
     "text": [
      "[1] \"Passed! Good Job!\"\n"
     ]
    }
   ],
   "source": [
    "# Test your code in here\n",
    "### BEGIN HIDDEN TEST\n",
    "\n",
    "test_that(\"Check the player_attributes dataset\", {\n",
    "    expect_equal(round((group3*0.005)^1.34, 3),4.194)\n",
    "        \n",
    "  #\n",
    "})\n",
    "\n",
    "\n",
    "print(\"Passed! Good Job!\")\n",
    "\n",
    "### END HIDDEN TEST"
   ]
  },
  {
   "cell_type": "markdown",
   "metadata": {
    "deletable": false,
    "editable": false,
    "nbgrader": {
     "cell_type": "markdown",
     "checksum": "a66d1449ca8ca1b0b7784b058e5567e8",
     "grade": false,
     "grade_id": "cell-a42f9eacd94083f0",
     "locked": true,
     "schema_version": 3,
     "solution": false,
     "task": false
    }
   },
   "source": [
    "# Exercise 4:\n",
    " Add a new column to **player_data** to store the cluster assignment of each player based on **five_cluster** (five_cluster$cluster). Name your column in **player_data** as **labels_5**."
   ]
  },
  {
   "cell_type": "code",
   "execution_count": 85,
   "metadata": {
    "deletable": false,
    "nbgrader": {
     "cell_type": "code",
     "checksum": "afb34b84c35dffd319ee453a4d78c91c",
     "grade": false,
     "grade_id": "cell-9642caf23b1dd66d",
     "locked": false,
     "schema_version": 3,
     "solution": true,
     "task": false
    }
   },
   "outputs": [],
   "source": [
    "# Exercise #4: update player_data\n",
    "\n",
    "# your code here\n",
    "player_data$labels_5 <- five_cluster$cluster[5]"
   ]
  },
  {
   "cell_type": "code",
   "execution_count": 86,
   "metadata": {
    "deletable": false,
    "editable": false,
    "nbgrader": {
     "cell_type": "code",
     "checksum": "34a54ab744c80b6d97dc2f63719747ef",
     "grade": true,
     "grade_id": "cell-dfa3737cd03fc970",
     "locked": true,
     "points": 14,
     "schema_version": 3,
     "solution": false,
     "task": false
    }
   },
   "outputs": [
    {
     "name": "stdout",
     "output_type": "stream",
     "text": [
      "[1] \"Passed! Good Job!\"\n"
     ]
    }
   ],
   "source": [
    "# Test your code in here\n",
    "### BEGIN HIDDEN TEST\n",
    "\n",
    "test_that(\"Check the player_attributes dataset\", {\n",
    "    expect_equal(ncol(player_data),20)\n",
    "        \n",
    " expect_equal(ncol(player_data)*nrow(player_data),117980)\n",
    "        \n",
    "    \n",
    "    \n",
    "})\n",
    "\n",
    "\n",
    "print(\"Passed! Good Job!\")\n",
    "\n",
    "### END HIDDEN TEST"
   ]
  },
  {
   "cell_type": "code",
   "execution_count": 87,
   "metadata": {
    "deletable": false,
    "editable": false,
    "nbgrader": {
     "cell_type": "code",
     "checksum": "62065fb54baac98e034dee0ebc54b864",
     "grade": false,
     "grade_id": "cell-b6f7d10444936b68",
     "locked": true,
     "schema_version": 3,
     "solution": false,
     "task": false
    }
   },
   "outputs": [],
   "source": [
    "# You can run this code to see how five_cluster labelling of players aligns with the data. \n",
    "#ggplot(player_data, aes(x = passes_z, y = goals_z, color = factor(five_cluster$cluster))) +\n",
    " # geom_point()\n",
    "\n",
    "\n",
    "#boxplot(player_data$passes_z ~ five_cluster$cluster, \n",
    " #       xlab=\"passes_z\", ylab=\"Cluster\", horizontal=TRUE)\n",
    "\n"
   ]
  },
  {
   "cell_type": "markdown",
   "metadata": {
    "deletable": false,
    "editable": false,
    "nbgrader": {
     "cell_type": "markdown",
     "checksum": "c50e586f752b7cecfc117a90d7daa8db",
     "grade": false,
     "grade_id": "cell-40eef249ac9eb310",
     "locked": true,
     "schema_version": 3,
     "solution": false,
     "task": false
    }
   },
   "source": [
    "With **five_cluster**, we have created five labels in the data. If we want to know which cluster best captures the best goal scorers in the dataset, we can calculate the mean **goals_z** values for each label in **labels_5**  in **player_data**.  Then, one cane conclde that the class label with the highest mean  **goals_z** value  captures the best goal scorers in the dataset. \n",
    "\n",
    "# Exercice 5:\n",
    "\n",
    "Calculate the mean **goals_z** values in the **player_data** for each label stored in **labels_5** columb and store your findings in a 5 by 2 data frame, the first column stores the **labels_5** and the second column stores the average **goals_z** values in the dataset.  Name your calculation as **mean_goals_z**. "
   ]
  },
  {
   "cell_type": "code",
   "execution_count": 88,
   "metadata": {
    "deletable": false,
    "nbgrader": {
     "cell_type": "code",
     "checksum": "f981e0df0cd2fa141ee4c29460c514c5",
     "grade": false,
     "grade_id": "cell-c48c9673d427ffcf",
     "locked": false,
     "schema_version": 3,
     "solution": true,
     "task": false
    }
   },
   "outputs": [
    {
     "data": {
      "text/html": [
       "<table>\n",
       "<caption>A data.frame: 5 × 2</caption>\n",
       "<thead>\n",
       "\t<tr><th scope=col>five_cluster$cluster</th><th scope=col>goals_z</th></tr>\n",
       "\t<tr><th scope=col>&lt;int&gt;</th><th scope=col>&lt;dbl&gt;</th></tr>\n",
       "</thead>\n",
       "<tbody>\n",
       "\t<tr><td>1</td><td>-0.2213264</td></tr>\n",
       "\t<tr><td>2</td><td>-0.2922514</td></tr>\n",
       "\t<tr><td>3</td><td> 0.3077187</td></tr>\n",
       "\t<tr><td>4</td><td> 1.7277796</td></tr>\n",
       "\t<tr><td>5</td><td>-0.2235495</td></tr>\n",
       "</tbody>\n",
       "</table>\n"
      ],
      "text/latex": [
       "A data.frame: 5 × 2\n",
       "\\begin{tabular}{ll}\n",
       " five\\_cluster\\$cluster & goals\\_z\\\\\n",
       " <int> & <dbl>\\\\\n",
       "\\hline\n",
       "\t 1 & -0.2213264\\\\\n",
       "\t 2 & -0.2922514\\\\\n",
       "\t 3 &  0.3077187\\\\\n",
       "\t 4 &  1.7277796\\\\\n",
       "\t 5 & -0.2235495\\\\\n",
       "\\end{tabular}\n"
      ],
      "text/markdown": [
       "\n",
       "A data.frame: 5 × 2\n",
       "\n",
       "| five_cluster$cluster &lt;int&gt; | goals_z &lt;dbl&gt; |\n",
       "|---|---|\n",
       "| 1 | -0.2213264 |\n",
       "| 2 | -0.2922514 |\n",
       "| 3 |  0.3077187 |\n",
       "| 4 |  1.7277796 |\n",
       "| 5 | -0.2235495 |\n",
       "\n"
      ],
      "text/plain": [
       "  five_cluster$cluster goals_z   \n",
       "1 1                    -0.2213264\n",
       "2 2                    -0.2922514\n",
       "3 3                     0.3077187\n",
       "4 4                     1.7277796\n",
       "5 5                    -0.2235495"
      ]
     },
     "metadata": {},
     "output_type": "display_data"
    }
   ],
   "source": [
    "# Exercise #5: calculate mean_goals_z\n",
    "\n",
    "# your code here\n",
    "\n",
    "mean_goals_z <- aggregate(data=player_data, goals_z ~ five_cluster$cluster, mean)\n",
    "\n",
    "\n",
    "mean_goals_z"
   ]
  },
  {
   "cell_type": "code",
   "execution_count": 89,
   "metadata": {
    "deletable": false,
    "editable": false,
    "nbgrader": {
     "cell_type": "code",
     "checksum": "81f06031e35a68b51d1008503aa1c9a9",
     "grade": true,
     "grade_id": "cell-79755942e85cf4fa",
     "locked": true,
     "points": 14,
     "schema_version": 3,
     "solution": false,
     "task": false
    }
   },
   "outputs": [
    {
     "name": "stdout",
     "output_type": "stream",
     "text": [
      "[1] \"Passed! Good Job!\"\n"
     ]
    }
   ],
   "source": [
    "# Test your code in here\n",
    "### BEGIN HIDDEN TEST\n",
    "\n",
    "test_that(\"Check the player_attributes dataset\", {\n",
    "    expect_equal(round(mean(mean_goals_z[,2]), 2),0.26)\n",
    "        \n",
    " expect_equal(as.integer(mean_goals_z[3,1]%*% mean_goals_z[4,2]),5)\n",
    "        \n",
    "    \n",
    "    \n",
    "})\n",
    "\n",
    "\n",
    "print(\"Passed! Good Job!\")\n",
    "\n",
    "### END HIDDEN TEST"
   ]
  },
  {
   "cell_type": "markdown",
   "metadata": {},
   "source": [
    "# Quality of the partition\n",
    "Selection of different level of k will give us a different class label. In cases where we do not know the true level of k, we need to use the data to learn it.  But, unfortunately, there is no clear answer to find the optimal k value. But, we can at least measure the quality of the partition by calculating the total sum of squares (TSS) explained by the partition. If  BSS and TSS stand for Between Sum of Squares and Total Sum of Squares, respectively,  we can calculate the TSS with the following formula:\n",
    "\n",
    "  $ quality=100*\\frac{BSS}{TSS}$.   Any partititon with higher TSS chas a better quality. \n",
    "\n",
    "# Exercise 6:\n",
    "\n",
    "Calculate the quality of partition in **five_cluster** and save it as **quality**.\n",
    " "
   ]
  },
  {
   "cell_type": "code",
   "execution_count": 90,
   "metadata": {
    "deletable": false,
    "nbgrader": {
     "cell_type": "code",
     "checksum": "3ba988081b6fbec77f1788126c7ff5df",
     "grade": false,
     "grade_id": "cell-d54d606ba5201250",
     "locked": false,
     "schema_version": 3,
     "solution": true,
     "task": false
    }
   },
   "outputs": [],
   "source": [
    "# Exercise #6: calculate TSS\n",
    "\n",
    "# your code here\n",
    "\n",
    "quality <- (five_cluster$betweenss / five_cluster$totss ) * 100\n"
   ]
  },
  {
   "cell_type": "code",
   "execution_count": 91,
   "metadata": {
    "deletable": false,
    "editable": false,
    "nbgrader": {
     "cell_type": "code",
     "checksum": "0c9a7d5e296f15cef99f80740f012a0c",
     "grade": true,
     "grade_id": "cell-6bb91943e7eaaae0",
     "locked": true,
     "points": 14,
     "schema_version": 3,
     "solution": false,
     "task": false
    }
   },
   "outputs": [
    {
     "name": "stdout",
     "output_type": "stream",
     "text": [
      "[1] \"Passed! Good Job!\"\n"
     ]
    }
   ],
   "source": [
    "# Test your code in here\n",
    "### BEGIN HIDDEN TEST\n",
    "\n",
    "test_that(\"Check the player_attributes dataset\", {\n",
    "    expect_equal(round(sqrt(exp(quality^0.5))),28)\n",
    "    \n",
    "})\n",
    "\n",
    "\n",
    "print(\"Passed! Good Job!\")\n",
    "\n",
    "### END HIDDEN TEST"
   ]
  },
  {
   "cell_type": "markdown",
   "metadata": {
    "deletable": false,
    "editable": false,
    "nbgrader": {
     "cell_type": "markdown",
     "checksum": "7142f347cc02e48717769233db2cd19a",
     "grade": false,
     "grade_id": "cell-413f9a0889c7dc38",
     "locked": true,
     "schema_version": 3,
     "solution": false,
     "task": false
    }
   },
   "source": [
    "The following picture was downloaded from https://projects.fivethirtyeight.com/world-cup-comparisons/lionel-messi-2018/ website. It shows the most similar soccer players in the World Cup tournaments to Lionel Messi in 2018 World Cup. \n",
    "Since K-means clustering does not produce any distance measure, we will first create an aggregated performance measure and then, your task will be to sort the data to see if our cluster labeling captures some of the players in this list."
   ]
  },
  {
   "cell_type": "markdown",
   "metadata": {
    "deletable": false,
    "editable": false,
    "nbgrader": {
     "cell_type": "markdown",
     "checksum": "71b330958829f8526469d9d6aae3ac69",
     "grade": false,
     "grade_id": "cell-55256f91346f5bfb",
     "locked": true,
     "schema_version": 3,
     "solution": false,
     "task": false
    }
   },
   "source": [
    "![title](messi.png)"
   ]
  },
  {
   "cell_type": "code",
   "execution_count": 92,
   "metadata": {
    "deletable": false,
    "editable": false,
    "nbgrader": {
     "cell_type": "code",
     "checksum": "cd320f4b4ff0ed3cc2b1187bdac82505",
     "grade": false,
     "grade_id": "cell-ce829c82592f74db",
     "locked": true,
     "schema_version": 3,
     "solution": false,
     "task": false
    }
   },
   "outputs": [],
   "source": [
    "# The code below creates a new column in player_data by adding up all 16 numerical scores for each player\n",
    "# the name of the aggregated player score is **TotalScore**\n",
    "# Run this code first\n",
    "\n",
    "temp1<-player_data%>%\n",
    "select(-player       ,-season,-team,-labels_5  )%>%\n",
    "mutate(TotalScore = rowSums(.))\n",
    "\n",
    "player_data$TotalScore<-temp1$TotalScore\n"
   ]
  },
  {
   "cell_type": "markdown",
   "metadata": {
    "deletable": false,
    "editable": false,
    "nbgrader": {
     "cell_type": "markdown",
     "checksum": "88297e06ab8d3d7be88df77eab2a7efe",
     "grade": false,
     "grade_id": "cell-f802125ad0d23250",
     "locked": true,
     "schema_version": 3,
     "solution": false,
     "task": false
    }
   },
   "source": [
    "# Exercise 7\n",
    "\n",
    "Create a table by folllowing the instructions listed below and name it as **MessiLikely**. \n",
    "\n",
    "- Take the **player_data** and filter the rows to keep observations when **labels_5** column takes the value of 3  (Lionel Messi was put in cluster 3 for the 2018 World Cup Tournament)\n",
    "- Sort the data by  **TotalScore** in descending order\n",
    "- Display only **player**, **TotalScore**, **Season** and **team** columns. \n",
    "- Display only the first 20 rows"
   ]
  },
  {
   "cell_type": "code",
   "execution_count": 93,
   "metadata": {},
   "outputs": [
    {
     "data": {
      "text/html": [
       "<table>\n",
       "<caption>A data.frame: 5899 × 21</caption>\n",
       "<thead>\n",
       "\t<tr><th scope=col>player</th><th scope=col>season</th><th scope=col>team</th><th scope=col>goals_z</th><th scope=col>xg_z</th><th scope=col>crosses_z</th><th scope=col>boxtouches_z</th><th scope=col>passes_z</th><th scope=col>progpasses_z</th><th scope=col>takeons_z</th><th scope=col>⋯</th><th scope=col>tackles_z</th><th scope=col>interceptions_z</th><th scope=col>clearances_z</th><th scope=col>blocks_z</th><th scope=col>aerials_z</th><th scope=col>fouls_z</th><th scope=col>fouled_z</th><th scope=col>nsxg_z</th><th scope=col>labels_5</th><th scope=col>TotalScore</th></tr>\n",
       "\t<tr><th scope=col>&lt;fct&gt;</th><th scope=col>&lt;int&gt;</th><th scope=col>&lt;fct&gt;</th><th scope=col>&lt;dbl&gt;</th><th scope=col>&lt;dbl&gt;</th><th scope=col>&lt;dbl&gt;</th><th scope=col>&lt;dbl&gt;</th><th scope=col>&lt;dbl&gt;</th><th scope=col>&lt;dbl&gt;</th><th scope=col>&lt;dbl&gt;</th><th scope=col>⋯</th><th scope=col>&lt;dbl&gt;</th><th scope=col>&lt;dbl&gt;</th><th scope=col>&lt;dbl&gt;</th><th scope=col>&lt;dbl&gt;</th><th scope=col>&lt;dbl&gt;</th><th scope=col>&lt;dbl&gt;</th><th scope=col>&lt;dbl&gt;</th><th scope=col>&lt;dbl&gt;</th><th scope=col>&lt;int&gt;</th><th scope=col>&lt;dbl&gt;</th></tr>\n",
       "</thead>\n",
       "<tbody>\n",
       "\t<tr><td>Cristian Pavón    </td><td>2018</td><td>Argentina</td><td>-0.42</td><td>-0.55</td><td> 0.08</td><td>-0.24</td><td>-0.61</td><td>-0.72</td><td>-0.05</td><td>⋯</td><td> 0.30</td><td>-0.79</td><td>-0.80</td><td>-0.45</td><td>-0.23</td><td>-0.38</td><td>-0.91</td><td>-0.58</td><td>2</td><td> -6.20</td></tr>\n",
       "\t<tr><td>Eduardo Salvio    </td><td>2018</td><td>Argentina</td><td>-0.42</td><td>-0.50</td><td>-0.51</td><td> 0.64</td><td> 0.02</td><td>-0.46</td><td>-0.05</td><td>⋯</td><td> 0.61</td><td> 0.67</td><td> 0.32</td><td>-0.45</td><td> 0.21</td><td>-1.11</td><td> 0.68</td><td>-0.03</td><td>2</td><td>  0.10</td></tr>\n",
       "\t<tr><td>Enzo Pérez        </td><td>2018</td><td>Argentina</td><td>-0.42</td><td> 0.11</td><td>-0.51</td><td>-0.69</td><td> 0.27</td><td>-0.65</td><td>-0.36</td><td>⋯</td><td> 0.35</td><td>-0.22</td><td>-0.80</td><td>-0.45</td><td>-0.89</td><td> 0.72</td><td> 0.04</td><td>-0.66</td><td>2</td><td> -4.50</td></tr>\n",
       "\t<tr><td>Federico Fazio    </td><td>2018</td><td>Argentina</td><td>-0.42</td><td>-0.59</td><td>-0.51</td><td>-0.69</td><td>-0.97</td><td>-0.91</td><td>-0.67</td><td>⋯</td><td>-0.82</td><td>-0.79</td><td>-0.64</td><td>-0.45</td><td> 0.21</td><td>-1.11</td><td>-0.59</td><td>-0.77</td><td>2</td><td>-10.56</td></tr>\n",
       "\t<tr><td>Franco Armani     </td><td>2018</td><td>Argentina</td><td>-0.42</td><td>-0.59</td><td>-0.51</td><td>-0.80</td><td>-0.67</td><td> 0.64</td><td>-0.67</td><td>⋯</td><td>-0.82</td><td>-0.79</td><td>-0.64</td><td>-0.45</td><td>-0.89</td><td>-1.11</td><td>-0.91</td><td>-0.77</td><td>2</td><td>-10.07</td></tr>\n",
       "\t<tr><td>Gabriel Mercado   </td><td>2018</td><td>Argentina</td><td> 1.30</td><td>-0.30</td><td> 0.08</td><td>-0.35</td><td> 1.00</td><td>-0.20</td><td>-0.36</td><td>⋯</td><td> 1.43</td><td> 0.79</td><td> 0.64</td><td> 0.73</td><td>-0.01</td><td> 1.81</td><td> 0.68</td><td>-0.47</td><td>2</td><td>  6.92</td></tr>\n",
       "\t<tr><td>Gonzalo Higuaín   </td><td>2018</td><td>Argentina</td><td>-0.42</td><td> 0.25</td><td>-0.51</td><td>-0.02</td><td>-0.77</td><td>-1.10</td><td>-0.36</td><td>⋯</td><td>-0.82</td><td>-0.79</td><td>-0.64</td><td>-0.45</td><td>-0.67</td><td>-0.38</td><td>-0.59</td><td>-0.31</td><td>2</td><td> -8.25</td></tr>\n",
       "\t<tr><td>Javier Mascherano </td><td>2018</td><td>Argentina</td><td>-0.42</td><td>-0.52</td><td>-0.51</td><td>-0.80</td><td> 3.25</td><td> 0.51</td><td> 0.26</td><td>⋯</td><td> 3.71</td><td> 2.75</td><td> 0.80</td><td>-0.45</td><td>-0.01</td><td> 4.37</td><td> 1.32</td><td>-0.31</td><td>2</td><td> 15.58</td></tr>\n",
       "\t<tr><td>Lionel Messi      </td><td>2018</td><td>Argentina</td><td> 1.30</td><td> 3.08</td><td> 0.66</td><td> 1.30</td><td> 1.17</td><td> 0.32</td><td> 6.76</td><td>⋯</td><td> 2.15</td><td>-0.79</td><td>-0.80</td><td>-0.45</td><td>-0.89</td><td> 0.35</td><td> 4.49</td><td> 4.55</td><td>2</td><td> 25.32</td></tr>\n",
       "\t<tr><td>Lucas Biglia      </td><td>2018</td><td>Argentina</td><td>-0.42</td><td>-0.50</td><td>-0.51</td><td>-0.35</td><td>-0.58</td><td>-0.91</td><td>-0.67</td><td>⋯</td><td>-0.11</td><td>-0.79</td><td>-0.80</td><td>-0.45</td><td>-0.45</td><td>-1.11</td><td>-0.59</td><td>-0.69</td><td>2</td><td> -9.77</td></tr>\n",
       "\t<tr><td>Marcos Acuña      </td><td>2018</td><td>Argentina</td><td>-0.42</td><td>-0.55</td><td> 0.08</td><td>-0.69</td><td>-0.83</td><td>-0.85</td><td>-0.36</td><td>⋯</td><td>-0.31</td><td>-0.79</td><td>-0.48</td><td> 0.73</td><td>-0.67</td><td>-0.74</td><td> 0.04</td><td>-0.50</td><td>2</td><td> -7.18</td></tr>\n",
       "\t<tr><td>Marcos Rojo       </td><td>2018</td><td>Argentina</td><td> 1.30</td><td>-0.17</td><td> 0.08</td><td>-0.02</td><td> 0.87</td><td> 0.19</td><td>-0.36</td><td>⋯</td><td> 0.49</td><td> 1.79</td><td> 1.44</td><td> 1.19</td><td> 1.53</td><td>-0.01</td><td>-0.27</td><td>-0.44</td><td>2</td><td>  9.07</td></tr>\n",
       "\t<tr><td>Maximiliano Meza  </td><td>2018</td><td>Argentina</td><td>-0.42</td><td> 0.07</td><td> 1.24</td><td> 1.30</td><td> 0.04</td><td>-0.78</td><td> 0.57</td><td>⋯</td><td> 0.25</td><td>-0.27</td><td>-0.48</td><td>-0.45</td><td>-0.67</td><td>-0.01</td><td> 1.32</td><td> 1.27</td><td>2</td><td>  4.28</td></tr>\n",
       "\t<tr><td>Nicolás Otamendi  </td><td>2018</td><td>Argentina</td><td>-0.42</td><td>-0.28</td><td>-0.51</td><td> 0.42</td><td> 2.51</td><td> 0.96</td><td>-0.67</td><td>⋯</td><td> 2.90</td><td> 3.48</td><td> 2.88</td><td> 2.37</td><td> 3.95</td><td>-0.01</td><td> 0.68</td><td>-0.47</td><td>2</td><td> 21.55</td></tr>\n",
       "\t<tr><td>Nicolás Tagliafico</td><td>2018</td><td>Argentina</td><td>-0.42</td><td>-0.37</td><td>-0.51</td><td>-0.02</td><td> 1.50</td><td> 0.51</td><td>-0.05</td><td>⋯</td><td> 0.77</td><td> 0.79</td><td> 0.48</td><td> 0.73</td><td> 0.21</td><td> 1.08</td><td> 1.32</td><td>-0.55</td><td>2</td><td>  5.62</td></tr>\n",
       "\t<tr><td>Sergio Agüero     </td><td>2018</td><td>Argentina</td><td> 3.02</td><td> 0.62</td><td>-0.51</td><td> 1.52</td><td>-0.54</td><td>-0.97</td><td> 0.26</td><td>⋯</td><td> 1.32</td><td>-0.27</td><td>-0.80</td><td>-0.45</td><td>-0.67</td><td>-1.11</td><td>-0.59</td><td>-0.28</td><td>2</td><td> -0.12</td></tr>\n",
       "\t<tr><td>Wilfredo Caballero</td><td>2018</td><td>Argentina</td><td>-0.42</td><td>-0.59</td><td>-0.51</td><td>-0.80</td><td>-0.75</td><td>-0.26</td><td>-0.67</td><td>⋯</td><td>-0.82</td><td>-0.79</td><td>-0.48</td><td>-0.45</td><td>-0.89</td><td>-1.11</td><td>-0.91</td><td>-0.77</td><td>2</td><td>-11.06</td></tr>\n",
       "\t<tr><td>Ángel Di María    </td><td>2018</td><td>Argentina</td><td> 1.30</td><td>-0.19</td><td> 1.24</td><td> 0.53</td><td>-0.39</td><td>-0.59</td><td> 0.26</td><td>⋯</td><td>-0.82</td><td>-0.12</td><td>-0.80</td><td>-0.45</td><td>-0.67</td><td>-0.74</td><td> 1.32</td><td> 0.80</td><td>2</td><td>  1.65</td></tr>\n",
       "\t<tr><td>Éver Banega       </td><td>2018</td><td>Argentina</td><td>-0.42</td><td>-0.39</td><td> 0.66</td><td>-0.35</td><td> 1.37</td><td> 0.90</td><td> 0.88</td><td>⋯</td><td> 2.94</td><td> 0.55</td><td>-0.48</td><td>-0.45</td><td>-0.89</td><td>-0.01</td><td> 0.04</td><td> 1.40</td><td>2</td><td>  7.54</td></tr>\n",
       "\t<tr><td>Aaron Mooy        </td><td>2018</td><td>Australia</td><td>-0.42</td><td>-0.27</td><td> 7.26</td><td>-0.80</td><td> 1.91</td><td> 0.53</td><td> 0.98</td><td>⋯</td><td>-0.28</td><td> 0.45</td><td> 1.12</td><td>-0.45</td><td>-0.60</td><td> 0.84</td><td>-0.49</td><td> 3.09</td><td>2</td><td> 12.69</td></tr>\n",
       "\t<tr><td>Andrew Nabbout    </td><td>2018</td><td>Australia</td><td>-0.42</td><td>-0.59</td><td>-0.51</td><td>-0.35</td><td>-1.00</td><td>-1.10</td><td>-0.26</td><td>⋯</td><td>-0.82</td><td>-0.79</td><td>-0.80</td><td>-0.45</td><td> 0.57</td><td>-0.62</td><td>-0.49</td><td>-0.66</td><td>2</td><td> -8.47</td></tr>\n",
       "\t<tr><td>Aziz Behich       </td><td>2018</td><td>Australia</td><td>-0.42</td><td>-0.30</td><td> 1.05</td><td> 0.09</td><td> 1.66</td><td> 0.96</td><td> 0.16</td><td>⋯</td><td> 0.39</td><td>-0.07</td><td> 0.26</td><td>-0.45</td><td>-0.89</td><td> 0.84</td><td>-0.06</td><td> 0.55</td><td>2</td><td>  4.68</td></tr>\n",
       "\t<tr><td>Daniel Arzani     </td><td>2018</td><td>Australia</td><td>-0.42</td><td>-0.38</td><td> 0.27</td><td>-0.35</td><td>-0.93</td><td>-1.02</td><td>-0.26</td><td>⋯</td><td>-0.82</td><td>-0.79</td><td>-0.80</td><td> 0.32</td><td>-0.89</td><td>-0.62</td><td>-0.49</td><td>-0.08</td><td>2</td><td> -6.78</td></tr>\n",
       "\t<tr><td>Jackson Irvine    </td><td>2018</td><td>Australia</td><td>-0.42</td><td>-0.59</td><td> 0.27</td><td>-0.50</td><td>-1.10</td><td>-1.02</td><td>-0.26</td><td>⋯</td><td> 0.22</td><td>-0.07</td><td>-0.80</td><td>-0.45</td><td>-0.89</td><td>-1.11</td><td>-0.49</td><td>-0.37</td><td>2</td><td> -8.42</td></tr>\n",
       "\t<tr><td>Joshua Risdon     </td><td>2018</td><td>Australia</td><td>-0.42</td><td>-0.47</td><td>-0.51</td><td>-0.06</td><td> 0.97</td><td> 2.51</td><td> 0.98</td><td>⋯</td><td> 3.57</td><td> 0.82</td><td> 1.97</td><td>-0.45</td><td>-0.60</td><td> 0.84</td><td>-0.49</td><td>-0.55</td><td>2</td><td>  8.37</td></tr>\n",
       "\t<tr><td>Mark Milligan     </td><td>2018</td><td>Australia</td><td>-0.42</td><td>-0.59</td><td>-0.51</td><td>-0.80</td><td> 3.13</td><td> 3.12</td><td>-0.67</td><td>⋯</td><td> 0.94</td><td> 0.66</td><td> 2.40</td><td>-0.45</td><td>-0.01</td><td> 0.35</td><td>-0.91</td><td>-0.15</td><td>2</td><td>  7.00</td></tr>\n",
       "\t<tr><td>Mathew Leckie     </td><td>2018</td><td>Australia</td><td>-0.42</td><td> 1.26</td><td> 0.27</td><td> 3.91</td><td>-0.18</td><td>-0.41</td><td> 0.98</td><td>⋯</td><td>-0.82</td><td>-0.45</td><td> 1.12</td><td>-0.45</td><td> 3.80</td><td> 1.81</td><td> 1.21</td><td> 0.88</td><td>2</td><td> 13.42</td></tr>\n",
       "\t<tr><td>Mathew Ryan       </td><td>2018</td><td>Australia</td><td>-0.42</td><td>-0.59</td><td>-0.51</td><td>-0.80</td><td> 0.78</td><td> 2.60</td><td>-0.67</td><td>⋯</td><td>-0.82</td><td>-0.79</td><td>-0.38</td><td>-0.45</td><td>-0.60</td><td>-1.11</td><td>-0.91</td><td>-0.77</td><td>2</td><td> -6.28</td></tr>\n",
       "\t<tr><td>Mile Jedinak      </td><td>2018</td><td>Australia</td><td> 4.17</td><td> 4.51</td><td> 0.27</td><td> 0.23</td><td> 1.56</td><td> 0.36</td><td> 0.16</td><td>⋯</td><td> 1.14</td><td> 1.00</td><td>-0.38</td><td> 0.32</td><td> 2.04</td><td> 1.81</td><td>-0.06</td><td>-0.15</td><td>2</td><td> 16.58</td></tr>\n",
       "\t<tr><td>Robbie Kruse      </td><td>2018</td><td>Australia</td><td>-0.42</td><td>-0.27</td><td>-0.51</td><td> 0.82</td><td>-0.45</td><td>-0.67</td><td>-0.26</td><td>⋯</td><td> 0.52</td><td>-0.79</td><td>-0.59</td><td>-0.45</td><td>-0.60</td><td>-0.14</td><td> 2.48</td><td>-0.63</td><td>2</td><td> -2.36</td></tr>\n",
       "\t<tr><td>⋮</td><td>⋮</td><td>⋮</td><td>⋮</td><td>⋮</td><td>⋮</td><td>⋮</td><td>⋮</td><td>⋮</td><td>⋮</td><td>⋱</td><td>⋮</td><td>⋮</td><td>⋮</td><td>⋮</td><td>⋮</td><td>⋮</td><td>⋮</td><td>⋮</td><td>⋮</td><td>⋮</td></tr>\n",
       "\t<tr><td>Victor Getmanov               </td><td>1966</td><td>USSR        </td><td>-0.39</td><td>-0.63</td><td>-0.62</td><td>-0.67</td><td>-1.48</td><td>-1.19</td><td>-0.77</td><td>⋯</td><td>-0.92</td><td>-0.86</td><td>-0.39</td><td>-0.62</td><td>-0.60</td><td>-0.82</td><td>-1.04</td><td>-0.93</td><td>2</td><td>-12.94</td></tr>\n",
       "\t<tr><td>Viktor Serebrjanikov          </td><td>1966</td><td>USSR        </td><td>-0.39</td><td>-0.17</td><td>-0.33</td><td>-0.34</td><td>-0.96</td><td>-0.87</td><td>-0.22</td><td>⋯</td><td>-0.57</td><td>-0.52</td><td>-0.63</td><td>-0.62</td><td> 0.46</td><td>-0.42</td><td>-0.48</td><td>-0.34</td><td>2</td><td> -7.41</td></tr>\n",
       "\t<tr><td>Vladimir Ponomarev            </td><td>1966</td><td>USSR        </td><td>-0.39</td><td>-0.59</td><td> 1.09</td><td>-0.67</td><td>-0.12</td><td> 0.16</td><td>-0.59</td><td>⋯</td><td> 0.63</td><td> 1.25</td><td> 1.30</td><td> 0.97</td><td>-0.33</td><td> 0.37</td><td>-0.30</td><td> 0.09</td><td>2</td><td>  2.08</td></tr>\n",
       "\t<tr><td>Domingo Pérez                 </td><td>1966</td><td>Uruguay     </td><td>-0.39</td><td>-0.22</td><td> 2.80</td><td> 1.54</td><td> 0.01</td><td>-0.28</td><td> 0.62</td><td>⋯</td><td>-0.99</td><td>-0.37</td><td>-0.60</td><td>-0.62</td><td>-0.20</td><td> 0.87</td><td> 1.47</td><td> 2.29</td><td>2</td><td>  6.86</td></tr>\n",
       "\t<tr><td>Horacio Troche                </td><td>1966</td><td>Uruguay     </td><td>-0.39</td><td>-0.60</td><td>-0.62</td><td>-0.67</td><td>-0.66</td><td>-0.37</td><td>-0.22</td><td>⋯</td><td> 0.14</td><td> 0.36</td><td> 4.64</td><td> 1.43</td><td> 0.59</td><td>-0.91</td><td>-0.20</td><td>-0.82</td><td>2</td><td>  1.17</td></tr>\n",
       "\t<tr><td>Héctor Salva                  </td><td>1966</td><td>Uruguay     </td><td>-0.39</td><td>-0.47</td><td> 0.67</td><td>-0.67</td><td>-1.14</td><td>-0.95</td><td>-0.77</td><td>⋯</td><td>-1.10</td><td>-1.01</td><td>-0.69</td><td>-0.62</td><td>-0.60</td><td>-0.62</td><td>-0.48</td><td>-0.25</td><td>2</td><td> -9.39</td></tr>\n",
       "\t<tr><td>Héctor Silva                  </td><td>1966</td><td>Uruguay     </td><td>-0.39</td><td>-0.09</td><td>-0.19</td><td>-0.10</td><td>-1.19</td><td>-1.19</td><td>-0.50</td><td>⋯</td><td>-0.85</td><td>-0.81</td><td>-0.60</td><td>-0.62</td><td>-0.60</td><td> 0.87</td><td>-0.76</td><td>-0.32</td><td>2</td><td> -7.64</td></tr>\n",
       "\t<tr><td>Jorge Manicera                </td><td>1966</td><td>Uruguay     </td><td>-0.39</td><td>-0.57</td><td>-0.62</td><td>-0.67</td><td>-0.12</td><td> 0.06</td><td> 0.34</td><td>⋯</td><td> 0.10</td><td> 1.29</td><td> 2.92</td><td> 0.52</td><td>-0.20</td><td>-0.02</td><td> 0.36</td><td>-0.22</td><td>2</td><td>  2.03</td></tr>\n",
       "\t<tr><td>José Sasía                    </td><td>1966</td><td>Uruguay     </td><td>-0.39</td><td> 0.86</td><td>-0.62</td><td> 1.29</td><td>-0.66</td><td>-0.71</td><td> 0.90</td><td>⋯</td><td>-0.99</td><td>-0.84</td><td>-0.60</td><td>-0.62</td><td> 0.99</td><td>-0.02</td><td> 0.08</td><td> 0.76</td><td>2</td><td> -0.65</td></tr>\n",
       "\t<tr><td>Julio Cesar Cortes            </td><td>1966</td><td>Uruguay     </td><td> 0.93</td><td> 1.27</td><td> 1.95</td><td> 0.15</td><td> 0.16</td><td> 0.21</td><td> 0.06</td><td>⋯</td><td>-0.08</td><td>-0.59</td><td>-0.24</td><td>-0.62</td><td> 0.20</td><td> 0.87</td><td> 1.47</td><td> 0.94</td><td>2</td><td>  6.94</td></tr>\n",
       "\t<tr><td>Ladislao Mazurkiewicz         </td><td>1966</td><td>Uruguay     </td><td>-0.39</td><td>-0.63</td><td>-0.62</td><td>-0.67</td><td> 0.40</td><td> 1.17</td><td>-0.77</td><td>⋯</td><td>-1.10</td><td>-1.01</td><td>-0.51</td><td>-0.62</td><td>-0.60</td><td>-1.21</td><td>-0.48</td><td>-0.93</td><td>2</td><td> -9.06</td></tr>\n",
       "\t<tr><td>Luis Ubiñas                   </td><td>1966</td><td>Uruguay     </td><td>-0.39</td><td>-0.45</td><td> 0.67</td><td>-0.34</td><td> 0.97</td><td> 1.90</td><td> 1.18</td><td>⋯</td><td> 0.93</td><td> 0.90</td><td> 1.02</td><td> 0.04</td><td> 0.20</td><td> 2.06</td><td>-0.20</td><td> 0.42</td><td>2</td><td> 10.95</td></tr>\n",
       "\t<tr><td>Milton Viera                  </td><td>1966</td><td>Uruguay     </td><td>-0.39</td><td>-0.22</td><td>-0.62</td><td>-0.51</td><td> 0.29</td><td>-0.66</td><td>-0.22</td><td>⋯</td><td> 0.32</td><td>-0.11</td><td>-0.42</td><td>-0.62</td><td>-0.60</td><td> 2.06</td><td>-0.48</td><td> 0.16</td><td>2</td><td> -1.88</td></tr>\n",
       "\t<tr><td>Néstor Gonçalves              </td><td>1966</td><td>Uruguay     </td><td>-0.39</td><td>-0.32</td><td>-0.19</td><td>-0.51</td><td> 0.90</td><td> 0.35</td><td> 0.34</td><td>⋯</td><td> 1.27</td><td> 0.83</td><td> 3.01</td><td> 1.16</td><td> 1.38</td><td>-0.02</td><td> 1.75</td><td>-0.39</td><td>2</td><td>  9.54</td></tr>\n",
       "\t<tr><td>Omar Caetano                  </td><td>1966</td><td>Uruguay     </td><td>-0.39</td><td>-0.55</td><td>-0.62</td><td>-0.51</td><td> 0.42</td><td> 0.74</td><td>-0.77</td><td>⋯</td><td> 0.13</td><td> 0.09</td><td> 0.75</td><td>-0.16</td><td>-0.20</td><td>-0.62</td><td>-0.20</td><td>-0.80</td><td>2</td><td> -2.10</td></tr>\n",
       "\t<tr><td>Pedro Virglio Rocha Franchetti</td><td>1966</td><td>Uruguay     </td><td> 0.93</td><td> 1.50</td><td>-0.62</td><td> 1.37</td><td> 1.07</td><td>-0.52</td><td> 2.30</td><td>⋯</td><td> 0.10</td><td>-0.13</td><td>-0.42</td><td>-0.62</td><td>-0.60</td><td> 0.57</td><td> 0.36</td><td> 0.55</td><td>2</td><td>  6.43</td></tr>\n",
       "\t<tr><td>Albert Brulls                 </td><td>1966</td><td>West Germany</td><td>-0.39</td><td>-0.56</td><td>-0.08</td><td>-0.62</td><td>-0.76</td><td>-0.41</td><td> 0.11</td><td>⋯</td><td>-0.55</td><td>-0.50</td><td>-0.69</td><td>-0.62</td><td>-0.60</td><td>-1.02</td><td>-0.51</td><td>-0.70</td><td>2</td><td> -8.00</td></tr>\n",
       "\t<tr><td>Franz Beckenbauer             </td><td>1966</td><td>West Germany</td><td> 2.94</td><td> 1.78</td><td>-0.35</td><td> 0.26</td><td> 0.74</td><td> 0.38</td><td> 2.05</td><td>⋯</td><td> 1.17</td><td> 0.68</td><td> 0.28</td><td> 1.47</td><td>-0.10</td><td> 0.67</td><td> 0.02</td><td> 1.52</td><td>2</td><td> 14.90</td></tr>\n",
       "\t<tr><td>Friedel Lutz                  </td><td>1966</td><td>West Germany</td><td>-0.39</td><td>-0.63</td><td>-0.62</td><td>-0.67</td><td>-1.55</td><td>-1.11</td><td>-0.77</td><td>⋯</td><td>-1.10</td><td>-0.47</td><td>-0.52</td><td>-0.18</td><td>-0.60</td><td>-0.84</td><td>-0.86</td><td>-0.93</td><td>2</td><td>-12.33</td></tr>\n",
       "\t<tr><td>Hans Tilkowski                </td><td>1966</td><td>West Germany</td><td>-0.39</td><td>-0.63</td><td>-0.62</td><td>-0.67</td><td> 0.68</td><td> 1.78</td><td>-0.77</td><td>⋯</td><td>-1.10</td><td>-1.01</td><td>-0.58</td><td>-0.62</td><td>-0.10</td><td>-1.21</td><td>-0.34</td><td>-0.88</td><td>2</td><td> -7.55</td></tr>\n",
       "\t<tr><td>Helmut Haller                 </td><td>1966</td><td>West Germany</td><td> 4.60</td><td> 2.07</td><td> 0.19</td><td> 0.83</td><td> 0.94</td><td> 0.63</td><td> 1.87</td><td>⋯</td><td>-0.03</td><td> 0.18</td><td>-0.63</td><td>-0.31</td><td>-0.10</td><td> 0.10</td><td> 1.25</td><td> 0.57</td><td>2</td><td> 13.26</td></tr>\n",
       "\t<tr><td>Horst-Dieter Hottges          </td><td>1966</td><td>West Germany</td><td>-0.39</td><td>-0.53</td><td>-0.35</td><td>-0.62</td><td>-0.09</td><td> 0.50</td><td>-0.60</td><td>⋯</td><td> 0.10</td><td> 0.78</td><td> 0.96</td><td> 0.94</td><td>-0.10</td><td> 0.48</td><td> 0.19</td><td>-0.73</td><td>2</td><td>  0.37</td></tr>\n",
       "\t<tr><td>Karl-Heinz Schnellinger       </td><td>1966</td><td>West Germany</td><td>-0.39</td><td>-0.43</td><td>-0.35</td><td>-0.46</td><td> 1.04</td><td> 1.27</td><td>-0.60</td><td>⋯</td><td> 1.03</td><td> 1.72</td><td> 1.02</td><td> 0.92</td><td> 2.90</td><td> 0.67</td><td> 0.55</td><td> 0.40</td><td>2</td><td>  9.12</td></tr>\n",
       "\t<tr><td>Lothar Emmerich               </td><td>1966</td><td>West Germany</td><td> 0.45</td><td> 0.36</td><td> 0.73</td><td> 0.72</td><td>-0.21</td><td>-0.07</td><td>-0.25</td><td>⋯</td><td>-0.40</td><td>-0.52</td><td>-0.52</td><td>-0.62</td><td> 0.15</td><td>-0.65</td><td> 0.55</td><td> 1.16</td><td>2</td><td>  0.64</td></tr>\n",
       "\t<tr><td>Siegfried Held                </td><td>1966</td><td>West Germany</td><td> 0.45</td><td> 1.18</td><td> 2.62</td><td> 1.86</td><td> 0.45</td><td> 0.05</td><td> 1.69</td><td>⋯</td><td>-0.70</td><td>-0.54</td><td>-0.69</td><td>-0.18</td><td>-0.10</td><td>-0.09</td><td> 1.43</td><td> 2.98</td><td>2</td><td> 13.35</td></tr>\n",
       "\t<tr><td>Uwe Seeler                    </td><td>1966</td><td>West Germany</td><td> 1.28</td><td> 3.01</td><td>-0.08</td><td> 4.34</td><td> 0.04</td><td>-0.65</td><td>-0.42</td><td>⋯</td><td>-0.68</td><td>-0.01</td><td>-0.63</td><td>-0.26</td><td> 2.90</td><td>-0.09</td><td> 2.14</td><td> 0.38</td><td>2</td><td> 11.24</td></tr>\n",
       "\t<tr><td>Werner Krämer                 </td><td>1966</td><td>West Germany</td><td>-0.39</td><td>-0.63</td><td> 0.46</td><td>-0.51</td><td>-1.53</td><td>-1.11</td><td>-0.60</td><td>⋯</td><td>-1.10</td><td>-0.85</td><td>-0.69</td><td>-0.62</td><td>-0.60</td><td>-1.21</td><td>-0.34</td><td>-0.17</td><td>2</td><td>-10.62</td></tr>\n",
       "\t<tr><td>Willi Schulz                  </td><td>1966</td><td>West Germany</td><td>-0.39</td><td>-0.63</td><td>-0.35</td><td>-0.67</td><td> 0.49</td><td> 0.41</td><td>-0.77</td><td>⋯</td><td> 1.48</td><td> 0.70</td><td> 2.45</td><td> 3.12</td><td> 0.15</td><td> 0.10</td><td>-0.51</td><td>-0.60</td><td>2</td><td>  4.32</td></tr>\n",
       "\t<tr><td>Wolfgang Overath              </td><td>1966</td><td>West Germany</td><td>-0.39</td><td>-0.12</td><td> 0.73</td><td> 0.05</td><td> 1.82</td><td> 0.87</td><td> 0.11</td><td>⋯</td><td> 1.64</td><td> 1.49</td><td>-0.46</td><td>-0.62</td><td>-0.35</td><td> 1.60</td><td> 0.55</td><td> 0.41</td><td>2</td><td>  7.59</td></tr>\n",
       "\t<tr><td>Wolfgang Weber                </td><td>1966</td><td>West Germany</td><td> 0.45</td><td>-0.16</td><td>-0.62</td><td>-0.41</td><td>-0.55</td><td>-0.41</td><td>-0.60</td><td>⋯</td><td> 0.17</td><td> 1.77</td><td> 2.05</td><td> 0.46</td><td> 1.65</td><td>-0.09</td><td> 1.25</td><td>-0.86</td><td>2</td><td>  3.58</td></tr>\n",
       "</tbody>\n",
       "</table>\n"
      ],
      "text/latex": [
       "A data.frame: 5899 × 21\n",
       "\\begin{tabular}{lllllllllllllllllllll}\n",
       " player & season & team & goals\\_z & xg\\_z & crosses\\_z & boxtouches\\_z & passes\\_z & progpasses\\_z & takeons\\_z & ⋯ & tackles\\_z & interceptions\\_z & clearances\\_z & blocks\\_z & aerials\\_z & fouls\\_z & fouled\\_z & nsxg\\_z & labels\\_5 & TotalScore\\\\\n",
       " <fct> & <int> & <fct> & <dbl> & <dbl> & <dbl> & <dbl> & <dbl> & <dbl> & <dbl> & ⋯ & <dbl> & <dbl> & <dbl> & <dbl> & <dbl> & <dbl> & <dbl> & <dbl> & <int> & <dbl>\\\\\n",
       "\\hline\n",
       "\t Cristian Pavón     & 2018 & Argentina & -0.42 & -0.55 &  0.08 & -0.24 & -0.61 & -0.72 & -0.05 & ⋯ &  0.30 & -0.79 & -0.80 & -0.45 & -0.23 & -0.38 & -0.91 & -0.58 & 2 &  -6.20\\\\\n",
       "\t Eduardo Salvio     & 2018 & Argentina & -0.42 & -0.50 & -0.51 &  0.64 &  0.02 & -0.46 & -0.05 & ⋯ &  0.61 &  0.67 &  0.32 & -0.45 &  0.21 & -1.11 &  0.68 & -0.03 & 2 &   0.10\\\\\n",
       "\t Enzo Pérez         & 2018 & Argentina & -0.42 &  0.11 & -0.51 & -0.69 &  0.27 & -0.65 & -0.36 & ⋯ &  0.35 & -0.22 & -0.80 & -0.45 & -0.89 &  0.72 &  0.04 & -0.66 & 2 &  -4.50\\\\\n",
       "\t Federico Fazio     & 2018 & Argentina & -0.42 & -0.59 & -0.51 & -0.69 & -0.97 & -0.91 & -0.67 & ⋯ & -0.82 & -0.79 & -0.64 & -0.45 &  0.21 & -1.11 & -0.59 & -0.77 & 2 & -10.56\\\\\n",
       "\t Franco Armani      & 2018 & Argentina & -0.42 & -0.59 & -0.51 & -0.80 & -0.67 &  0.64 & -0.67 & ⋯ & -0.82 & -0.79 & -0.64 & -0.45 & -0.89 & -1.11 & -0.91 & -0.77 & 2 & -10.07\\\\\n",
       "\t Gabriel Mercado    & 2018 & Argentina &  1.30 & -0.30 &  0.08 & -0.35 &  1.00 & -0.20 & -0.36 & ⋯ &  1.43 &  0.79 &  0.64 &  0.73 & -0.01 &  1.81 &  0.68 & -0.47 & 2 &   6.92\\\\\n",
       "\t Gonzalo Higuaín    & 2018 & Argentina & -0.42 &  0.25 & -0.51 & -0.02 & -0.77 & -1.10 & -0.36 & ⋯ & -0.82 & -0.79 & -0.64 & -0.45 & -0.67 & -0.38 & -0.59 & -0.31 & 2 &  -8.25\\\\\n",
       "\t Javier Mascherano  & 2018 & Argentina & -0.42 & -0.52 & -0.51 & -0.80 &  3.25 &  0.51 &  0.26 & ⋯ &  3.71 &  2.75 &  0.80 & -0.45 & -0.01 &  4.37 &  1.32 & -0.31 & 2 &  15.58\\\\\n",
       "\t Lionel Messi       & 2018 & Argentina &  1.30 &  3.08 &  0.66 &  1.30 &  1.17 &  0.32 &  6.76 & ⋯ &  2.15 & -0.79 & -0.80 & -0.45 & -0.89 &  0.35 &  4.49 &  4.55 & 2 &  25.32\\\\\n",
       "\t Lucas Biglia       & 2018 & Argentina & -0.42 & -0.50 & -0.51 & -0.35 & -0.58 & -0.91 & -0.67 & ⋯ & -0.11 & -0.79 & -0.80 & -0.45 & -0.45 & -1.11 & -0.59 & -0.69 & 2 &  -9.77\\\\\n",
       "\t Marcos Acuña       & 2018 & Argentina & -0.42 & -0.55 &  0.08 & -0.69 & -0.83 & -0.85 & -0.36 & ⋯ & -0.31 & -0.79 & -0.48 &  0.73 & -0.67 & -0.74 &  0.04 & -0.50 & 2 &  -7.18\\\\\n",
       "\t Marcos Rojo        & 2018 & Argentina &  1.30 & -0.17 &  0.08 & -0.02 &  0.87 &  0.19 & -0.36 & ⋯ &  0.49 &  1.79 &  1.44 &  1.19 &  1.53 & -0.01 & -0.27 & -0.44 & 2 &   9.07\\\\\n",
       "\t Maximiliano Meza   & 2018 & Argentina & -0.42 &  0.07 &  1.24 &  1.30 &  0.04 & -0.78 &  0.57 & ⋯ &  0.25 & -0.27 & -0.48 & -0.45 & -0.67 & -0.01 &  1.32 &  1.27 & 2 &   4.28\\\\\n",
       "\t Nicolás Otamendi   & 2018 & Argentina & -0.42 & -0.28 & -0.51 &  0.42 &  2.51 &  0.96 & -0.67 & ⋯ &  2.90 &  3.48 &  2.88 &  2.37 &  3.95 & -0.01 &  0.68 & -0.47 & 2 &  21.55\\\\\n",
       "\t Nicolás Tagliafico & 2018 & Argentina & -0.42 & -0.37 & -0.51 & -0.02 &  1.50 &  0.51 & -0.05 & ⋯ &  0.77 &  0.79 &  0.48 &  0.73 &  0.21 &  1.08 &  1.32 & -0.55 & 2 &   5.62\\\\\n",
       "\t Sergio Agüero      & 2018 & Argentina &  3.02 &  0.62 & -0.51 &  1.52 & -0.54 & -0.97 &  0.26 & ⋯ &  1.32 & -0.27 & -0.80 & -0.45 & -0.67 & -1.11 & -0.59 & -0.28 & 2 &  -0.12\\\\\n",
       "\t Wilfredo Caballero & 2018 & Argentina & -0.42 & -0.59 & -0.51 & -0.80 & -0.75 & -0.26 & -0.67 & ⋯ & -0.82 & -0.79 & -0.48 & -0.45 & -0.89 & -1.11 & -0.91 & -0.77 & 2 & -11.06\\\\\n",
       "\t Ángel Di María     & 2018 & Argentina &  1.30 & -0.19 &  1.24 &  0.53 & -0.39 & -0.59 &  0.26 & ⋯ & -0.82 & -0.12 & -0.80 & -0.45 & -0.67 & -0.74 &  1.32 &  0.80 & 2 &   1.65\\\\\n",
       "\t Éver Banega        & 2018 & Argentina & -0.42 & -0.39 &  0.66 & -0.35 &  1.37 &  0.90 &  0.88 & ⋯ &  2.94 &  0.55 & -0.48 & -0.45 & -0.89 & -0.01 &  0.04 &  1.40 & 2 &   7.54\\\\\n",
       "\t Aaron Mooy         & 2018 & Australia & -0.42 & -0.27 &  7.26 & -0.80 &  1.91 &  0.53 &  0.98 & ⋯ & -0.28 &  0.45 &  1.12 & -0.45 & -0.60 &  0.84 & -0.49 &  3.09 & 2 &  12.69\\\\\n",
       "\t Andrew Nabbout     & 2018 & Australia & -0.42 & -0.59 & -0.51 & -0.35 & -1.00 & -1.10 & -0.26 & ⋯ & -0.82 & -0.79 & -0.80 & -0.45 &  0.57 & -0.62 & -0.49 & -0.66 & 2 &  -8.47\\\\\n",
       "\t Aziz Behich        & 2018 & Australia & -0.42 & -0.30 &  1.05 &  0.09 &  1.66 &  0.96 &  0.16 & ⋯ &  0.39 & -0.07 &  0.26 & -0.45 & -0.89 &  0.84 & -0.06 &  0.55 & 2 &   4.68\\\\\n",
       "\t Daniel Arzani      & 2018 & Australia & -0.42 & -0.38 &  0.27 & -0.35 & -0.93 & -1.02 & -0.26 & ⋯ & -0.82 & -0.79 & -0.80 &  0.32 & -0.89 & -0.62 & -0.49 & -0.08 & 2 &  -6.78\\\\\n",
       "\t Jackson Irvine     & 2018 & Australia & -0.42 & -0.59 &  0.27 & -0.50 & -1.10 & -1.02 & -0.26 & ⋯ &  0.22 & -0.07 & -0.80 & -0.45 & -0.89 & -1.11 & -0.49 & -0.37 & 2 &  -8.42\\\\\n",
       "\t Joshua Risdon      & 2018 & Australia & -0.42 & -0.47 & -0.51 & -0.06 &  0.97 &  2.51 &  0.98 & ⋯ &  3.57 &  0.82 &  1.97 & -0.45 & -0.60 &  0.84 & -0.49 & -0.55 & 2 &   8.37\\\\\n",
       "\t Mark Milligan      & 2018 & Australia & -0.42 & -0.59 & -0.51 & -0.80 &  3.13 &  3.12 & -0.67 & ⋯ &  0.94 &  0.66 &  2.40 & -0.45 & -0.01 &  0.35 & -0.91 & -0.15 & 2 &   7.00\\\\\n",
       "\t Mathew Leckie      & 2018 & Australia & -0.42 &  1.26 &  0.27 &  3.91 & -0.18 & -0.41 &  0.98 & ⋯ & -0.82 & -0.45 &  1.12 & -0.45 &  3.80 &  1.81 &  1.21 &  0.88 & 2 &  13.42\\\\\n",
       "\t Mathew Ryan        & 2018 & Australia & -0.42 & -0.59 & -0.51 & -0.80 &  0.78 &  2.60 & -0.67 & ⋯ & -0.82 & -0.79 & -0.38 & -0.45 & -0.60 & -1.11 & -0.91 & -0.77 & 2 &  -6.28\\\\\n",
       "\t Mile Jedinak       & 2018 & Australia &  4.17 &  4.51 &  0.27 &  0.23 &  1.56 &  0.36 &  0.16 & ⋯ &  1.14 &  1.00 & -0.38 &  0.32 &  2.04 &  1.81 & -0.06 & -0.15 & 2 &  16.58\\\\\n",
       "\t Robbie Kruse       & 2018 & Australia & -0.42 & -0.27 & -0.51 &  0.82 & -0.45 & -0.67 & -0.26 & ⋯ &  0.52 & -0.79 & -0.59 & -0.45 & -0.60 & -0.14 &  2.48 & -0.63 & 2 &  -2.36\\\\\n",
       "\t ⋮ & ⋮ & ⋮ & ⋮ & ⋮ & ⋮ & ⋮ & ⋮ & ⋮ & ⋮ & ⋱ & ⋮ & ⋮ & ⋮ & ⋮ & ⋮ & ⋮ & ⋮ & ⋮ & ⋮ & ⋮\\\\\n",
       "\t Victor Getmanov                & 1966 & USSR         & -0.39 & -0.63 & -0.62 & -0.67 & -1.48 & -1.19 & -0.77 & ⋯ & -0.92 & -0.86 & -0.39 & -0.62 & -0.60 & -0.82 & -1.04 & -0.93 & 2 & -12.94\\\\\n",
       "\t Viktor Serebrjanikov           & 1966 & USSR         & -0.39 & -0.17 & -0.33 & -0.34 & -0.96 & -0.87 & -0.22 & ⋯ & -0.57 & -0.52 & -0.63 & -0.62 &  0.46 & -0.42 & -0.48 & -0.34 & 2 &  -7.41\\\\\n",
       "\t Vladimir Ponomarev             & 1966 & USSR         & -0.39 & -0.59 &  1.09 & -0.67 & -0.12 &  0.16 & -0.59 & ⋯ &  0.63 &  1.25 &  1.30 &  0.97 & -0.33 &  0.37 & -0.30 &  0.09 & 2 &   2.08\\\\\n",
       "\t Domingo Pérez                  & 1966 & Uruguay      & -0.39 & -0.22 &  2.80 &  1.54 &  0.01 & -0.28 &  0.62 & ⋯ & -0.99 & -0.37 & -0.60 & -0.62 & -0.20 &  0.87 &  1.47 &  2.29 & 2 &   6.86\\\\\n",
       "\t Horacio Troche                 & 1966 & Uruguay      & -0.39 & -0.60 & -0.62 & -0.67 & -0.66 & -0.37 & -0.22 & ⋯ &  0.14 &  0.36 &  4.64 &  1.43 &  0.59 & -0.91 & -0.20 & -0.82 & 2 &   1.17\\\\\n",
       "\t Héctor Salva                   & 1966 & Uruguay      & -0.39 & -0.47 &  0.67 & -0.67 & -1.14 & -0.95 & -0.77 & ⋯ & -1.10 & -1.01 & -0.69 & -0.62 & -0.60 & -0.62 & -0.48 & -0.25 & 2 &  -9.39\\\\\n",
       "\t Héctor Silva                   & 1966 & Uruguay      & -0.39 & -0.09 & -0.19 & -0.10 & -1.19 & -1.19 & -0.50 & ⋯ & -0.85 & -0.81 & -0.60 & -0.62 & -0.60 &  0.87 & -0.76 & -0.32 & 2 &  -7.64\\\\\n",
       "\t Jorge Manicera                 & 1966 & Uruguay      & -0.39 & -0.57 & -0.62 & -0.67 & -0.12 &  0.06 &  0.34 & ⋯ &  0.10 &  1.29 &  2.92 &  0.52 & -0.20 & -0.02 &  0.36 & -0.22 & 2 &   2.03\\\\\n",
       "\t José Sasía                     & 1966 & Uruguay      & -0.39 &  0.86 & -0.62 &  1.29 & -0.66 & -0.71 &  0.90 & ⋯ & -0.99 & -0.84 & -0.60 & -0.62 &  0.99 & -0.02 &  0.08 &  0.76 & 2 &  -0.65\\\\\n",
       "\t Julio Cesar Cortes             & 1966 & Uruguay      &  0.93 &  1.27 &  1.95 &  0.15 &  0.16 &  0.21 &  0.06 & ⋯ & -0.08 & -0.59 & -0.24 & -0.62 &  0.20 &  0.87 &  1.47 &  0.94 & 2 &   6.94\\\\\n",
       "\t Ladislao Mazurkiewicz          & 1966 & Uruguay      & -0.39 & -0.63 & -0.62 & -0.67 &  0.40 &  1.17 & -0.77 & ⋯ & -1.10 & -1.01 & -0.51 & -0.62 & -0.60 & -1.21 & -0.48 & -0.93 & 2 &  -9.06\\\\\n",
       "\t Luis Ubiñas                    & 1966 & Uruguay      & -0.39 & -0.45 &  0.67 & -0.34 &  0.97 &  1.90 &  1.18 & ⋯ &  0.93 &  0.90 &  1.02 &  0.04 &  0.20 &  2.06 & -0.20 &  0.42 & 2 &  10.95\\\\\n",
       "\t Milton Viera                   & 1966 & Uruguay      & -0.39 & -0.22 & -0.62 & -0.51 &  0.29 & -0.66 & -0.22 & ⋯ &  0.32 & -0.11 & -0.42 & -0.62 & -0.60 &  2.06 & -0.48 &  0.16 & 2 &  -1.88\\\\\n",
       "\t Néstor Gonçalves               & 1966 & Uruguay      & -0.39 & -0.32 & -0.19 & -0.51 &  0.90 &  0.35 &  0.34 & ⋯ &  1.27 &  0.83 &  3.01 &  1.16 &  1.38 & -0.02 &  1.75 & -0.39 & 2 &   9.54\\\\\n",
       "\t Omar Caetano                   & 1966 & Uruguay      & -0.39 & -0.55 & -0.62 & -0.51 &  0.42 &  0.74 & -0.77 & ⋯ &  0.13 &  0.09 &  0.75 & -0.16 & -0.20 & -0.62 & -0.20 & -0.80 & 2 &  -2.10\\\\\n",
       "\t Pedro Virglio Rocha Franchetti & 1966 & Uruguay      &  0.93 &  1.50 & -0.62 &  1.37 &  1.07 & -0.52 &  2.30 & ⋯ &  0.10 & -0.13 & -0.42 & -0.62 & -0.60 &  0.57 &  0.36 &  0.55 & 2 &   6.43\\\\\n",
       "\t Albert Brulls                  & 1966 & West Germany & -0.39 & -0.56 & -0.08 & -0.62 & -0.76 & -0.41 &  0.11 & ⋯ & -0.55 & -0.50 & -0.69 & -0.62 & -0.60 & -1.02 & -0.51 & -0.70 & 2 &  -8.00\\\\\n",
       "\t Franz Beckenbauer              & 1966 & West Germany &  2.94 &  1.78 & -0.35 &  0.26 &  0.74 &  0.38 &  2.05 & ⋯ &  1.17 &  0.68 &  0.28 &  1.47 & -0.10 &  0.67 &  0.02 &  1.52 & 2 &  14.90\\\\\n",
       "\t Friedel Lutz                   & 1966 & West Germany & -0.39 & -0.63 & -0.62 & -0.67 & -1.55 & -1.11 & -0.77 & ⋯ & -1.10 & -0.47 & -0.52 & -0.18 & -0.60 & -0.84 & -0.86 & -0.93 & 2 & -12.33\\\\\n",
       "\t Hans Tilkowski                 & 1966 & West Germany & -0.39 & -0.63 & -0.62 & -0.67 &  0.68 &  1.78 & -0.77 & ⋯ & -1.10 & -1.01 & -0.58 & -0.62 & -0.10 & -1.21 & -0.34 & -0.88 & 2 &  -7.55\\\\\n",
       "\t Helmut Haller                  & 1966 & West Germany &  4.60 &  2.07 &  0.19 &  0.83 &  0.94 &  0.63 &  1.87 & ⋯ & -0.03 &  0.18 & -0.63 & -0.31 & -0.10 &  0.10 &  1.25 &  0.57 & 2 &  13.26\\\\\n",
       "\t Horst-Dieter Hottges           & 1966 & West Germany & -0.39 & -0.53 & -0.35 & -0.62 & -0.09 &  0.50 & -0.60 & ⋯ &  0.10 &  0.78 &  0.96 &  0.94 & -0.10 &  0.48 &  0.19 & -0.73 & 2 &   0.37\\\\\n",
       "\t Karl-Heinz Schnellinger        & 1966 & West Germany & -0.39 & -0.43 & -0.35 & -0.46 &  1.04 &  1.27 & -0.60 & ⋯ &  1.03 &  1.72 &  1.02 &  0.92 &  2.90 &  0.67 &  0.55 &  0.40 & 2 &   9.12\\\\\n",
       "\t Lothar Emmerich                & 1966 & West Germany &  0.45 &  0.36 &  0.73 &  0.72 & -0.21 & -0.07 & -0.25 & ⋯ & -0.40 & -0.52 & -0.52 & -0.62 &  0.15 & -0.65 &  0.55 &  1.16 & 2 &   0.64\\\\\n",
       "\t Siegfried Held                 & 1966 & West Germany &  0.45 &  1.18 &  2.62 &  1.86 &  0.45 &  0.05 &  1.69 & ⋯ & -0.70 & -0.54 & -0.69 & -0.18 & -0.10 & -0.09 &  1.43 &  2.98 & 2 &  13.35\\\\\n",
       "\t Uwe Seeler                     & 1966 & West Germany &  1.28 &  3.01 & -0.08 &  4.34 &  0.04 & -0.65 & -0.42 & ⋯ & -0.68 & -0.01 & -0.63 & -0.26 &  2.90 & -0.09 &  2.14 &  0.38 & 2 &  11.24\\\\\n",
       "\t Werner Krämer                  & 1966 & West Germany & -0.39 & -0.63 &  0.46 & -0.51 & -1.53 & -1.11 & -0.60 & ⋯ & -1.10 & -0.85 & -0.69 & -0.62 & -0.60 & -1.21 & -0.34 & -0.17 & 2 & -10.62\\\\\n",
       "\t Willi Schulz                   & 1966 & West Germany & -0.39 & -0.63 & -0.35 & -0.67 &  0.49 &  0.41 & -0.77 & ⋯ &  1.48 &  0.70 &  2.45 &  3.12 &  0.15 &  0.10 & -0.51 & -0.60 & 2 &   4.32\\\\\n",
       "\t Wolfgang Overath               & 1966 & West Germany & -0.39 & -0.12 &  0.73 &  0.05 &  1.82 &  0.87 &  0.11 & ⋯ &  1.64 &  1.49 & -0.46 & -0.62 & -0.35 &  1.60 &  0.55 &  0.41 & 2 &   7.59\\\\\n",
       "\t Wolfgang Weber                 & 1966 & West Germany &  0.45 & -0.16 & -0.62 & -0.41 & -0.55 & -0.41 & -0.60 & ⋯ &  0.17 &  1.77 &  2.05 &  0.46 &  1.65 & -0.09 &  1.25 & -0.86 & 2 &   3.58\\\\\n",
       "\\end{tabular}\n"
      ],
      "text/markdown": [
       "\n",
       "A data.frame: 5899 × 21\n",
       "\n",
       "| player &lt;fct&gt; | season &lt;int&gt; | team &lt;fct&gt; | goals_z &lt;dbl&gt; | xg_z &lt;dbl&gt; | crosses_z &lt;dbl&gt; | boxtouches_z &lt;dbl&gt; | passes_z &lt;dbl&gt; | progpasses_z &lt;dbl&gt; | takeons_z &lt;dbl&gt; | ⋯ ⋯ | tackles_z &lt;dbl&gt; | interceptions_z &lt;dbl&gt; | clearances_z &lt;dbl&gt; | blocks_z &lt;dbl&gt; | aerials_z &lt;dbl&gt; | fouls_z &lt;dbl&gt; | fouled_z &lt;dbl&gt; | nsxg_z &lt;dbl&gt; | labels_5 &lt;int&gt; | TotalScore &lt;dbl&gt; |\n",
       "|---|---|---|---|---|---|---|---|---|---|---|---|---|---|---|---|---|---|---|---|---|\n",
       "| Cristian Pavón     | 2018 | Argentina | -0.42 | -0.55 |  0.08 | -0.24 | -0.61 | -0.72 | -0.05 | ⋯ |  0.30 | -0.79 | -0.80 | -0.45 | -0.23 | -0.38 | -0.91 | -0.58 | 2 |  -6.20 |\n",
       "| Eduardo Salvio     | 2018 | Argentina | -0.42 | -0.50 | -0.51 |  0.64 |  0.02 | -0.46 | -0.05 | ⋯ |  0.61 |  0.67 |  0.32 | -0.45 |  0.21 | -1.11 |  0.68 | -0.03 | 2 |   0.10 |\n",
       "| Enzo Pérez         | 2018 | Argentina | -0.42 |  0.11 | -0.51 | -0.69 |  0.27 | -0.65 | -0.36 | ⋯ |  0.35 | -0.22 | -0.80 | -0.45 | -0.89 |  0.72 |  0.04 | -0.66 | 2 |  -4.50 |\n",
       "| Federico Fazio     | 2018 | Argentina | -0.42 | -0.59 | -0.51 | -0.69 | -0.97 | -0.91 | -0.67 | ⋯ | -0.82 | -0.79 | -0.64 | -0.45 |  0.21 | -1.11 | -0.59 | -0.77 | 2 | -10.56 |\n",
       "| Franco Armani      | 2018 | Argentina | -0.42 | -0.59 | -0.51 | -0.80 | -0.67 |  0.64 | -0.67 | ⋯ | -0.82 | -0.79 | -0.64 | -0.45 | -0.89 | -1.11 | -0.91 | -0.77 | 2 | -10.07 |\n",
       "| Gabriel Mercado    | 2018 | Argentina |  1.30 | -0.30 |  0.08 | -0.35 |  1.00 | -0.20 | -0.36 | ⋯ |  1.43 |  0.79 |  0.64 |  0.73 | -0.01 |  1.81 |  0.68 | -0.47 | 2 |   6.92 |\n",
       "| Gonzalo Higuaín    | 2018 | Argentina | -0.42 |  0.25 | -0.51 | -0.02 | -0.77 | -1.10 | -0.36 | ⋯ | -0.82 | -0.79 | -0.64 | -0.45 | -0.67 | -0.38 | -0.59 | -0.31 | 2 |  -8.25 |\n",
       "| Javier Mascherano  | 2018 | Argentina | -0.42 | -0.52 | -0.51 | -0.80 |  3.25 |  0.51 |  0.26 | ⋯ |  3.71 |  2.75 |  0.80 | -0.45 | -0.01 |  4.37 |  1.32 | -0.31 | 2 |  15.58 |\n",
       "| Lionel Messi       | 2018 | Argentina |  1.30 |  3.08 |  0.66 |  1.30 |  1.17 |  0.32 |  6.76 | ⋯ |  2.15 | -0.79 | -0.80 | -0.45 | -0.89 |  0.35 |  4.49 |  4.55 | 2 |  25.32 |\n",
       "| Lucas Biglia       | 2018 | Argentina | -0.42 | -0.50 | -0.51 | -0.35 | -0.58 | -0.91 | -0.67 | ⋯ | -0.11 | -0.79 | -0.80 | -0.45 | -0.45 | -1.11 | -0.59 | -0.69 | 2 |  -9.77 |\n",
       "| Marcos Acuña       | 2018 | Argentina | -0.42 | -0.55 |  0.08 | -0.69 | -0.83 | -0.85 | -0.36 | ⋯ | -0.31 | -0.79 | -0.48 |  0.73 | -0.67 | -0.74 |  0.04 | -0.50 | 2 |  -7.18 |\n",
       "| Marcos Rojo        | 2018 | Argentina |  1.30 | -0.17 |  0.08 | -0.02 |  0.87 |  0.19 | -0.36 | ⋯ |  0.49 |  1.79 |  1.44 |  1.19 |  1.53 | -0.01 | -0.27 | -0.44 | 2 |   9.07 |\n",
       "| Maximiliano Meza   | 2018 | Argentina | -0.42 |  0.07 |  1.24 |  1.30 |  0.04 | -0.78 |  0.57 | ⋯ |  0.25 | -0.27 | -0.48 | -0.45 | -0.67 | -0.01 |  1.32 |  1.27 | 2 |   4.28 |\n",
       "| Nicolás Otamendi   | 2018 | Argentina | -0.42 | -0.28 | -0.51 |  0.42 |  2.51 |  0.96 | -0.67 | ⋯ |  2.90 |  3.48 |  2.88 |  2.37 |  3.95 | -0.01 |  0.68 | -0.47 | 2 |  21.55 |\n",
       "| Nicolás Tagliafico | 2018 | Argentina | -0.42 | -0.37 | -0.51 | -0.02 |  1.50 |  0.51 | -0.05 | ⋯ |  0.77 |  0.79 |  0.48 |  0.73 |  0.21 |  1.08 |  1.32 | -0.55 | 2 |   5.62 |\n",
       "| Sergio Agüero      | 2018 | Argentina |  3.02 |  0.62 | -0.51 |  1.52 | -0.54 | -0.97 |  0.26 | ⋯ |  1.32 | -0.27 | -0.80 | -0.45 | -0.67 | -1.11 | -0.59 | -0.28 | 2 |  -0.12 |\n",
       "| Wilfredo Caballero | 2018 | Argentina | -0.42 | -0.59 | -0.51 | -0.80 | -0.75 | -0.26 | -0.67 | ⋯ | -0.82 | -0.79 | -0.48 | -0.45 | -0.89 | -1.11 | -0.91 | -0.77 | 2 | -11.06 |\n",
       "| Ángel Di María     | 2018 | Argentina |  1.30 | -0.19 |  1.24 |  0.53 | -0.39 | -0.59 |  0.26 | ⋯ | -0.82 | -0.12 | -0.80 | -0.45 | -0.67 | -0.74 |  1.32 |  0.80 | 2 |   1.65 |\n",
       "| Éver Banega        | 2018 | Argentina | -0.42 | -0.39 |  0.66 | -0.35 |  1.37 |  0.90 |  0.88 | ⋯ |  2.94 |  0.55 | -0.48 | -0.45 | -0.89 | -0.01 |  0.04 |  1.40 | 2 |   7.54 |\n",
       "| Aaron Mooy         | 2018 | Australia | -0.42 | -0.27 |  7.26 | -0.80 |  1.91 |  0.53 |  0.98 | ⋯ | -0.28 |  0.45 |  1.12 | -0.45 | -0.60 |  0.84 | -0.49 |  3.09 | 2 |  12.69 |\n",
       "| Andrew Nabbout     | 2018 | Australia | -0.42 | -0.59 | -0.51 | -0.35 | -1.00 | -1.10 | -0.26 | ⋯ | -0.82 | -0.79 | -0.80 | -0.45 |  0.57 | -0.62 | -0.49 | -0.66 | 2 |  -8.47 |\n",
       "| Aziz Behich        | 2018 | Australia | -0.42 | -0.30 |  1.05 |  0.09 |  1.66 |  0.96 |  0.16 | ⋯ |  0.39 | -0.07 |  0.26 | -0.45 | -0.89 |  0.84 | -0.06 |  0.55 | 2 |   4.68 |\n",
       "| Daniel Arzani      | 2018 | Australia | -0.42 | -0.38 |  0.27 | -0.35 | -0.93 | -1.02 | -0.26 | ⋯ | -0.82 | -0.79 | -0.80 |  0.32 | -0.89 | -0.62 | -0.49 | -0.08 | 2 |  -6.78 |\n",
       "| Jackson Irvine     | 2018 | Australia | -0.42 | -0.59 |  0.27 | -0.50 | -1.10 | -1.02 | -0.26 | ⋯ |  0.22 | -0.07 | -0.80 | -0.45 | -0.89 | -1.11 | -0.49 | -0.37 | 2 |  -8.42 |\n",
       "| Joshua Risdon      | 2018 | Australia | -0.42 | -0.47 | -0.51 | -0.06 |  0.97 |  2.51 |  0.98 | ⋯ |  3.57 |  0.82 |  1.97 | -0.45 | -0.60 |  0.84 | -0.49 | -0.55 | 2 |   8.37 |\n",
       "| Mark Milligan      | 2018 | Australia | -0.42 | -0.59 | -0.51 | -0.80 |  3.13 |  3.12 | -0.67 | ⋯ |  0.94 |  0.66 |  2.40 | -0.45 | -0.01 |  0.35 | -0.91 | -0.15 | 2 |   7.00 |\n",
       "| Mathew Leckie      | 2018 | Australia | -0.42 |  1.26 |  0.27 |  3.91 | -0.18 | -0.41 |  0.98 | ⋯ | -0.82 | -0.45 |  1.12 | -0.45 |  3.80 |  1.81 |  1.21 |  0.88 | 2 |  13.42 |\n",
       "| Mathew Ryan        | 2018 | Australia | -0.42 | -0.59 | -0.51 | -0.80 |  0.78 |  2.60 | -0.67 | ⋯ | -0.82 | -0.79 | -0.38 | -0.45 | -0.60 | -1.11 | -0.91 | -0.77 | 2 |  -6.28 |\n",
       "| Mile Jedinak       | 2018 | Australia |  4.17 |  4.51 |  0.27 |  0.23 |  1.56 |  0.36 |  0.16 | ⋯ |  1.14 |  1.00 | -0.38 |  0.32 |  2.04 |  1.81 | -0.06 | -0.15 | 2 |  16.58 |\n",
       "| Robbie Kruse       | 2018 | Australia | -0.42 | -0.27 | -0.51 |  0.82 | -0.45 | -0.67 | -0.26 | ⋯ |  0.52 | -0.79 | -0.59 | -0.45 | -0.60 | -0.14 |  2.48 | -0.63 | 2 |  -2.36 |\n",
       "| ⋮ | ⋮ | ⋮ | ⋮ | ⋮ | ⋮ | ⋮ | ⋮ | ⋮ | ⋮ | ⋱ | ⋮ | ⋮ | ⋮ | ⋮ | ⋮ | ⋮ | ⋮ | ⋮ | ⋮ | ⋮ |\n",
       "| Victor Getmanov                | 1966 | USSR         | -0.39 | -0.63 | -0.62 | -0.67 | -1.48 | -1.19 | -0.77 | ⋯ | -0.92 | -0.86 | -0.39 | -0.62 | -0.60 | -0.82 | -1.04 | -0.93 | 2 | -12.94 |\n",
       "| Viktor Serebrjanikov           | 1966 | USSR         | -0.39 | -0.17 | -0.33 | -0.34 | -0.96 | -0.87 | -0.22 | ⋯ | -0.57 | -0.52 | -0.63 | -0.62 |  0.46 | -0.42 | -0.48 | -0.34 | 2 |  -7.41 |\n",
       "| Vladimir Ponomarev             | 1966 | USSR         | -0.39 | -0.59 |  1.09 | -0.67 | -0.12 |  0.16 | -0.59 | ⋯ |  0.63 |  1.25 |  1.30 |  0.97 | -0.33 |  0.37 | -0.30 |  0.09 | 2 |   2.08 |\n",
       "| Domingo Pérez                  | 1966 | Uruguay      | -0.39 | -0.22 |  2.80 |  1.54 |  0.01 | -0.28 |  0.62 | ⋯ | -0.99 | -0.37 | -0.60 | -0.62 | -0.20 |  0.87 |  1.47 |  2.29 | 2 |   6.86 |\n",
       "| Horacio Troche                 | 1966 | Uruguay      | -0.39 | -0.60 | -0.62 | -0.67 | -0.66 | -0.37 | -0.22 | ⋯ |  0.14 |  0.36 |  4.64 |  1.43 |  0.59 | -0.91 | -0.20 | -0.82 | 2 |   1.17 |\n",
       "| Héctor Salva                   | 1966 | Uruguay      | -0.39 | -0.47 |  0.67 | -0.67 | -1.14 | -0.95 | -0.77 | ⋯ | -1.10 | -1.01 | -0.69 | -0.62 | -0.60 | -0.62 | -0.48 | -0.25 | 2 |  -9.39 |\n",
       "| Héctor Silva                   | 1966 | Uruguay      | -0.39 | -0.09 | -0.19 | -0.10 | -1.19 | -1.19 | -0.50 | ⋯ | -0.85 | -0.81 | -0.60 | -0.62 | -0.60 |  0.87 | -0.76 | -0.32 | 2 |  -7.64 |\n",
       "| Jorge Manicera                 | 1966 | Uruguay      | -0.39 | -0.57 | -0.62 | -0.67 | -0.12 |  0.06 |  0.34 | ⋯ |  0.10 |  1.29 |  2.92 |  0.52 | -0.20 | -0.02 |  0.36 | -0.22 | 2 |   2.03 |\n",
       "| José Sasía                     | 1966 | Uruguay      | -0.39 |  0.86 | -0.62 |  1.29 | -0.66 | -0.71 |  0.90 | ⋯ | -0.99 | -0.84 | -0.60 | -0.62 |  0.99 | -0.02 |  0.08 |  0.76 | 2 |  -0.65 |\n",
       "| Julio Cesar Cortes             | 1966 | Uruguay      |  0.93 |  1.27 |  1.95 |  0.15 |  0.16 |  0.21 |  0.06 | ⋯ | -0.08 | -0.59 | -0.24 | -0.62 |  0.20 |  0.87 |  1.47 |  0.94 | 2 |   6.94 |\n",
       "| Ladislao Mazurkiewicz          | 1966 | Uruguay      | -0.39 | -0.63 | -0.62 | -0.67 |  0.40 |  1.17 | -0.77 | ⋯ | -1.10 | -1.01 | -0.51 | -0.62 | -0.60 | -1.21 | -0.48 | -0.93 | 2 |  -9.06 |\n",
       "| Luis Ubiñas                    | 1966 | Uruguay      | -0.39 | -0.45 |  0.67 | -0.34 |  0.97 |  1.90 |  1.18 | ⋯ |  0.93 |  0.90 |  1.02 |  0.04 |  0.20 |  2.06 | -0.20 |  0.42 | 2 |  10.95 |\n",
       "| Milton Viera                   | 1966 | Uruguay      | -0.39 | -0.22 | -0.62 | -0.51 |  0.29 | -0.66 | -0.22 | ⋯ |  0.32 | -0.11 | -0.42 | -0.62 | -0.60 |  2.06 | -0.48 |  0.16 | 2 |  -1.88 |\n",
       "| Néstor Gonçalves               | 1966 | Uruguay      | -0.39 | -0.32 | -0.19 | -0.51 |  0.90 |  0.35 |  0.34 | ⋯ |  1.27 |  0.83 |  3.01 |  1.16 |  1.38 | -0.02 |  1.75 | -0.39 | 2 |   9.54 |\n",
       "| Omar Caetano                   | 1966 | Uruguay      | -0.39 | -0.55 | -0.62 | -0.51 |  0.42 |  0.74 | -0.77 | ⋯ |  0.13 |  0.09 |  0.75 | -0.16 | -0.20 | -0.62 | -0.20 | -0.80 | 2 |  -2.10 |\n",
       "| Pedro Virglio Rocha Franchetti | 1966 | Uruguay      |  0.93 |  1.50 | -0.62 |  1.37 |  1.07 | -0.52 |  2.30 | ⋯ |  0.10 | -0.13 | -0.42 | -0.62 | -0.60 |  0.57 |  0.36 |  0.55 | 2 |   6.43 |\n",
       "| Albert Brulls                  | 1966 | West Germany | -0.39 | -0.56 | -0.08 | -0.62 | -0.76 | -0.41 |  0.11 | ⋯ | -0.55 | -0.50 | -0.69 | -0.62 | -0.60 | -1.02 | -0.51 | -0.70 | 2 |  -8.00 |\n",
       "| Franz Beckenbauer              | 1966 | West Germany |  2.94 |  1.78 | -0.35 |  0.26 |  0.74 |  0.38 |  2.05 | ⋯ |  1.17 |  0.68 |  0.28 |  1.47 | -0.10 |  0.67 |  0.02 |  1.52 | 2 |  14.90 |\n",
       "| Friedel Lutz                   | 1966 | West Germany | -0.39 | -0.63 | -0.62 | -0.67 | -1.55 | -1.11 | -0.77 | ⋯ | -1.10 | -0.47 | -0.52 | -0.18 | -0.60 | -0.84 | -0.86 | -0.93 | 2 | -12.33 |\n",
       "| Hans Tilkowski                 | 1966 | West Germany | -0.39 | -0.63 | -0.62 | -0.67 |  0.68 |  1.78 | -0.77 | ⋯ | -1.10 | -1.01 | -0.58 | -0.62 | -0.10 | -1.21 | -0.34 | -0.88 | 2 |  -7.55 |\n",
       "| Helmut Haller                  | 1966 | West Germany |  4.60 |  2.07 |  0.19 |  0.83 |  0.94 |  0.63 |  1.87 | ⋯ | -0.03 |  0.18 | -0.63 | -0.31 | -0.10 |  0.10 |  1.25 |  0.57 | 2 |  13.26 |\n",
       "| Horst-Dieter Hottges           | 1966 | West Germany | -0.39 | -0.53 | -0.35 | -0.62 | -0.09 |  0.50 | -0.60 | ⋯ |  0.10 |  0.78 |  0.96 |  0.94 | -0.10 |  0.48 |  0.19 | -0.73 | 2 |   0.37 |\n",
       "| Karl-Heinz Schnellinger        | 1966 | West Germany | -0.39 | -0.43 | -0.35 | -0.46 |  1.04 |  1.27 | -0.60 | ⋯ |  1.03 |  1.72 |  1.02 |  0.92 |  2.90 |  0.67 |  0.55 |  0.40 | 2 |   9.12 |\n",
       "| Lothar Emmerich                | 1966 | West Germany |  0.45 |  0.36 |  0.73 |  0.72 | -0.21 | -0.07 | -0.25 | ⋯ | -0.40 | -0.52 | -0.52 | -0.62 |  0.15 | -0.65 |  0.55 |  1.16 | 2 |   0.64 |\n",
       "| Siegfried Held                 | 1966 | West Germany |  0.45 |  1.18 |  2.62 |  1.86 |  0.45 |  0.05 |  1.69 | ⋯ | -0.70 | -0.54 | -0.69 | -0.18 | -0.10 | -0.09 |  1.43 |  2.98 | 2 |  13.35 |\n",
       "| Uwe Seeler                     | 1966 | West Germany |  1.28 |  3.01 | -0.08 |  4.34 |  0.04 | -0.65 | -0.42 | ⋯ | -0.68 | -0.01 | -0.63 | -0.26 |  2.90 | -0.09 |  2.14 |  0.38 | 2 |  11.24 |\n",
       "| Werner Krämer                  | 1966 | West Germany | -0.39 | -0.63 |  0.46 | -0.51 | -1.53 | -1.11 | -0.60 | ⋯ | -1.10 | -0.85 | -0.69 | -0.62 | -0.60 | -1.21 | -0.34 | -0.17 | 2 | -10.62 |\n",
       "| Willi Schulz                   | 1966 | West Germany | -0.39 | -0.63 | -0.35 | -0.67 |  0.49 |  0.41 | -0.77 | ⋯ |  1.48 |  0.70 |  2.45 |  3.12 |  0.15 |  0.10 | -0.51 | -0.60 | 2 |   4.32 |\n",
       "| Wolfgang Overath               | 1966 | West Germany | -0.39 | -0.12 |  0.73 |  0.05 |  1.82 |  0.87 |  0.11 | ⋯ |  1.64 |  1.49 | -0.46 | -0.62 | -0.35 |  1.60 |  0.55 |  0.41 | 2 |   7.59 |\n",
       "| Wolfgang Weber                 | 1966 | West Germany |  0.45 | -0.16 | -0.62 | -0.41 | -0.55 | -0.41 | -0.60 | ⋯ |  0.17 |  1.77 |  2.05 |  0.46 |  1.65 | -0.09 |  1.25 | -0.86 | 2 |   3.58 |\n",
       "\n"
      ],
      "text/plain": [
       "     player                         season team         goals_z xg_z  crosses_z\n",
       "1    Cristian Pavón                 2018   Argentina    -0.42   -0.55  0.08    \n",
       "2    Eduardo Salvio                 2018   Argentina    -0.42   -0.50 -0.51    \n",
       "3    Enzo Pérez                     2018   Argentina    -0.42    0.11 -0.51    \n",
       "4    Federico Fazio                 2018   Argentina    -0.42   -0.59 -0.51    \n",
       "5    Franco Armani                  2018   Argentina    -0.42   -0.59 -0.51    \n",
       "6    Gabriel Mercado                2018   Argentina     1.30   -0.30  0.08    \n",
       "7    Gonzalo Higuaín                2018   Argentina    -0.42    0.25 -0.51    \n",
       "8    Javier Mascherano              2018   Argentina    -0.42   -0.52 -0.51    \n",
       "9    Lionel Messi                   2018   Argentina     1.30    3.08  0.66    \n",
       "10   Lucas Biglia                   2018   Argentina    -0.42   -0.50 -0.51    \n",
       "11   Marcos Acuña                   2018   Argentina    -0.42   -0.55  0.08    \n",
       "12   Marcos Rojo                    2018   Argentina     1.30   -0.17  0.08    \n",
       "13   Maximiliano Meza               2018   Argentina    -0.42    0.07  1.24    \n",
       "14   Nicolás Otamendi               2018   Argentina    -0.42   -0.28 -0.51    \n",
       "15   Nicolás Tagliafico             2018   Argentina    -0.42   -0.37 -0.51    \n",
       "16   Sergio Agüero                  2018   Argentina     3.02    0.62 -0.51    \n",
       "17   Wilfredo Caballero             2018   Argentina    -0.42   -0.59 -0.51    \n",
       "18   Ángel Di María                 2018   Argentina     1.30   -0.19  1.24    \n",
       "19   Éver Banega                    2018   Argentina    -0.42   -0.39  0.66    \n",
       "20   Aaron Mooy                     2018   Australia    -0.42   -0.27  7.26    \n",
       "21   Andrew Nabbout                 2018   Australia    -0.42   -0.59 -0.51    \n",
       "22   Aziz Behich                    2018   Australia    -0.42   -0.30  1.05    \n",
       "23   Daniel Arzani                  2018   Australia    -0.42   -0.38  0.27    \n",
       "24   Jackson Irvine                 2018   Australia    -0.42   -0.59  0.27    \n",
       "25   Joshua Risdon                  2018   Australia    -0.42   -0.47 -0.51    \n",
       "26   Mark Milligan                  2018   Australia    -0.42   -0.59 -0.51    \n",
       "27   Mathew Leckie                  2018   Australia    -0.42    1.26  0.27    \n",
       "28   Mathew Ryan                    2018   Australia    -0.42   -0.59 -0.51    \n",
       "29   Mile Jedinak                   2018   Australia     4.17    4.51  0.27    \n",
       "30   Robbie Kruse                   2018   Australia    -0.42   -0.27 -0.51    \n",
       "⋮    ⋮                              ⋮      ⋮            ⋮       ⋮     ⋮        \n",
       "5870 Victor Getmanov                1966   USSR         -0.39   -0.63 -0.62    \n",
       "5871 Viktor Serebrjanikov           1966   USSR         -0.39   -0.17 -0.33    \n",
       "5872 Vladimir Ponomarev             1966   USSR         -0.39   -0.59  1.09    \n",
       "5873 Domingo Pérez                  1966   Uruguay      -0.39   -0.22  2.80    \n",
       "5874 Horacio Troche                 1966   Uruguay      -0.39   -0.60 -0.62    \n",
       "5875 Héctor Salva                   1966   Uruguay      -0.39   -0.47  0.67    \n",
       "5876 Héctor Silva                   1966   Uruguay      -0.39   -0.09 -0.19    \n",
       "5877 Jorge Manicera                 1966   Uruguay      -0.39   -0.57 -0.62    \n",
       "5878 José Sasía                     1966   Uruguay      -0.39    0.86 -0.62    \n",
       "5879 Julio Cesar Cortes             1966   Uruguay       0.93    1.27  1.95    \n",
       "5880 Ladislao Mazurkiewicz          1966   Uruguay      -0.39   -0.63 -0.62    \n",
       "5881 Luis Ubiñas                    1966   Uruguay      -0.39   -0.45  0.67    \n",
       "5882 Milton Viera                   1966   Uruguay      -0.39   -0.22 -0.62    \n",
       "5883 Néstor Gonçalves               1966   Uruguay      -0.39   -0.32 -0.19    \n",
       "5884 Omar Caetano                   1966   Uruguay      -0.39   -0.55 -0.62    \n",
       "5885 Pedro Virglio Rocha Franchetti 1966   Uruguay       0.93    1.50 -0.62    \n",
       "5886 Albert Brulls                  1966   West Germany -0.39   -0.56 -0.08    \n",
       "5887 Franz Beckenbauer              1966   West Germany  2.94    1.78 -0.35    \n",
       "5888 Friedel Lutz                   1966   West Germany -0.39   -0.63 -0.62    \n",
       "5889 Hans Tilkowski                 1966   West Germany -0.39   -0.63 -0.62    \n",
       "5890 Helmut Haller                  1966   West Germany  4.60    2.07  0.19    \n",
       "5891 Horst-Dieter Hottges           1966   West Germany -0.39   -0.53 -0.35    \n",
       "5892 Karl-Heinz Schnellinger        1966   West Germany -0.39   -0.43 -0.35    \n",
       "5893 Lothar Emmerich                1966   West Germany  0.45    0.36  0.73    \n",
       "5894 Siegfried Held                 1966   West Germany  0.45    1.18  2.62    \n",
       "5895 Uwe Seeler                     1966   West Germany  1.28    3.01 -0.08    \n",
       "5896 Werner Krämer                  1966   West Germany -0.39   -0.63  0.46    \n",
       "5897 Willi Schulz                   1966   West Germany -0.39   -0.63 -0.35    \n",
       "5898 Wolfgang Overath               1966   West Germany -0.39   -0.12  0.73    \n",
       "5899 Wolfgang Weber                 1966   West Germany  0.45   -0.16 -0.62    \n",
       "     boxtouches_z passes_z progpasses_z takeons_z ⋯ tackles_z interceptions_z\n",
       "1    -0.24        -0.61    -0.72        -0.05     ⋯  0.30     -0.79          \n",
       "2     0.64         0.02    -0.46        -0.05     ⋯  0.61      0.67          \n",
       "3    -0.69         0.27    -0.65        -0.36     ⋯  0.35     -0.22          \n",
       "4    -0.69        -0.97    -0.91        -0.67     ⋯ -0.82     -0.79          \n",
       "5    -0.80        -0.67     0.64        -0.67     ⋯ -0.82     -0.79          \n",
       "6    -0.35         1.00    -0.20        -0.36     ⋯  1.43      0.79          \n",
       "7    -0.02        -0.77    -1.10        -0.36     ⋯ -0.82     -0.79          \n",
       "8    -0.80         3.25     0.51         0.26     ⋯  3.71      2.75          \n",
       "9     1.30         1.17     0.32         6.76     ⋯  2.15     -0.79          \n",
       "10   -0.35        -0.58    -0.91        -0.67     ⋯ -0.11     -0.79          \n",
       "11   -0.69        -0.83    -0.85        -0.36     ⋯ -0.31     -0.79          \n",
       "12   -0.02         0.87     0.19        -0.36     ⋯  0.49      1.79          \n",
       "13    1.30         0.04    -0.78         0.57     ⋯  0.25     -0.27          \n",
       "14    0.42         2.51     0.96        -0.67     ⋯  2.90      3.48          \n",
       "15   -0.02         1.50     0.51        -0.05     ⋯  0.77      0.79          \n",
       "16    1.52        -0.54    -0.97         0.26     ⋯  1.32     -0.27          \n",
       "17   -0.80        -0.75    -0.26        -0.67     ⋯ -0.82     -0.79          \n",
       "18    0.53        -0.39    -0.59         0.26     ⋯ -0.82     -0.12          \n",
       "19   -0.35         1.37     0.90         0.88     ⋯  2.94      0.55          \n",
       "20   -0.80         1.91     0.53         0.98     ⋯ -0.28      0.45          \n",
       "21   -0.35        -1.00    -1.10        -0.26     ⋯ -0.82     -0.79          \n",
       "22    0.09         1.66     0.96         0.16     ⋯  0.39     -0.07          \n",
       "23   -0.35        -0.93    -1.02        -0.26     ⋯ -0.82     -0.79          \n",
       "24   -0.50        -1.10    -1.02        -0.26     ⋯  0.22     -0.07          \n",
       "25   -0.06         0.97     2.51         0.98     ⋯  3.57      0.82          \n",
       "26   -0.80         3.13     3.12        -0.67     ⋯  0.94      0.66          \n",
       "27    3.91        -0.18    -0.41         0.98     ⋯ -0.82     -0.45          \n",
       "28   -0.80         0.78     2.60        -0.67     ⋯ -0.82     -0.79          \n",
       "29    0.23         1.56     0.36         0.16     ⋯  1.14      1.00          \n",
       "30    0.82        -0.45    -0.67        -0.26     ⋯  0.52     -0.79          \n",
       "⋮    ⋮            ⋮        ⋮            ⋮         ⋱ ⋮         ⋮              \n",
       "5870 -0.67        -1.48    -1.19        -0.77     ⋯ -0.92     -0.86          \n",
       "5871 -0.34        -0.96    -0.87        -0.22     ⋯ -0.57     -0.52          \n",
       "5872 -0.67        -0.12     0.16        -0.59     ⋯  0.63      1.25          \n",
       "5873  1.54         0.01    -0.28         0.62     ⋯ -0.99     -0.37          \n",
       "5874 -0.67        -0.66    -0.37        -0.22     ⋯  0.14      0.36          \n",
       "5875 -0.67        -1.14    -0.95        -0.77     ⋯ -1.10     -1.01          \n",
       "5876 -0.10        -1.19    -1.19        -0.50     ⋯ -0.85     -0.81          \n",
       "5877 -0.67        -0.12     0.06         0.34     ⋯  0.10      1.29          \n",
       "5878  1.29        -0.66    -0.71         0.90     ⋯ -0.99     -0.84          \n",
       "5879  0.15         0.16     0.21         0.06     ⋯ -0.08     -0.59          \n",
       "5880 -0.67         0.40     1.17        -0.77     ⋯ -1.10     -1.01          \n",
       "5881 -0.34         0.97     1.90         1.18     ⋯  0.93      0.90          \n",
       "5882 -0.51         0.29    -0.66        -0.22     ⋯  0.32     -0.11          \n",
       "5883 -0.51         0.90     0.35         0.34     ⋯  1.27      0.83          \n",
       "5884 -0.51         0.42     0.74        -0.77     ⋯  0.13      0.09          \n",
       "5885  1.37         1.07    -0.52         2.30     ⋯  0.10     -0.13          \n",
       "5886 -0.62        -0.76    -0.41         0.11     ⋯ -0.55     -0.50          \n",
       "5887  0.26         0.74     0.38         2.05     ⋯  1.17      0.68          \n",
       "5888 -0.67        -1.55    -1.11        -0.77     ⋯ -1.10     -0.47          \n",
       "5889 -0.67         0.68     1.78        -0.77     ⋯ -1.10     -1.01          \n",
       "5890  0.83         0.94     0.63         1.87     ⋯ -0.03      0.18          \n",
       "5891 -0.62        -0.09     0.50        -0.60     ⋯  0.10      0.78          \n",
       "5892 -0.46         1.04     1.27        -0.60     ⋯  1.03      1.72          \n",
       "5893  0.72        -0.21    -0.07        -0.25     ⋯ -0.40     -0.52          \n",
       "5894  1.86         0.45     0.05         1.69     ⋯ -0.70     -0.54          \n",
       "5895  4.34         0.04    -0.65        -0.42     ⋯ -0.68     -0.01          \n",
       "5896 -0.51        -1.53    -1.11        -0.60     ⋯ -1.10     -0.85          \n",
       "5897 -0.67         0.49     0.41        -0.77     ⋯  1.48      0.70          \n",
       "5898  0.05         1.82     0.87         0.11     ⋯  1.64      1.49          \n",
       "5899 -0.41        -0.55    -0.41        -0.60     ⋯  0.17      1.77          \n",
       "     clearances_z blocks_z aerials_z fouls_z fouled_z nsxg_z labels_5\n",
       "1    -0.80        -0.45    -0.23     -0.38   -0.91    -0.58  2       \n",
       "2     0.32        -0.45     0.21     -1.11    0.68    -0.03  2       \n",
       "3    -0.80        -0.45    -0.89      0.72    0.04    -0.66  2       \n",
       "4    -0.64        -0.45     0.21     -1.11   -0.59    -0.77  2       \n",
       "5    -0.64        -0.45    -0.89     -1.11   -0.91    -0.77  2       \n",
       "6     0.64         0.73    -0.01      1.81    0.68    -0.47  2       \n",
       "7    -0.64        -0.45    -0.67     -0.38   -0.59    -0.31  2       \n",
       "8     0.80        -0.45    -0.01      4.37    1.32    -0.31  2       \n",
       "9    -0.80        -0.45    -0.89      0.35    4.49     4.55  2       \n",
       "10   -0.80        -0.45    -0.45     -1.11   -0.59    -0.69  2       \n",
       "11   -0.48         0.73    -0.67     -0.74    0.04    -0.50  2       \n",
       "12    1.44         1.19     1.53     -0.01   -0.27    -0.44  2       \n",
       "13   -0.48        -0.45    -0.67     -0.01    1.32     1.27  2       \n",
       "14    2.88         2.37     3.95     -0.01    0.68    -0.47  2       \n",
       "15    0.48         0.73     0.21      1.08    1.32    -0.55  2       \n",
       "16   -0.80        -0.45    -0.67     -1.11   -0.59    -0.28  2       \n",
       "17   -0.48        -0.45    -0.89     -1.11   -0.91    -0.77  2       \n",
       "18   -0.80        -0.45    -0.67     -0.74    1.32     0.80  2       \n",
       "19   -0.48        -0.45    -0.89     -0.01    0.04     1.40  2       \n",
       "20    1.12        -0.45    -0.60      0.84   -0.49     3.09  2       \n",
       "21   -0.80        -0.45     0.57     -0.62   -0.49    -0.66  2       \n",
       "22    0.26        -0.45    -0.89      0.84   -0.06     0.55  2       \n",
       "23   -0.80         0.32    -0.89     -0.62   -0.49    -0.08  2       \n",
       "24   -0.80        -0.45    -0.89     -1.11   -0.49    -0.37  2       \n",
       "25    1.97        -0.45    -0.60      0.84   -0.49    -0.55  2       \n",
       "26    2.40        -0.45    -0.01      0.35   -0.91    -0.15  2       \n",
       "27    1.12        -0.45     3.80      1.81    1.21     0.88  2       \n",
       "28   -0.38        -0.45    -0.60     -1.11   -0.91    -0.77  2       \n",
       "29   -0.38         0.32     2.04      1.81   -0.06    -0.15  2       \n",
       "30   -0.59        -0.45    -0.60     -0.14    2.48    -0.63  2       \n",
       "⋮    ⋮            ⋮        ⋮         ⋮       ⋮        ⋮      ⋮       \n",
       "5870 -0.39        -0.62    -0.60     -0.82   -1.04    -0.93  2       \n",
       "5871 -0.63        -0.62     0.46     -0.42   -0.48    -0.34  2       \n",
       "5872  1.30         0.97    -0.33      0.37   -0.30     0.09  2       \n",
       "5873 -0.60        -0.62    -0.20      0.87    1.47     2.29  2       \n",
       "5874  4.64         1.43     0.59     -0.91   -0.20    -0.82  2       \n",
       "5875 -0.69        -0.62    -0.60     -0.62   -0.48    -0.25  2       \n",
       "5876 -0.60        -0.62    -0.60      0.87   -0.76    -0.32  2       \n",
       "5877  2.92         0.52    -0.20     -0.02    0.36    -0.22  2       \n",
       "5878 -0.60        -0.62     0.99     -0.02    0.08     0.76  2       \n",
       "5879 -0.24        -0.62     0.20      0.87    1.47     0.94  2       \n",
       "5880 -0.51        -0.62    -0.60     -1.21   -0.48    -0.93  2       \n",
       "5881  1.02         0.04     0.20      2.06   -0.20     0.42  2       \n",
       "5882 -0.42        -0.62    -0.60      2.06   -0.48     0.16  2       \n",
       "5883  3.01         1.16     1.38     -0.02    1.75    -0.39  2       \n",
       "5884  0.75        -0.16    -0.20     -0.62   -0.20    -0.80  2       \n",
       "5885 -0.42        -0.62    -0.60      0.57    0.36     0.55  2       \n",
       "5886 -0.69        -0.62    -0.60     -1.02   -0.51    -0.70  2       \n",
       "5887  0.28         1.47    -0.10      0.67    0.02     1.52  2       \n",
       "5888 -0.52        -0.18    -0.60     -0.84   -0.86    -0.93  2       \n",
       "5889 -0.58        -0.62    -0.10     -1.21   -0.34    -0.88  2       \n",
       "5890 -0.63        -0.31    -0.10      0.10    1.25     0.57  2       \n",
       "5891  0.96         0.94    -0.10      0.48    0.19    -0.73  2       \n",
       "5892  1.02         0.92     2.90      0.67    0.55     0.40  2       \n",
       "5893 -0.52        -0.62     0.15     -0.65    0.55     1.16  2       \n",
       "5894 -0.69        -0.18    -0.10     -0.09    1.43     2.98  2       \n",
       "5895 -0.63        -0.26     2.90     -0.09    2.14     0.38  2       \n",
       "5896 -0.69        -0.62    -0.60     -1.21   -0.34    -0.17  2       \n",
       "5897  2.45         3.12     0.15      0.10   -0.51    -0.60  2       \n",
       "5898 -0.46        -0.62    -0.35      1.60    0.55     0.41  2       \n",
       "5899  2.05         0.46     1.65     -0.09    1.25    -0.86  2       \n",
       "     TotalScore\n",
       "1     -6.20    \n",
       "2      0.10    \n",
       "3     -4.50    \n",
       "4    -10.56    \n",
       "5    -10.07    \n",
       "6      6.92    \n",
       "7     -8.25    \n",
       "8     15.58    \n",
       "9     25.32    \n",
       "10    -9.77    \n",
       "11    -7.18    \n",
       "12     9.07    \n",
       "13     4.28    \n",
       "14    21.55    \n",
       "15     5.62    \n",
       "16    -0.12    \n",
       "17   -11.06    \n",
       "18     1.65    \n",
       "19     7.54    \n",
       "20    12.69    \n",
       "21    -8.47    \n",
       "22     4.68    \n",
       "23    -6.78    \n",
       "24    -8.42    \n",
       "25     8.37    \n",
       "26     7.00    \n",
       "27    13.42    \n",
       "28    -6.28    \n",
       "29    16.58    \n",
       "30    -2.36    \n",
       "⋮    ⋮         \n",
       "5870 -12.94    \n",
       "5871  -7.41    \n",
       "5872   2.08    \n",
       "5873   6.86    \n",
       "5874   1.17    \n",
       "5875  -9.39    \n",
       "5876  -7.64    \n",
       "5877   2.03    \n",
       "5878  -0.65    \n",
       "5879   6.94    \n",
       "5880  -9.06    \n",
       "5881  10.95    \n",
       "5882  -1.88    \n",
       "5883   9.54    \n",
       "5884  -2.10    \n",
       "5885   6.43    \n",
       "5886  -8.00    \n",
       "5887  14.90    \n",
       "5888 -12.33    \n",
       "5889  -7.55    \n",
       "5890  13.26    \n",
       "5891   0.37    \n",
       "5892   9.12    \n",
       "5893   0.64    \n",
       "5894  13.35    \n",
       "5895  11.24    \n",
       "5896 -10.62    \n",
       "5897   4.32    \n",
       "5898   7.59    \n",
       "5899   3.58    "
      ]
     },
     "metadata": {},
     "output_type": "display_data"
    }
   ],
   "source": [
    "player_data"
   ]
  },
  {
   "cell_type": "code",
   "execution_count": 100,
   "metadata": {
    "deletable": false,
    "nbgrader": {
     "cell_type": "code",
     "checksum": "c724b97c35e53f208f9cd87cff10142d",
     "grade": false,
     "grade_id": "cell-740b0535e5b9d743",
     "locked": false,
     "schema_version": 3,
     "solution": true,
     "task": false
    }
   },
   "outputs": [
    {
     "data": {
      "text/html": [
       "<table>\n",
       "<caption>A data.frame: 0 × 4</caption>\n",
       "<thead>\n",
       "\t<tr><th scope=col>player</th><th scope=col>TotalScore</th><th scope=col>season</th><th scope=col>team</th></tr>\n",
       "\t<tr><th scope=col>&lt;fct&gt;</th><th scope=col>&lt;dbl&gt;</th><th scope=col>&lt;int&gt;</th><th scope=col>&lt;fct&gt;</th></tr>\n",
       "</thead>\n",
       "<tbody>\n",
       "</tbody>\n",
       "</table>\n"
      ],
      "text/latex": [
       "A data.frame: 0 × 4\n",
       "\\begin{tabular}{llll}\n",
       " player & TotalScore & season & team\\\\\n",
       " <fct> & <dbl> & <int> & <fct>\\\\\n",
       "\\hline\n",
       "\\end{tabular}\n"
      ],
      "text/markdown": [
       "\n",
       "A data.frame: 0 × 4\n",
       "\n",
       "| player &lt;fct&gt; | TotalScore &lt;dbl&gt; | season &lt;int&gt; | team &lt;fct&gt; |\n",
       "|---|---|---|---|\n",
       "\n"
      ],
      "text/plain": [
       "     player TotalScore season team"
      ]
     },
     "metadata": {},
     "output_type": "display_data"
    }
   ],
   "source": [
    "# Exercise #7: MessiLikely\n",
    "\n",
    "# your code here\n",
    "\n",
    "\n",
    "\n",
    "\n",
    "MessiLikely <- player_data %>%\n",
    "        select(player, TotalScore, season, team ) %>%\n",
    "        filter(player_data$labels_5==3) \n",
    "      \n",
    "MessiLikely"
   ]
  },
  {
   "cell_type": "code",
   "execution_count": 95,
   "metadata": {},
   "outputs": [
    {
     "data": {
      "text/html": [
       "0"
      ],
      "text/latex": [
       "0"
      ],
      "text/markdown": [
       "0"
      ],
      "text/plain": [
       "[1] 0"
      ]
     },
     "metadata": {},
     "output_type": "display_data"
    }
   ],
   "source": [
    "sum(MessiLikely$TotalScore)"
   ]
  },
  {
   "cell_type": "code",
   "execution_count": 62,
   "metadata": {
    "deletable": false,
    "editable": false,
    "nbgrader": {
     "cell_type": "code",
     "checksum": "dee9879633592f0d60f1a85b21313299",
     "grade": true,
     "grade_id": "cell-4c58379a5bf4bc87",
     "locked": true,
     "points": 16,
     "schema_version": 3,
     "solution": false,
     "task": false
    }
   },
   "outputs": [
    {
     "ename": "ERROR",
     "evalue": "Error: Test failed: 'Check the player_attributes dataset'\n* <text>:5: dim(MessiLikely)[1] * dim(MessiLikely)[1] not equal to 400.\n1/1 mismatches\n[1] 0 - 400 == -400\n* <text>:6: sum(MessiLikely$team == \"Argentina\") not equal to 4.\n1/1 mismatches\n[1] 0 - 4 == -4\n* <text>:7: sum(MessiLikely$season == 1974) not equal to 2.\n1/1 mismatches\n[1] 0 - 2 == -2\n",
     "output_type": "error",
     "traceback": [
      "Error: Test failed: 'Check the player_attributes dataset'\n* <text>:5: dim(MessiLikely)[1] * dim(MessiLikely)[1] not equal to 400.\n1/1 mismatches\n[1] 0 - 400 == -400\n* <text>:6: sum(MessiLikely$team == \"Argentina\") not equal to 4.\n1/1 mismatches\n[1] 0 - 4 == -4\n* <text>:7: sum(MessiLikely$season == 1974) not equal to 2.\n1/1 mismatches\n[1] 0 - 2 == -2\nTraceback:\n",
      "1. test_that(\"Check the player_attributes dataset\", {\n .     expect_equal(dim(MessiLikely)[1] * dim(MessiLikely)[1], 400)\n .     expect_equal(sum(MessiLikely$team == \"Argentina\"), 4)\n .     expect_equal(sum(MessiLikely$season == 1974), 2)\n . })",
      "2. test_code(desc, code, env = parent.frame())",
      "3. get_reporter()$end_test(context = get_reporter()$.context, test = test)",
      "4. stop(message, call. = FALSE)"
     ]
    }
   ],
   "source": [
    "# Test your code in here\n",
    "### BEGIN HIDDEN TEST\n",
    "\n",
    "test_that(\"Check the player_attributes dataset\", {\n",
    "    expect_equal(dim(MessiLikely)[1]*dim(MessiLikely)[1],400)\n",
    "    expect_equal(sum(MessiLikely$team==\"Argentina\"),4)\n",
    "    expect_equal(sum(MessiLikely$season==1974),2)\n",
    "    \n",
    "    \n",
    "    \n",
    "})\n",
    "\n",
    "\n",
    "print(\"Passed! Good Job!\")\n",
    "\n",
    "### END HIDDEN TEST"
   ]
  },
  {
   "cell_type": "code",
   "execution_count": null,
   "metadata": {},
   "outputs": [],
   "source": []
  }
 ],
 "metadata": {
  "kernelspec": {
   "display_name": "R",
   "language": "R",
   "name": "ir"
  },
  "language_info": {
   "codemirror_mode": "r",
   "file_extension": ".r",
   "mimetype": "text/x-r-source",
   "name": "R",
   "pygments_lexer": "r",
   "version": "3.6.3"
  }
 },
 "nbformat": 4,
 "nbformat_minor": 4
}
