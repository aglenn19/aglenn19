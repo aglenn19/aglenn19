{
 "cells": [
  {
   "cell_type": "markdown",
   "metadata": {
    "deletable": false,
    "editable": false,
    "nbgrader": {
     "cell_type": "markdown",
     "checksum": "5f0771f6980ffb5127eb2de4d2546a51",
     "grade": false,
     "grade_id": "cell-3bdbef72d377d7c5",
     "locked": true,
     "schema_version": 3,
     "solution": false,
     "task": false
    }
   },
   "source": [
    "## RLab 3\n",
    "\n",
    "In this RLab assignment, we will use the k-nearest neighbors (knn) algorithm to classify and predict new observations with their proximity to k most-similar observations from training data. In the case of categorical target variable, we use classification method by using the majority rule in K- nearest neighbors.  If, on the other hand, we have a numerical target variable, then it is considered as a regression problem and we use the mean value in the K- nearest neighbors.  When it comes to distance measurement, the most commonly used distance measures are Euclidean, Manhattan, and Minkowski distances. \n",
    "\n",
    "\n"
   ]
  },
  {
   "cell_type": "markdown",
   "metadata": {
    "deletable": false,
    "editable": false,
    "nbgrader": {
     "cell_type": "markdown",
     "checksum": "7b93fac47ba9563f632d31a780486f2b",
     "grade": false,
     "grade_id": "cell-bf9b3722239fba79",
     "locked": true,
     "schema_version": 3,
     "solution": false,
     "task": false
    }
   },
   "source": [
    "##  Credit Data \n",
    "\n",
    "\n",
    "We will use the credit data from RLab 2 to identify whether a customer is risky or not in terms of repaying the loan. But, this time, instead of logistic regression, we will classify customers based on the knn algorithm and only use 4 predictors from the list.  The dataset is in csv format, we read the data with read.csv command in R.   \n",
    "\n",
    "The Credit dataset includes the following variables:\n",
    "- **creditability**:  Credit risk, Good (1), Bad (0)  (This is our target variable.)\n",
    "- **payment_status**: Payment Status of Previous Credit. Unknown (0), Some Problems (1), Paid Up (2), No Problems (in this bank) (3),  No Problems (in all banks) (4)\n",
    "- **credit_amount**: current amount of credit from other accounts\n",
    "- **sex_marital**: Sex and marital status: Male Divorced/Single (1), Male Married/Widowed (2), Female  Married/Widowed  (3), Female Divorced/Single (4)\n",
    "- **age**: Age in years\n"
   ]
  },
  {
   "cell_type": "code",
   "execution_count": 1,
   "metadata": {
    "deletable": false,
    "editable": false,
    "nbgrader": {
     "cell_type": "code",
     "checksum": "68ec13fd51239a643fd93145e7a69ede",
     "grade": false,
     "grade_id": "cell-6b0c67293e9c4b10",
     "locked": true,
     "schema_version": 3,
     "solution": false,
     "task": false
    }
   },
   "outputs": [
    {
     "name": "stderr",
     "output_type": "stream",
     "text": [
      "── \u001b[1mAttaching packages\u001b[22m ─────────────────────────────────────── tidyverse 1.3.0 ──\n",
      "\n",
      "\u001b[32m✔\u001b[39m \u001b[34mggplot2\u001b[39m 3.3.0     \u001b[32m✔\u001b[39m \u001b[34mpurrr  \u001b[39m 0.3.4\n",
      "\u001b[32m✔\u001b[39m \u001b[34mtibble \u001b[39m 3.0.1     \u001b[32m✔\u001b[39m \u001b[34mdplyr  \u001b[39m 0.8.5\n",
      "\u001b[32m✔\u001b[39m \u001b[34mtidyr  \u001b[39m 1.0.2     \u001b[32m✔\u001b[39m \u001b[34mstringr\u001b[39m 1.4.0\n",
      "\u001b[32m✔\u001b[39m \u001b[34mreadr  \u001b[39m 1.3.1     \u001b[32m✔\u001b[39m \u001b[34mforcats\u001b[39m 0.5.0\n",
      "\n",
      "── \u001b[1mConflicts\u001b[22m ────────────────────────────────────────── tidyverse_conflicts() ──\n",
      "\u001b[31m✖\u001b[39m \u001b[34mdplyr\u001b[39m::\u001b[32mfilter()\u001b[39m masks \u001b[34mstats\u001b[39m::filter()\n",
      "\u001b[31m✖\u001b[39m \u001b[34mdplyr\u001b[39m::\u001b[32mlag()\u001b[39m    masks \u001b[34mstats\u001b[39m::lag()\n",
      "\n",
      "Loading required package: lattice\n",
      "\n",
      "\n",
      "Attaching package: ‘caret’\n",
      "\n",
      "\n",
      "The following object is masked from ‘package:purrr’:\n",
      "\n",
      "    lift\n",
      "\n",
      "\n",
      "\n",
      "Attaching package: ‘testthat’\n",
      "\n",
      "\n",
      "The following object is masked from ‘package:dplyr’:\n",
      "\n",
      "    matches\n",
      "\n",
      "\n",
      "The following object is masked from ‘package:purrr’:\n",
      "\n",
      "    is_null\n",
      "\n",
      "\n",
      "The following object is masked from ‘package:tidyr’:\n",
      "\n",
      "    matches\n",
      "\n",
      "\n",
      "\n",
      "Attaching package: ‘recipes’\n",
      "\n",
      "\n",
      "The following object is masked from ‘package:stringr’:\n",
      "\n",
      "    fixed\n",
      "\n",
      "\n",
      "The following object is masked from ‘package:stats’:\n",
      "\n",
      "    step\n",
      "\n",
      "\n"
     ]
    }
   ],
   "source": [
    "# call the libraries we will use in the lab assignment\n",
    "library(tidyverse)\n",
    "library(caret)\n",
    "library(dplyr)\n",
    "library(testthat)\n",
    "library(ggplot2)\n",
    "library(recipes)\n",
    "library(class)\n",
    "\n",
    "\n",
    "\n"
   ]
  },
  {
   "cell_type": "code",
   "execution_count": 2,
   "metadata": {
    "deletable": false,
    "editable": false,
    "nbgrader": {
     "cell_type": "code",
     "checksum": "cf2ffb860055cb49e3bcd9fb5f0f3437",
     "grade": false,
     "grade_id": "cell-b8364c0d94eba404",
     "locked": true,
     "schema_version": 3,
     "solution": false,
     "task": false
    }
   },
   "outputs": [
    {
     "name": "stdout",
     "output_type": "stream",
     "text": [
      "'data.frame':\t1000 obs. of  5 variables:\n",
      " $ creditability : Factor w/ 2 levels \"0\",\"1\": 2 2 2 2 2 2 2 2 2 2 ...\n",
      " $ payment_status: Factor w/ 5 levels \"0\",\"1\",\"2\",\"3\",..: 5 5 3 5 5 5 5 5 5 3 ...\n",
      " $ credit_amount : int  1049 2799 841 2122 2171 2241 3398 1361 1098 3758 ...\n",
      " $ sex_marital   : Factor w/ 4 levels \"1\",\"2\",\"3\",\"4\": 2 3 2 3 3 3 3 3 2 2 ...\n",
      " $ age           : int  21 36 23 39 38 48 39 40 65 23 ...\n"
     ]
    }
   ],
   "source": [
    "# import the credit.csv data and name it as  creditdata in R. Data has the column names in the first row, so set header=TRUE\n",
    "creditdata<-read.csv(\"credit.csv\", header = TRUE, sep = \",\")\n",
    "# as can be seen with str(creditdata), some factor variables are coded as integer. \n",
    "\n",
    "# keep only certain variables\n",
    "creditdata<-subset(creditdata, select=c('creditability','payment_status','credit_amount','sex_marital', 'age'))\n",
    "\n",
    "\n",
    "\n",
    "# names of the columns that will need to be entered as factor data\n",
    "columns<-c('creditability','payment_status','sex_marital')\n",
    "# use the lapply function to selected columns to declare as factor\n",
    "creditdata[,columns]<-lapply(creditdata[,columns], factor)\n",
    "\n",
    "\n",
    "\n",
    "# check the data structure\n",
    "str(creditdata)"
   ]
  },
  {
   "cell_type": "code",
   "execution_count": 3,
   "metadata": {
    "deletable": false,
    "editable": false,
    "nbgrader": {
     "cell_type": "code",
     "checksum": "c50356750ccebec1e330890ffa36b4bd",
     "grade": false,
     "grade_id": "cell-2b81addb146253aa",
     "locked": true,
     "schema_version": 3,
     "solution": false,
     "task": false
    }
   },
   "outputs": [
    {
     "data": {
      "image/png": "[encoded data removed]",
      "text/plain": [
       "plot without title"
      ]
     },
     "metadata": {
      "image/png": {
       "height": 420,
       "width": 420
      },
      "text/plain": {
       "height": 420,
       "width": 420
      }
     },
     "output_type": "display_data"
    }
   ],
   "source": [
    "# look at the boxplot of numerical features stratified by creditability\n",
    "par(mfrow=c(1,3))\n",
    "plot ( credit_amount     ~ creditability     , data=creditdata)\n",
    "plot ( age               ~ creditability     , data=creditdata)\n",
    "\n",
    "\n",
    "\n",
    "\n"
   ]
  },
  {
   "cell_type": "code",
   "execution_count": 4,
   "metadata": {
    "deletable": false,
    "editable": false,
    "nbgrader": {
     "cell_type": "code",
     "checksum": "6cb8299e4dc403d9d6dce806313dd6e7",
     "grade": false,
     "grade_id": "cell-485040af67e0aad9",
     "locked": true,
     "schema_version": 3,
     "solution": false,
     "task": false
    }
   },
   "outputs": [
    {
     "data": {
      "image/png": "[encoded data removed]",
      "text/plain": [
       "plot without title"
      ]
     },
     "metadata": {
      "image/png": {
       "height": 420,
       "width": 420
      },
      "text/plain": {
       "height": 420,
       "width": 420
      }
     },
     "output_type": "display_data"
    }
   ],
   "source": [
    "# look at the scatter plot of numerical variables\n",
    "ggplot(creditdata, aes(x = age, y = credit_amount, color = creditability)) +\n",
    "  geom_point() +\n",
    "  labs(x = \"age\", y = \"credit_amount\", color = \"creditability  \") \n"
   ]
  },
  {
   "cell_type": "markdown",
   "metadata": {
    "deletable": false,
    "editable": false,
    "nbgrader": {
     "cell_type": "markdown",
     "checksum": "b5d88a6d745ae390651eff2701962c7d",
     "grade": false,
     "grade_id": "cell-600b9dd1a6430d28",
     "locked": true,
     "schema_version": 3,
     "solution": false,
     "task": false
    }
   },
   "source": [
    "## Data pre-processing\n",
    "Before conducting knn analysis, we will need to prepare our data: \n",
    "- First, we will split data into test and training sets.\n",
    "- Then, in the second step, we will do  centering and scaling.  For numerical data,  we will need to **center** and **scale** data to prevent differences in unit of measurements to dominate the distance measurement.  \n",
    "- For categorical features, we will conduct **one-hot encoding** such that there will be one dummy variable for each group of a categorical variable. \n",
    "\n",
    "In this lab assignment, we will use  **recipe** function in **recipes** package to pre process the data. **step_center** and **step_scale** functions are used to scale the data and **step_dummy** function to conduct **one-hot encoding**, shown in the next code chunk.   "
   ]
  },
  {
   "cell_type": "code",
   "execution_count": 5,
   "metadata": {
    "deletable": false,
    "editable": false,
    "nbgrader": {
     "cell_type": "code",
     "checksum": "1736e76b0809aef93b992aeaf9e78fc7",
     "grade": false,
     "grade_id": "cell-33fcfd0595465f11",
     "locked": true,
     "schema_version": 3,
     "solution": false,
     "task": false
    }
   },
   "outputs": [],
   "source": [
    "# Step 1: data splitting with caret package. Hold 30% for testing. \n",
    "\n",
    "set.seed(4230) \n",
    "row_index <- createDataPartition(creditdata$creditability, p = 0.7,\n",
    "list = FALSE)\n",
    "train_set <- creditdata[row_index, ]  # name training set\n",
    "test_set <- creditdata[-row_index, ]   # name the test set\n",
    "\n",
    "\n",
    "\n",
    "\n",
    "# steps 2 and 3\n",
    "# some cleaning with recipe function. do the pre processing on the train_set\n",
    " \n",
    "features_train <- recipe(creditability  ~ ., data = creditdata) %>%\n",
    "  step_center(all_numeric(), -all_outcomes()) %>%\n",
    "  step_scale(all_numeric(), -all_outcomes())%>%\n",
    "step_dummy(all_nominal(), -all_outcomes(), one_hot = TRUE) %>%\n",
    "prep(training = train_set, retain = TRUE) %>%\n",
    "juice() %>%\n",
    "  select(-creditability)\n",
    "\n",
    "\n",
    "# some cleaning with recipe function. do the pre processing on the test_set\n",
    "features_test <- recipe(creditability  ~ ., data = creditdata) %>%\n",
    "  step_center(all_numeric(), -all_outcomes()) %>%\n",
    "  step_scale(all_numeric(), -all_outcomes())%>%\n",
    "step_dummy(all_nominal(), -all_outcomes(), one_hot = TRUE) %>%\n",
    "prep(training = test_set, retain = TRUE) %>%\n",
    "juice() %>%\n",
    "  select(-creditability)\n",
    "\n",
    "\n",
    "\n",
    "\n",
    "# In the original data, we had two numerical and two categorical variables:\n",
    "#payment_status with 5 classes and sex_marital with 4 classes\n",
    "#With one-hot encoding, payment_status variable is  splitted into five dummies\n",
    "\n",
    "# And sex_marital   variable is splitted into four dummy variables \n",
    "# In total, we ended up with 11 features\n",
    "# 'credit_amount''age''payment_status_X0''payment_status_X1''payment_status_X2''payment_status_X3''payment_status_X4''sex_marital_X1''sex_marital_X2''sex_marital_X3''sex_marital_X4'"
   ]
  },
  {
   "cell_type": "code",
   "execution_count": 6,
   "metadata": {
    "deletable": false,
    "editable": false,
    "nbgrader": {
     "cell_type": "code",
     "checksum": "8a2e0ed2eec31d0946ebeb717f62ef97",
     "grade": false,
     "grade_id": "cell-8863079730092611",
     "locked": true,
     "schema_version": 3,
     "solution": false,
     "task": false
    }
   },
   "outputs": [
    {
     "name": "stdout",
     "output_type": "stream",
     "text": [
      "[1] 700  11\n",
      " credit_amount          age          payment_status_X0 payment_status_X1\n",
      " Min.   :-1.0458   Min.   :-1.4593   Min.   :0.00000   Min.   :0.00000  \n",
      " 1st Qu.:-0.6637   1st Qu.:-0.7477   1st Qu.:0.00000   1st Qu.:0.00000  \n",
      " Median :-0.3569   Median :-0.2140   Median :0.00000   Median :0.00000  \n",
      " Mean   : 0.0000   Mean   : 0.0000   Mean   :0.03857   Mean   :0.04857  \n",
      " 3rd Qu.: 0.2382   3rd Qu.: 0.4976   3rd Qu.:0.00000   3rd Qu.:0.00000  \n",
      " Max.   : 5.1357   Max.   : 3.5219   Max.   :1.00000   Max.   :1.00000  \n",
      " payment_status_X2 payment_status_X3 payment_status_X4 sex_marital_X1   \n",
      " Min.   :0.0000    Min.   :0.00000   Min.   :0.0000    Min.   :0.00000  \n",
      " 1st Qu.:0.0000    1st Qu.:0.00000   1st Qu.:0.0000    1st Qu.:0.00000  \n",
      " Median :1.0000    Median :0.00000   Median :0.0000    Median :0.00000  \n",
      " Mean   :0.5386    Mean   :0.07857   Mean   :0.2957    Mean   :0.05714  \n",
      " 3rd Qu.:1.0000    3rd Qu.:0.00000   3rd Qu.:1.0000    3rd Qu.:0.00000  \n",
      " Max.   :1.0000    Max.   :1.00000   Max.   :1.0000    Max.   :1.00000  \n",
      " sex_marital_X2   sex_marital_X3   sex_marital_X4   \n",
      " Min.   :0.0000   Min.   :0.0000   Min.   :0.00000  \n",
      " 1st Qu.:0.0000   1st Qu.:0.0000   1st Qu.:0.00000  \n",
      " Median :0.0000   Median :1.0000   Median :0.00000  \n",
      " Mean   :0.3057   Mean   :0.5557   Mean   :0.08143  \n",
      " 3rd Qu.:1.0000   3rd Qu.:1.0000   3rd Qu.:0.00000  \n",
      " Max.   :1.0000   Max.   :1.0000   Max.   :1.00000  \n"
     ]
    }
   ],
   "source": [
    "# check the dimension of the features \n",
    "# With one hot encoding, instead of four , we now have eleven predictors\n",
    "print(dim(features_train))\n",
    "\n",
    "# check the summary statistics of features\n",
    "print(summary(features_train))"
   ]
  },
  {
   "cell_type": "markdown",
   "metadata": {
    "deletable": false,
    "editable": false,
    "nbgrader": {
     "cell_type": "markdown",
     "checksum": "3ba29f388fd9c47a868682beb270ef85",
     "grade": false,
     "grade_id": "cell-e2048a12c406e115",
     "locked": true,
     "schema_version": 3,
     "solution": false,
     "task": false
    }
   },
   "source": [
    "## knn approach\n",
    "Knn approach is not good at handling missing values.  Luckily, there is no missing value in our dataset and it can be checked with the following line of code: \n",
    "**sapply(creditdata, function(x) sum(is.na(x)))**\n",
    "\n",
    "We will use **knn** function in **class** package to get the label predictions. \n",
    "\n",
    "\n",
    "First, for illustration purposes, we will select one data point from the test set, calculate the distance to each observation in the training data set and look at the closest observations and their corresponding labels. Distance is a measure of dissimilarity, the closer the distance between two observations, the higher the similarity. This is just a practice to help you understand the algorithm behind knn. \n",
    "\n",
    "First, we will use **dist()** function in R and calculate the Manhattan distance between the first observation in the test set and each observation in the training set. Since we need all numerical variables to be scaled and categorical variables to be hot-encoding, we will use  **features_train** and **features_test** for distance measurement. \n",
    "\n",
    "\n",
    " \n",
    " We take the first observation in test data (we name it as test1 below) and calculate the pairwise distances for each observation in the train set and later collect them in a data frame along with the train data labels and call it **collect**.\n",
    " \n",
    " In  **collect**, the first column **train_label** shows the data label in train data set. The second column **distance** shows the Manhattan distance from the first observation in the test data set and each observation in the train dataset.  \n",
    " \n",
    "       \n"
   ]
  },
  {
   "cell_type": "code",
   "execution_count": 7,
   "metadata": {
    "deletable": false,
    "editable": false,
    "nbgrader": {
     "cell_type": "code",
     "checksum": "c022665f2105233340cb7835d671abcb",
     "grade": false,
     "grade_id": "cell-fcefab548128be3c",
     "locked": true,
     "schema_version": 3,
     "solution": false,
     "task": false
    }
   },
   "outputs": [
    {
     "data": {
      "text/html": [
       "<table>\n",
       "<caption>A data.frame: 6 × 2</caption>\n",
       "<thead>\n",
       "\t<tr><th></th><th scope=col>train_label</th><th scope=col>distance</th></tr>\n",
       "\t<tr><th></th><th scope=col>&lt;fct&gt;</th><th scope=col>&lt;dbl&gt;</th></tr>\n",
       "</thead>\n",
       "<tbody>\n",
       "\t<tr><th scope=row>2</th><td>1</td><td>3.9301694</td></tr>\n",
       "\t<tr><th scope=row>3</th><td>1</td><td>5.8230155</td></tr>\n",
       "\t<tr><th scope=row>4</th><td>1</td><td>0.4738137</td></tr>\n",
       "\t<tr><th scope=row>5</th><td>1</td><td>1.3395091</td></tr>\n",
       "\t<tr><th scope=row>6</th><td>1</td><td>0.4699036</td></tr>\n",
       "\t<tr><th scope=row>7</th><td>1</td><td>0.9272197</td></tr>\n",
       "</tbody>\n",
       "</table>\n"
      ],
      "text/latex": [
       "A data.frame: 6 × 2\n",
       "\\begin{tabular}{r|ll}\n",
       "  & train\\_label & distance\\\\\n",
       "  & <fct> & <dbl>\\\\\n",
       "\\hline\n",
       "\t2 & 1 & 3.9301694\\\\\n",
       "\t3 & 1 & 5.8230155\\\\\n",
       "\t4 & 1 & 0.4738137\\\\\n",
       "\t5 & 1 & 1.3395091\\\\\n",
       "\t6 & 1 & 0.4699036\\\\\n",
       "\t7 & 1 & 0.9272197\\\\\n",
       "\\end{tabular}\n"
      ],
      "text/markdown": [
       "\n",
       "A data.frame: 6 × 2\n",
       "\n",
       "| <!--/--> | train_label &lt;fct&gt; | distance &lt;dbl&gt; |\n",
       "|---|---|---|\n",
       "| 2 | 1 | 3.9301694 |\n",
       "| 3 | 1 | 5.8230155 |\n",
       "| 4 | 1 | 0.4738137 |\n",
       "| 5 | 1 | 1.3395091 |\n",
       "| 6 | 1 | 0.4699036 |\n",
       "| 7 | 1 | 0.9272197 |\n",
       "\n"
      ],
      "text/plain": [
       "  train_label distance \n",
       "2 1           3.9301694\n",
       "3 1           5.8230155\n",
       "4 1           0.4738137\n",
       "5 1           1.3395091\n",
       "6 1           0.4699036\n",
       "7 1           0.9272197"
      ]
     },
     "metadata": {},
     "output_type": "display_data"
    }
   ],
   "source": [
    "test1<-features_test[1,]  # this is the first observation in test data\n",
    "\n",
    "combine <- rbind(test1,features_train)  # stack test1 and train data feaures, test1 being the first row\n",
    "\n",
    "distanceALL<-as.matrix(dist(combine, method = \"manhattan\"))  # calculate distance from each row in combine against all other rows and save it as a matrix\n",
    "collect<-cbind(as.data.frame(train_set$creditability),distanceALL[2:701,1]) # combine train_set labels with the distance measure\n",
    "names<-c('train_label','distance')\n",
    "names(collect) <-names\n",
    "head(collect)  # list the first few observations in collect\n",
    "\n",
    "collect<-as.data.frame(collect)"
   ]
  },
  {
   "cell_type": "code",
   "execution_count": 8,
   "metadata": {},
   "outputs": [
    {
     "name": "stdout",
     "output_type": "stream",
     "text": [
      "[1] 0.05748176 0.11378517 0.12875088 0.16121630 0.16974302 0.23162823 0.23945121\n",
      "[8] 0.27807582 0.29251147\n"
     ]
    }
   ],
   "source": [
    "\n",
    "Nine_neighbors <- head(sort(collect$distance, decreasing = FALSE,), n=9)\n",
    "print(Nine_neighbors)"
   ]
  },
  {
   "cell_type": "markdown",
   "metadata": {
    "deletable": false,
    "editable": false,
    "nbgrader": {
     "cell_type": "markdown",
     "checksum": "b7a56ac227ffc0f5e6c44dff8a363f2e",
     "grade": false,
     "grade_id": "cell-bd9700dd77772f48",
     "locked": true,
     "schema_version": 3,
     "solution": false,
     "task": false
    }
   },
   "source": [
    "## Exercise 1\n",
    "\n",
    "Sort **collect** based on **distance** in ascending order (from lowest to highest) and only show the first 9 rows and call it **Nine_neighbors**. \n"
   ]
  },
  {
   "cell_type": "code",
   "execution_count": 9,
   "metadata": {
    "deletable": false,
    "nbgrader": {
     "cell_type": "code",
     "checksum": "4c9738399286931f863a622a8ae2e048",
     "grade": false,
     "grade_id": "cell-f5ab77d33b04b902",
     "locked": false,
     "schema_version": 3,
     "solution": true,
     "task": false
    }
   },
   "outputs": [
    {
     "name": "stdout",
     "output_type": "stream",
     "text": [
      "  train_label   distance\n",
      "1           1 0.05748176\n",
      "2           1 0.11378517\n",
      "3           1 0.12875088\n",
      "4           1 0.16121630\n",
      "5           1 0.16974302\n",
      "6           1 0.23162823\n",
      "7           1 0.23945121\n",
      "8           1 0.27807582\n",
      "9           1 0.29251147\n"
     ]
    }
   ],
   "source": [
    "\n",
    "# Exercise #1:  List the Nine_neighbors\n",
    "\n",
    "# your code here (arrange)\n",
    "\n",
    "Nine_neighbors <- head(arrange(collect,(distance)), n = 9)\n",
    "print(Nine_neighbors)"
   ]
  },
  {
   "cell_type": "code",
   "execution_count": 10,
   "metadata": {
    "deletable": false,
    "editable": false,
    "nbgrader": {
     "cell_type": "code",
     "checksum": "ecd9cb4dc45aecf40ccb70973b508498",
     "grade": true,
     "grade_id": "cell-e10615c8c0057321",
     "locked": true,
     "points": 20,
     "schema_version": 3,
     "solution": false,
     "task": false
    }
   },
   "outputs": [
    {
     "name": "stdout",
     "output_type": "stream",
     "text": [
      "[1] \"Passed!\"\n"
     ]
    }
   ],
   "source": [
    "# Test your code in here\n",
    "### BEGIN HIDDEN TEST\n",
    "\n",
    "\n",
    "test_that(\"Check distance measures\", {\n",
    "    expect_equal( min(Nine_neighbors$distance),0.0574817558633449)})\n",
    "\n",
    "test_that(\"Check distance measures\", {\n",
    "    expect_equal( max(Nine_neighbors$distance),0.29251146576787)})\n",
    "\n",
    "\n",
    "test_that(\"Check distance measures\", {\n",
    "    expect_equal( mean(Nine_neighbors$distance),0.185849316164428)})\n",
    "        \n",
    "print(\"Passed!\")\n",
    "\n",
    "### END HIDDEN TEST"
   ]
  },
  {
   "cell_type": "markdown",
   "metadata": {
    "deletable": false,
    "editable": false,
    "nbgrader": {
     "cell_type": "markdown",
     "checksum": "739518429be3345e404c016b96937794",
     "grade": false,
     "grade_id": "cell-de5a8ce341464977",
     "locked": true,
     "schema_version": 3,
     "solution": false,
     "task": false
    }
   },
   "source": [
    "## Exercise 2\n",
    "\n",
    "Use **knn** function in **class** package and predict labels in the test data with knn when k=5. Use **set.seed(4230)** and name the predicted  test data labels  as **knn_five**. (**knn_five** is a vector of length 300)   \n",
    "\n",
    "Please note than knn() function in the class package requires predictors and labels to be entered separately. More specifically, predictors need to be a matrix and the label to be a vector only. Hence,  you need to feed the knn() function with  **features_train** and **train_set$creditability** where the former is in matrix format and the latter is a vector. \n",
    "\n"
   ]
  },
  {
   "cell_type": "code",
   "execution_count": 11,
   "metadata": {
    "deletable": false,
    "editable": false,
    "nbgrader": {
     "cell_type": "code",
     "checksum": "9f09c4f7dfc3556e9db6fc00803bcd35",
     "grade": false,
     "grade_id": "cell-4028e81e7a08ea68",
     "locked": true,
     "schema_version": 3,
     "solution": false,
     "task": false
    }
   },
   "outputs": [],
   "source": [
    "class_error = function(actual, predicted) {\n",
    "  mean(actual != predicted)\n",
    "}"
   ]
  },
  {
   "cell_type": "code",
   "execution_count": 12,
   "metadata": {},
   "outputs": [
    {
     "data": {
      "text/html": [
       "<style>\n",
       ".list-inline {list-style: none; margin:0; padding: 0}\n",
       ".list-inline>li {display: inline-block}\n",
       ".list-inline>li:not(:last-child)::after {content: \"\\00b7\"; padding: 0 .5ex}\n",
       "</style>\n",
       "<ol class=list-inline><li>1</li><li>1</li><li>1</li><li>1</li><li>1</li><li>1</li><li>1</li><li>0</li><li>1</li><li>1</li><li>1</li><li>1</li><li>1</li><li>1</li><li>1</li><li>1</li><li>1</li><li>1</li><li>1</li><li>1</li><li>1</li><li>1</li><li>1</li><li>1</li><li>1</li><li>1</li><li>1</li><li>1</li><li>1</li><li>1</li><li>1</li><li>1</li><li>1</li><li>1</li><li>0</li><li>1</li><li>1</li><li>1</li><li>1</li><li>1</li><li>1</li><li>1</li><li>1</li><li>1</li><li>1</li><li>1</li><li>1</li><li>1</li><li>1</li><li>1</li><li>1</li><li>1</li><li>1</li><li>1</li><li>1</li><li>0</li><li>1</li><li>1</li><li>1</li><li>1</li><li>1</li><li>1</li><li>1</li><li>1</li><li>1</li><li>1</li><li>1</li><li>1</li><li>1</li><li>1</li><li>1</li><li>1</li><li>1</li><li>1</li><li>1</li><li>1</li><li>1</li><li>1</li><li>1</li><li>1</li><li>1</li><li>1</li><li>1</li><li>1</li><li>1</li><li>1</li><li>1</li><li>1</li><li>1</li><li>1</li><li>1</li><li>1</li><li>0</li><li>1</li><li>1</li><li>1</li><li>1</li><li>1</li><li>1</li><li>1</li><li>1</li><li>1</li><li>1</li><li>1</li><li>1</li><li>1</li><li>1</li><li>1</li><li>1</li><li>1</li><li>1</li><li>1</li><li>1</li><li>1</li><li>1</li><li>1</li><li>1</li><li>1</li><li>1</li><li>1</li><li>1</li><li>1</li><li>1</li><li>1</li><li>1</li><li>1</li><li>1</li><li>1</li><li>1</li><li>1</li><li>1</li><li>1</li><li>1</li><li>1</li><li>1</li><li>1</li><li>1</li><li>1</li><li>1</li><li>1</li><li>1</li><li>0</li><li>1</li><li>1</li><li>1</li><li>1</li><li>1</li><li>1</li><li>1</li><li>1</li><li>1</li><li>1</li><li>1</li><li>1</li><li>1</li><li>1</li><li>1</li><li>1</li><li>1</li><li>1</li><li>0</li><li>1</li><li>1</li><li>1</li><li>1</li><li>1</li><li>1</li><li>1</li><li>1</li><li>1</li><li>1</li><li>1</li><li>1</li><li>0</li><li>0</li><li>1</li><li>1</li><li>1</li><li>1</li><li>0</li><li>1</li><li>1</li><li>0</li><li>1</li><li>0</li><li>1</li><li>1</li><li>1</li><li>1</li><li>1</li><li>0</li><li>1</li><li>1</li><li>1</li><li>1</li><li>1</li><li>1</li><li>1</li><li>1</li><li>1</li><li>1</li><li>1</li><li>1</li><li>1</li><li>1</li><li>1</li><li>1</li><li>1</li><li>1</li><li>1</li><li>1</li><li>1</li><li>1</li><li>1</li><li>1</li><li>1</li><li>1</li><li>1</li><li>1</li><li>1</li><li>1</li><li>1</li><li>0</li><li>0</li><li>0</li><li>0</li><li>0</li><li>0</li><li>0</li><li>0</li><li>0</li><li>0</li><li>0</li><li>0</li><li>0</li><li>0</li><li>0</li><li>0</li><li>0</li><li>0</li><li>0</li><li>0</li><li>0</li><li>0</li><li>0</li><li>0</li><li>0</li><li>0</li><li>0</li><li>0</li><li>0</li><li>0</li><li>0</li><li>0</li><li>0</li><li>0</li><li>0</li><li>0</li><li>0</li><li>0</li><li>0</li><li>0</li><li>0</li><li>0</li><li>0</li><li>0</li><li>0</li><li>0</li><li>0</li><li>0</li><li>0</li><li>0</li><li>0</li><li>0</li><li>0</li><li>0</li><li>0</li><li>0</li><li>0</li><li>0</li><li>0</li><li>0</li><li>0</li><li>0</li><li>0</li><li>0</li><li>0</li><li>0</li><li>0</li><li>0</li><li>0</li><li>0</li><li>0</li><li>0</li><li>0</li><li>0</li><li>0</li><li>0</li><li>0</li><li>0</li></ol>\n",
       "\n",
       "<details>\n",
       "\t<summary style=display:list-item;cursor:pointer>\n",
       "\t\t<strong>Levels</strong>:\n",
       "\t</summary>\n",
       "\t<style>\n",
       "\t.list-inline {list-style: none; margin:0; padding: 0}\n",
       "\t.list-inline>li {display: inline-block}\n",
       "\t.list-inline>li:not(:last-child)::after {content: \"\\00b7\"; padding: 0 .5ex}\n",
       "\t</style>\n",
       "\t<ol class=list-inline><li>'0'</li><li>'1'</li></ol>\n",
       "</details>"
      ],
      "text/latex": [
       "\\begin{enumerate*}\n",
       "\\item 1\n",
       "\\item 1\n",
       "\\item 1\n",
       "\\item 1\n",
       "\\item 1\n",
       "\\item 1\n",
       "\\item 1\n",
       "\\item 0\n",
       "\\item 1\n",
       "\\item 1\n",
       "\\item 1\n",
       "\\item 1\n",
       "\\item 1\n",
       "\\item 1\n",
       "\\item 1\n",
       "\\item 1\n",
       "\\item 1\n",
       "\\item 1\n",
       "\\item 1\n",
       "\\item 1\n",
       "\\item 1\n",
       "\\item 1\n",
       "\\item 1\n",
       "\\item 1\n",
       "\\item 1\n",
       "\\item 1\n",
       "\\item 1\n",
       "\\item 1\n",
       "\\item 1\n",
       "\\item 1\n",
       "\\item 1\n",
       "\\item 1\n",
       "\\item 1\n",
       "\\item 1\n",
       "\\item 0\n",
       "\\item 1\n",
       "\\item 1\n",
       "\\item 1\n",
       "\\item 1\n",
       "\\item 1\n",
       "\\item 1\n",
       "\\item 1\n",
       "\\item 1\n",
       "\\item 1\n",
       "\\item 1\n",
       "\\item 1\n",
       "\\item 1\n",
       "\\item 1\n",
       "\\item 1\n",
       "\\item 1\n",
       "\\item 1\n",
       "\\item 1\n",
       "\\item 1\n",
       "\\item 1\n",
       "\\item 1\n",
       "\\item 0\n",
       "\\item 1\n",
       "\\item 1\n",
       "\\item 1\n",
       "\\item 1\n",
       "\\item 1\n",
       "\\item 1\n",
       "\\item 1\n",
       "\\item 1\n",
       "\\item 1\n",
       "\\item 1\n",
       "\\item 1\n",
       "\\item 1\n",
       "\\item 1\n",
       "\\item 1\n",
       "\\item 1\n",
       "\\item 1\n",
       "\\item 1\n",
       "\\item 1\n",
       "\\item 1\n",
       "\\item 1\n",
       "\\item 1\n",
       "\\item 1\n",
       "\\item 1\n",
       "\\item 1\n",
       "\\item 1\n",
       "\\item 1\n",
       "\\item 1\n",
       "\\item 1\n",
       "\\item 1\n",
       "\\item 1\n",
       "\\item 1\n",
       "\\item 1\n",
       "\\item 1\n",
       "\\item 1\n",
       "\\item 1\n",
       "\\item 1\n",
       "\\item 0\n",
       "\\item 1\n",
       "\\item 1\n",
       "\\item 1\n",
       "\\item 1\n",
       "\\item 1\n",
       "\\item 1\n",
       "\\item 1\n",
       "\\item 1\n",
       "\\item 1\n",
       "\\item 1\n",
       "\\item 1\n",
       "\\item 1\n",
       "\\item 1\n",
       "\\item 1\n",
       "\\item 1\n",
       "\\item 1\n",
       "\\item 1\n",
       "\\item 1\n",
       "\\item 1\n",
       "\\item 1\n",
       "\\item 1\n",
       "\\item 1\n",
       "\\item 1\n",
       "\\item 1\n",
       "\\item 1\n",
       "\\item 1\n",
       "\\item 1\n",
       "\\item 1\n",
       "\\item 1\n",
       "\\item 1\n",
       "\\item 1\n",
       "\\item 1\n",
       "\\item 1\n",
       "\\item 1\n",
       "\\item 1\n",
       "\\item 1\n",
       "\\item 1\n",
       "\\item 1\n",
       "\\item 1\n",
       "\\item 1\n",
       "\\item 1\n",
       "\\item 1\n",
       "\\item 1\n",
       "\\item 1\n",
       "\\item 1\n",
       "\\item 1\n",
       "\\item 1\n",
       "\\item 1\n",
       "\\item 0\n",
       "\\item 1\n",
       "\\item 1\n",
       "\\item 1\n",
       "\\item 1\n",
       "\\item 1\n",
       "\\item 1\n",
       "\\item 1\n",
       "\\item 1\n",
       "\\item 1\n",
       "\\item 1\n",
       "\\item 1\n",
       "\\item 1\n",
       "\\item 1\n",
       "\\item 1\n",
       "\\item 1\n",
       "\\item 1\n",
       "\\item 1\n",
       "\\item 1\n",
       "\\item 0\n",
       "\\item 1\n",
       "\\item 1\n",
       "\\item 1\n",
       "\\item 1\n",
       "\\item 1\n",
       "\\item 1\n",
       "\\item 1\n",
       "\\item 1\n",
       "\\item 1\n",
       "\\item 1\n",
       "\\item 1\n",
       "\\item 1\n",
       "\\item 0\n",
       "\\item 0\n",
       "\\item 1\n",
       "\\item 1\n",
       "\\item 1\n",
       "\\item 1\n",
       "\\item 0\n",
       "\\item 1\n",
       "\\item 1\n",
       "\\item 0\n",
       "\\item 1\n",
       "\\item 0\n",
       "\\item 1\n",
       "\\item 1\n",
       "\\item 1\n",
       "\\item 1\n",
       "\\item 1\n",
       "\\item 0\n",
       "\\item 1\n",
       "\\item 1\n",
       "\\item 1\n",
       "\\item 1\n",
       "\\item 1\n",
       "\\item 1\n",
       "\\item 1\n",
       "\\item 1\n",
       "\\item 1\n",
       "\\item 1\n",
       "\\item 1\n",
       "\\item 1\n",
       "\\item 1\n",
       "\\item 1\n",
       "\\item 1\n",
       "\\item 1\n",
       "\\item 1\n",
       "\\item 1\n",
       "\\item 1\n",
       "\\item 1\n",
       "\\item 1\n",
       "\\item 1\n",
       "\\item 1\n",
       "\\item 1\n",
       "\\item 1\n",
       "\\item 1\n",
       "\\item 1\n",
       "\\item 1\n",
       "\\item 1\n",
       "\\item 1\n",
       "\\item 1\n",
       "\\item 0\n",
       "\\item 0\n",
       "\\item 0\n",
       "\\item 0\n",
       "\\item 0\n",
       "\\item 0\n",
       "\\item 0\n",
       "\\item 0\n",
       "\\item 0\n",
       "\\item 0\n",
       "\\item 0\n",
       "\\item 0\n",
       "\\item 0\n",
       "\\item 0\n",
       "\\item 0\n",
       "\\item 0\n",
       "\\item 0\n",
       "\\item 0\n",
       "\\item 0\n",
       "\\item 0\n",
       "\\item 0\n",
       "\\item 0\n",
       "\\item 0\n",
       "\\item 0\n",
       "\\item 0\n",
       "\\item 0\n",
       "\\item 0\n",
       "\\item 0\n",
       "\\item 0\n",
       "\\item 0\n",
       "\\item 0\n",
       "\\item 0\n",
       "\\item 0\n",
       "\\item 0\n",
       "\\item 0\n",
       "\\item 0\n",
       "\\item 0\n",
       "\\item 0\n",
       "\\item 0\n",
       "\\item 0\n",
       "\\item 0\n",
       "\\item 0\n",
       "\\item 0\n",
       "\\item 0\n",
       "\\item 0\n",
       "\\item 0\n",
       "\\item 0\n",
       "\\item 0\n",
       "\\item 0\n",
       "\\item 0\n",
       "\\item 0\n",
       "\\item 0\n",
       "\\item 0\n",
       "\\item 0\n",
       "\\item 0\n",
       "\\item 0\n",
       "\\item 0\n",
       "\\item 0\n",
       "\\item 0\n",
       "\\item 0\n",
       "\\item 0\n",
       "\\item 0\n",
       "\\item 0\n",
       "\\item 0\n",
       "\\item 0\n",
       "\\item 0\n",
       "\\item 0\n",
       "\\item 0\n",
       "\\item 0\n",
       "\\item 0\n",
       "\\item 0\n",
       "\\item 0\n",
       "\\item 0\n",
       "\\item 0\n",
       "\\item 0\n",
       "\\item 0\n",
       "\\item 0\n",
       "\\item 0\n",
       "\\end{enumerate*}\n",
       "\n",
       "\\emph{Levels}: \\begin{enumerate*}\n",
       "\\item '0'\n",
       "\\item '1'\n",
       "\\end{enumerate*}\n"
      ],
      "text/markdown": [
       "1. 1\n",
       "2. 1\n",
       "3. 1\n",
       "4. 1\n",
       "5. 1\n",
       "6. 1\n",
       "7. 1\n",
       "8. 0\n",
       "9. 1\n",
       "10. 1\n",
       "11. 1\n",
       "12. 1\n",
       "13. 1\n",
       "14. 1\n",
       "15. 1\n",
       "16. 1\n",
       "17. 1\n",
       "18. 1\n",
       "19. 1\n",
       "20. 1\n",
       "21. 1\n",
       "22. 1\n",
       "23. 1\n",
       "24. 1\n",
       "25. 1\n",
       "26. 1\n",
       "27. 1\n",
       "28. 1\n",
       "29. 1\n",
       "30. 1\n",
       "31. 1\n",
       "32. 1\n",
       "33. 1\n",
       "34. 1\n",
       "35. 0\n",
       "36. 1\n",
       "37. 1\n",
       "38. 1\n",
       "39. 1\n",
       "40. 1\n",
       "41. 1\n",
       "42. 1\n",
       "43. 1\n",
       "44. 1\n",
       "45. 1\n",
       "46. 1\n",
       "47. 1\n",
       "48. 1\n",
       "49. 1\n",
       "50. 1\n",
       "51. 1\n",
       "52. 1\n",
       "53. 1\n",
       "54. 1\n",
       "55. 1\n",
       "56. 0\n",
       "57. 1\n",
       "58. 1\n",
       "59. 1\n",
       "60. 1\n",
       "61. 1\n",
       "62. 1\n",
       "63. 1\n",
       "64. 1\n",
       "65. 1\n",
       "66. 1\n",
       "67. 1\n",
       "68. 1\n",
       "69. 1\n",
       "70. 1\n",
       "71. 1\n",
       "72. 1\n",
       "73. 1\n",
       "74. 1\n",
       "75. 1\n",
       "76. 1\n",
       "77. 1\n",
       "78. 1\n",
       "79. 1\n",
       "80. 1\n",
       "81. 1\n",
       "82. 1\n",
       "83. 1\n",
       "84. 1\n",
       "85. 1\n",
       "86. 1\n",
       "87. 1\n",
       "88. 1\n",
       "89. 1\n",
       "90. 1\n",
       "91. 1\n",
       "92. 1\n",
       "93. 0\n",
       "94. 1\n",
       "95. 1\n",
       "96. 1\n",
       "97. 1\n",
       "98. 1\n",
       "99. 1\n",
       "100. 1\n",
       "101. 1\n",
       "102. 1\n",
       "103. 1\n",
       "104. 1\n",
       "105. 1\n",
       "106. 1\n",
       "107. 1\n",
       "108. 1\n",
       "109. 1\n",
       "110. 1\n",
       "111. 1\n",
       "112. 1\n",
       "113. 1\n",
       "114. 1\n",
       "115. 1\n",
       "116. 1\n",
       "117. 1\n",
       "118. 1\n",
       "119. 1\n",
       "120. 1\n",
       "121. 1\n",
       "122. 1\n",
       "123. 1\n",
       "124. 1\n",
       "125. 1\n",
       "126. 1\n",
       "127. 1\n",
       "128. 1\n",
       "129. 1\n",
       "130. 1\n",
       "131. 1\n",
       "132. 1\n",
       "133. 1\n",
       "134. 1\n",
       "135. 1\n",
       "136. 1\n",
       "137. 1\n",
       "138. 1\n",
       "139. 1\n",
       "140. 1\n",
       "141. 1\n",
       "142. 0\n",
       "143. 1\n",
       "144. 1\n",
       "145. 1\n",
       "146. 1\n",
       "147. 1\n",
       "148. 1\n",
       "149. 1\n",
       "150. 1\n",
       "151. 1\n",
       "152. 1\n",
       "153. 1\n",
       "154. 1\n",
       "155. 1\n",
       "156. 1\n",
       "157. 1\n",
       "158. 1\n",
       "159. 1\n",
       "160. 1\n",
       "161. 0\n",
       "162. 1\n",
       "163. 1\n",
       "164. 1\n",
       "165. 1\n",
       "166. 1\n",
       "167. 1\n",
       "168. 1\n",
       "169. 1\n",
       "170. 1\n",
       "171. 1\n",
       "172. 1\n",
       "173. 1\n",
       "174. 0\n",
       "175. 0\n",
       "176. 1\n",
       "177. 1\n",
       "178. 1\n",
       "179. 1\n",
       "180. 0\n",
       "181. 1\n",
       "182. 1\n",
       "183. 0\n",
       "184. 1\n",
       "185. 0\n",
       "186. 1\n",
       "187. 1\n",
       "188. 1\n",
       "189. 1\n",
       "190. 1\n",
       "191. 0\n",
       "192. 1\n",
       "193. 1\n",
       "194. 1\n",
       "195. 1\n",
       "196. 1\n",
       "197. 1\n",
       "198. 1\n",
       "199. 1\n",
       "200. 1\n",
       "201. 1\n",
       "202. 1\n",
       "203. 1\n",
       "204. 1\n",
       "205. 1\n",
       "206. 1\n",
       "207. 1\n",
       "208. 1\n",
       "209. 1\n",
       "210. 1\n",
       "211. 1\n",
       "212. 1\n",
       "213. 1\n",
       "214. 1\n",
       "215. 1\n",
       "216. 1\n",
       "217. 1\n",
       "218. 1\n",
       "219. 1\n",
       "220. 1\n",
       "221. 1\n",
       "222. 1\n",
       "223. 0\n",
       "224. 0\n",
       "225. 0\n",
       "226. 0\n",
       "227. 0\n",
       "228. 0\n",
       "229. 0\n",
       "230. 0\n",
       "231. 0\n",
       "232. 0\n",
       "233. 0\n",
       "234. 0\n",
       "235. 0\n",
       "236. 0\n",
       "237. 0\n",
       "238. 0\n",
       "239. 0\n",
       "240. 0\n",
       "241. 0\n",
       "242. 0\n",
       "243. 0\n",
       "244. 0\n",
       "245. 0\n",
       "246. 0\n",
       "247. 0\n",
       "248. 0\n",
       "249. 0\n",
       "250. 0\n",
       "251. 0\n",
       "252. 0\n",
       "253. 0\n",
       "254. 0\n",
       "255. 0\n",
       "256. 0\n",
       "257. 0\n",
       "258. 0\n",
       "259. 0\n",
       "260. 0\n",
       "261. 0\n",
       "262. 0\n",
       "263. 0\n",
       "264. 0\n",
       "265. 0\n",
       "266. 0\n",
       "267. 0\n",
       "268. 0\n",
       "269. 0\n",
       "270. 0\n",
       "271. 0\n",
       "272. 0\n",
       "273. 0\n",
       "274. 0\n",
       "275. 0\n",
       "276. 0\n",
       "277. 0\n",
       "278. 0\n",
       "279. 0\n",
       "280. 0\n",
       "281. 0\n",
       "282. 0\n",
       "283. 0\n",
       "284. 0\n",
       "285. 0\n",
       "286. 0\n",
       "287. 0\n",
       "288. 0\n",
       "289. 0\n",
       "290. 0\n",
       "291. 0\n",
       "292. 0\n",
       "293. 0\n",
       "294. 0\n",
       "295. 0\n",
       "296. 0\n",
       "297. 0\n",
       "298. 0\n",
       "299. 0\n",
       "300. 0\n",
       "\n",
       "\n",
       "\n",
       "**Levels**: 1. '0'\n",
       "2. '1'\n",
       "\n",
       "\n"
      ],
      "text/plain": [
       "  [1] 1 1 1 1 1 1 1 0 1 1 1 1 1 1 1 1 1 1 1 1 1 1 1 1 1 1 1 1 1 1 1 1 1 1 0 1 1\n",
       " [38] 1 1 1 1 1 1 1 1 1 1 1 1 1 1 1 1 1 1 0 1 1 1 1 1 1 1 1 1 1 1 1 1 1 1 1 1 1\n",
       " [75] 1 1 1 1 1 1 1 1 1 1 1 1 1 1 1 1 1 1 0 1 1 1 1 1 1 1 1 1 1 1 1 1 1 1 1 1 1\n",
       "[112] 1 1 1 1 1 1 1 1 1 1 1 1 1 1 1 1 1 1 1 1 1 1 1 1 1 1 1 1 1 1 0 1 1 1 1 1 1\n",
       "[149] 1 1 1 1 1 1 1 1 1 1 1 1 0 1 1 1 1 1 1 1 1 1 1 1 1 0 0 1 1 1 1 0 1 1 0 1 0\n",
       "[186] 1 1 1 1 1 0 1 1 1 1 1 1 1 1 1 1 1 1 1 1 1 1 1 1 1 1 1 1 1 1 1 1 1 1 1 1 1\n",
       "[223] 0 0 0 0 0 0 0 0 0 0 0 0 0 0 0 0 0 0 0 0 0 0 0 0 0 0 0 0 0 0 0 0 0 0 0 0 0\n",
       "[260] 0 0 0 0 0 0 0 0 0 0 0 0 0 0 0 0 0 0 0 0 0 0 0 0 0 0 0 0 0 0 0 0 0 0 0 0 0\n",
       "[297] 0 0 0 0\n",
       "Levels: 0 1"
      ]
     },
     "metadata": {},
     "output_type": "display_data"
    }
   ],
   "source": [
    "y_train <- train_set$creditability\n",
    "y_test  <- test_set$creditability\n",
    "\n",
    "y_test"
   ]
  },
  {
   "cell_type": "code",
   "execution_count": 13,
   "metadata": {
    "deletable": false,
    "nbgrader": {
     "cell_type": "code",
     "checksum": "352726145648c155ed3bbd2fca98ecd4",
     "grade": false,
     "grade_id": "cell-7e996ac7cba4fbef",
     "locked": false,
     "schema_version": 3,
     "solution": true,
     "task": false
    }
   },
   "outputs": [],
   "source": [
    "\n",
    "# Exercise #2: knn results when k=5\n",
    "\n",
    "# your code here \n",
    "\n",
    "y_train <- train_set$creditability\n",
    "y_test  <- test_set$creditability\n",
    "\n",
    "\n",
    "set.seed(4230)\n",
    "knn_five<-knn(train = features_train, \n",
    "         test  = features_test, \n",
    "         cl    = y_train, \n",
    "         k     = 5)\n",
    "\n",
    "## Pre process train data from Practice\n",
    "## labels in test and train set\n",
    "## train, test, cl (class or labels), k\n",
    "\n"
   ]
  },
  {
   "cell_type": "code",
   "execution_count": 14,
   "metadata": {
    "deletable": false,
    "editable": false,
    "nbgrader": {
     "cell_type": "code",
     "checksum": "a9da331e953c877d2d02abd482cf8cfc",
     "grade": true,
     "grade_id": "cell-492bd728ea73f9f2",
     "locked": true,
     "points": 20,
     "schema_version": 3,
     "solution": false,
     "task": false
    }
   },
   "outputs": [
    {
     "name": "stdout",
     "output_type": "stream",
     "text": [
      "[1] \"Passed!\"\n"
     ]
    }
   ],
   "source": [
    "# Test your code in here\n",
    "### BEGIN HIDDEN TEST\n",
    "class_error = function(actual, predicted) {\n",
    "  mean(actual != predicted)\n",
    "}\n",
    "\n",
    "test_that(\"Check the classification error\", {\n",
    "    expect_equal( class_error(test_set$creditability,knn_five),0.353333333333333)})\n",
    "        \n",
    "print(\"Passed!\")\n",
    "\n",
    "### END HIDDEN TEST"
   ]
  },
  {
   "cell_type": "markdown",
   "metadata": {
    "deletable": false,
    "editable": false,
    "nbgrader": {
     "cell_type": "markdown",
     "checksum": "b6ca1742499b18b88aef9b87667d4a78",
     "grade": false,
     "grade_id": "cell-02e1517312287554",
     "locked": true,
     "schema_version": 3,
     "solution": false,
     "task": false
    }
   },
   "source": [
    "## Exercise 3\n",
    "\n",
    "Use **knn** function in **class** package and predict labels in the test data with knn when k=10. Use **set.seed(4230)** and name the predicted  test data labels  as **knn_ten**. (**knn_ten** is a vector of length 300)   \n",
    "\n",
    "Please note than knn() function in class package requires predictors and labels to be entered separately. More specifically, predictors need to be a matrix and the label to be a vector only. Hence,  you need to feed the knn() function with  **features_train** and **train_set$creditability** where the former is in matrix format and the latter is a vector. \n"
   ]
  },
  {
   "cell_type": "code",
   "execution_count": 15,
   "metadata": {
    "deletable": false,
    "nbgrader": {
     "cell_type": "code",
     "checksum": "b59837e8827044e31983c6b0898ba15d",
     "grade": false,
     "grade_id": "cell-b4cb350ba367eb2e",
     "locked": false,
     "schema_version": 3,
     "solution": true,
     "task": false
    }
   },
   "outputs": [],
   "source": [
    "# Exercise #3: knn results when k=10\n",
    "\n",
    "# your code here\n",
    "set.seed(4230)\n",
    "knn_ten<-knn(train = features_train, \n",
    "         test  = features_test, \n",
    "         cl    = y_train, \n",
    "         k     = 10)\n",
    "## Pre process train data from Practice\n",
    "## labels in test and train set\n",
    "## train, test, cl (class or labels), k"
   ]
  },
  {
   "cell_type": "code",
   "execution_count": 16,
   "metadata": {
    "deletable": false,
    "editable": false,
    "nbgrader": {
     "cell_type": "code",
     "checksum": "664ac6f6b2312234a2c18e0eaf1e335e",
     "grade": true,
     "grade_id": "cell-b4b96cbe6b34071e",
     "locked": true,
     "points": 20,
     "schema_version": 3,
     "solution": false,
     "task": false
    }
   },
   "outputs": [
    {
     "name": "stdout",
     "output_type": "stream",
     "text": [
      "[1] \"Passed!\"\n"
     ]
    }
   ],
   "source": [
    "# Test your code in here\n",
    "### BEGIN HIDDEN TEST\n",
    "class_error = function(actual, predicted) {\n",
    "  mean(actual != predicted)\n",
    "}\n",
    "\n",
    "test_that(\"Check the classification error\", {\n",
    "    expect_equal( class_error(test_set$creditability,knn_ten),0.323333333333333)})\n",
    "        \n",
    "print(\"Passed!\")\n",
    "\n",
    "### END HIDDEN TEST"
   ]
  },
  {
   "cell_type": "markdown",
   "metadata": {
    "deletable": false,
    "editable": false,
    "nbgrader": {
     "cell_type": "markdown",
     "checksum": "1f85483a915b754e42058ca03e78a7fa",
     "grade": false,
     "grade_id": "cell-e3c8d2ce9046d6fa",
     "locked": true,
     "schema_version": 3,
     "solution": false,
     "task": false
    }
   },
   "source": [
    "## Exercise 4:  Performance Measure\n",
    "This time, we will take the predicted results based on **knn_ten** above and by using the confusion matrix, we will calculate several misclassification measures. Note that if someone has good credit,  creditability=1, we define it as a positive event. For instance, True Negative (TN) refers to cases where the true label (creditability) is 0, and our model predicts it as 0. Likewise, False Negative (FN) refers to cases where true label was 1 (good credit), but the model predicted to be 0. \n",
    "\n",
    "**measure** is a 4X2 matrix: the first column stores the performance measure names. Your task is to calculate each performance measure and enter your findings in the second column of measure.  **IMPORTANT:**  You need to enter your findings with two decimal points for the test to pass.  \n",
    "- For instance, if your performance measure is 0.27777777777777,  enter as 0.28.\n",
    "- For instance, if your performance measure is 0.4839123412342,  enter as 0.48.\n"
   ]
  },
  {
   "cell_type": "code",
   "execution_count": 19,
   "metadata": {
    "deletable": false,
    "editable": false,
    "nbgrader": {
     "cell_type": "code",
     "checksum": "900523b78be038036b16e65eb4e7134b",
     "grade": false,
     "grade_id": "cell-d06d507a909d926a",
     "locked": true,
     "schema_version": 3,
     "solution": false,
     "task": false
    }
   },
   "outputs": [],
   "source": [
    "# create a table to record model performance \n",
    "nam<-c(\"Accuracy\", \"Precision\", \"Sensitivity\",\"Specificity\", \" \",\" \",\" \",\" \")  # name the rows\n",
    "measure<-matrix(nam, nrow=4, ncol=2, byrow=FALSE)     # create a 4X2 matrix\n",
    "\n"
   ]
  },
  {
   "cell_type": "code",
   "execution_count": 20,
   "metadata": {},
   "outputs": [
    {
     "data": {
      "text/html": [
       "<table>\n",
       "<caption>A matrix: 4 × 2 of type chr</caption>\n",
       "<tbody>\n",
       "\t<tr><td>Accuracy   </td><td> </td></tr>\n",
       "\t<tr><td>Precision  </td><td> </td></tr>\n",
       "\t<tr><td>Sensitivity</td><td> </td></tr>\n",
       "\t<tr><td>Specificity</td><td> </td></tr>\n",
       "</tbody>\n",
       "</table>\n"
      ],
      "text/latex": [
       "A matrix: 4 × 2 of type chr\n",
       "\\begin{tabular}{ll}\n",
       "\t Accuracy    &  \\\\\n",
       "\t Precision   &  \\\\\n",
       "\t Sensitivity &  \\\\\n",
       "\t Specificity &  \\\\\n",
       "\\end{tabular}\n"
      ],
      "text/markdown": [
       "\n",
       "A matrix: 4 × 2 of type chr\n",
       "\n",
       "| Accuracy    | <!----> |\n",
       "| Precision   | <!----> |\n",
       "| Sensitivity | <!----> |\n",
       "| Specificity | <!----> |\n",
       "\n"
      ],
      "text/plain": [
       "     [,1]        [,2]\n",
       "[1,] Accuracy        \n",
       "[2,] Precision       \n",
       "[3,] Sensitivity     \n",
       "[4,] Specificity     "
      ]
     },
     "metadata": {},
     "output_type": "display_data"
    }
   ],
   "source": [
    "measure"
   ]
  },
  {
   "cell_type": "code",
   "execution_count": 21,
   "metadata": {
    "deletable": false,
    "nbgrader": {
     "cell_type": "code",
     "checksum": "c667fed06e4f0995041de67f65ce7f3f",
     "grade": false,
     "grade_id": "cell-a73d16fb1d63dcd8",
     "locked": false,
     "schema_version": 3,
     "solution": true,
     "task": false
    }
   },
   "outputs": [],
   "source": [
    "# Exercise #4: Performance measure\n",
    "\n",
    "# your code here\n",
    "## confusion matrix - table function (will give you a frequency table)\n",
    "\n",
    "measure[1,2]<-0.68\n",
    "measure[2,2]<-0.73\n",
    "measure[3,2]<-0.85\n",
    "measure[4,2]<-0.28\n"
   ]
  },
  {
   "cell_type": "code",
   "execution_count": 22,
   "metadata": {
    "deletable": false,
    "editable": false,
    "nbgrader": {
     "cell_type": "code",
     "checksum": "62a06a73355d9f078b7b97807f8397a7",
     "grade": true,
     "grade_id": "cell-86a4752ae988ee2d",
     "locked": true,
     "points": 20,
     "schema_version": 3,
     "solution": false,
     "task": false
    }
   },
   "outputs": [
    {
     "name": "stdout",
     "output_type": "stream",
     "text": [
      "[1] \"Passed!\"\n"
     ]
    }
   ],
   "source": [
    "# Test your code in here\n",
    "### BEGIN HIDDEN TEST\n",
    "\n",
    "test_that(\"Check the results\", {\n",
    "    expect_equal(as.numeric(measure[1,2])*as.numeric(measure[2,2])*as.numeric(measure[3,2]) ,0.42194\n",
    ")})\n",
    "\n",
    "\n",
    "test_that(\"Check the results\", {\n",
    "    expect_equal(as.numeric(measure[3,2])*as.numeric(measure[4,2]) ,0.238\n",
    "\n",
    ")})\n",
    "\n",
    "        \n",
    "print(\"Passed!\")\n",
    "\n",
    "\n",
    "\n",
    "### END HIDDEN TEST"
   ]
  },
  {
   "cell_type": "markdown",
   "metadata": {
    "deletable": false,
    "editable": false,
    "nbgrader": {
     "cell_type": "markdown",
     "checksum": "b1512f49ec51b68f2933c007b96b7b14",
     "grade": false,
     "grade_id": "cell-b4250467ceb7998d",
     "locked": true,
     "schema_version": 3,
     "solution": false,
     "task": false
    }
   },
   "source": [
    "## Parameter Tuning\n",
    "\n",
    "In knn, k is the only parameter we need to tune to find the optimal k. Next, we try k values from 1 to 50, and calculate the classification error for each k and save them as **k_class_error**. \n"
   ]
  },
  {
   "cell_type": "code",
   "execution_count": 23,
   "metadata": {
    "deletable": false,
    "editable": false,
    "nbgrader": {
     "cell_type": "code",
     "checksum": "b5df5cfd219432b97042660bdb9e3806",
     "grade": false,
     "grade_id": "cell-5d2580da96210f18",
     "locked": true,
     "schema_version": 3,
     "solution": false,
     "task": false
    }
   },
   "outputs": [
    {
     "name": "stdout",
     "output_type": "stream",
     "text": [
      " [1] 0.3600000 0.3666667 0.3366667 0.3633333 0.3533333 0.3266667 0.3466667\n",
      " [8] 0.3433333 0.3400000 0.3366667 0.3300000 0.3466667 0.3033333 0.3133333\n",
      "[15] 0.3033333 0.3000000 0.3100000 0.2966667 0.3100000 0.3100000 0.3033333\n",
      "[22] 0.3066667 0.2966667 0.2900000 0.2966667 0.3133333 0.2933333 0.2933333\n",
      "[29] 0.2866667 0.2866667 0.2866667 0.2800000 0.2900000 0.2900000 0.2933333\n",
      "[36] 0.2900000 0.2900000 0.2900000 0.2900000 0.3000000 0.2933333 0.2966667\n",
      "[43] 0.2900000 0.2966667 0.2933333 0.2933333 0.2933333 0.2900000 0.2900000\n",
      "[50] 0.2966667\n"
     ]
    }
   ],
   "source": [
    "set.seed(4230)\n",
    "k_values = 1:50\n",
    "k_class_error = seq(0,0,length.out=length(k_values))\n",
    "\n",
    "for (i in seq_along(k_values)) {\n",
    "  predicted_labels =  knn(train = features_train, \n",
    "         test  = features_test, \n",
    "         cl    = train_set$creditability, \n",
    "         k     =k_values[i] )\n",
    "  k_class_error[i] = class_error(test_set$creditability, predicted_labels)\n",
    "}\n",
    "\n",
    "print(k_class_error)"
   ]
  },
  {
   "cell_type": "markdown",
   "metadata": {
    "deletable": false,
    "editable": false,
    "nbgrader": {
     "cell_type": "markdown",
     "checksum": "7556343581f45477c44f81420d497b89",
     "grade": false,
     "grade_id": "cell-efefebd93f9e6d0e",
     "locked": true,
     "schema_version": 3,
     "solution": false,
     "task": false
    }
   },
   "source": [
    "## Exercise 5:\n",
    " Write a function to find the optimal k  (the k value which minimizes the classification error) and call it **optimal_k**.  In other words, at which value of **k** does the **k_class_error** take the minimum value?"
   ]
  },
  {
   "cell_type": "code",
   "execution_count": 26,
   "metadata": {
    "deletable": false,
    "nbgrader": {
     "cell_type": "code",
     "checksum": "8f044c4fa4ac1dd7167961aa6d0f6325",
     "grade": false,
     "grade_id": "cell-c849d747d413540a",
     "locked": false,
     "schema_version": 3,
     "solution": true,
     "task": false
    }
   },
   "outputs": [],
   "source": [
    "# Exercise #5: find the optimal k\n",
    "\n",
    "# your code here\n",
    "\n",
    "optimal_k <- which(k_class_error == min(k_class_error))"
   ]
  },
  {
   "cell_type": "code",
   "execution_count": 27,
   "metadata": {
    "deletable": false,
    "editable": false,
    "nbgrader": {
     "cell_type": "code",
     "checksum": "699ef4499d393984803e478b93a7f198",
     "grade": true,
     "grade_id": "cell-ace0ead680423117",
     "locked": true,
     "points": 20,
     "schema_version": 3,
     "solution": false,
     "task": false
    }
   },
   "outputs": [
    {
     "name": "stdout",
     "output_type": "stream",
     "text": [
      "[1] \"Passed!\"\n"
     ]
    }
   ],
   "source": [
    "# Test your code in here\n",
    "### BEGIN HIDDEN TEST\n",
    "\n",
    "test_that(\"Check the optimal k\", {\n",
    "    expect_equal( optimal_k/4,8)})\n",
    "        \n",
    "print(\"Passed!\")\n",
    "\n",
    "\n",
    "### END HIDDEN TEST\n"
   ]
  },
  {
   "cell_type": "markdown",
   "metadata": {
    "deletable": false,
    "editable": false,
    "nbgrader": {
     "cell_type": "markdown",
     "checksum": "6bfb08e8f87b3f4717903c2e1537b624",
     "grade": false,
     "grade_id": "cell-8c7ab42692d44aeb",
     "locked": true,
     "schema_version": 3,
     "solution": false,
     "task": false
    }
   },
   "source": [
    "## Cross validation\n",
    "A better approach to find the optimal k is cross-validation.  One can use caret package to conduct k-fold cross validation very easily. Since the Coursera platform does not support certain packages in the Lab Manager, we skipped the cross-validation part. "
   ]
  }
 ],
 "metadata": {
  "kernelspec": {
   "display_name": "R",
   "language": "R",
   "name": "ir"
  },
  "language_info": {
   "codemirror_mode": "r",
   "file_extension": ".r",
   "mimetype": "text/x-r-source",
   "name": "R",
   "pygments_lexer": "r",
   "version": "3.6.3"
  }
 },
 "nbformat": 4,
 "nbformat_minor": 4
}
