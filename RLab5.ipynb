{
 "cells": [
  {
   "cell_type": "markdown",
   "metadata": {
    "deletable": false,
    "editable": false,
    "nbgrader": {
     "cell_type": "markdown",
     "checksum": "92851ad1543f120ebcbd016e587ae3bb",
     "grade": false,
     "grade_id": "cell-7c1f0dde6eca5d30",
     "locked": true,
     "schema_version": 3,
     "solution": false,
     "task": false
    }
   },
   "source": [
    "## RLab5 on Bagging and Random Forest\n",
    "\n",
    "Random forest is an ensemble-based method that uses multiple decision trees constructed via bagging (bootstrapped aggregating) with random feature selection. Due to random selection of a subset of all features in tree-growing, it can handle large, noisy, or even missing data. In our weekly meeting, we used **ranger** package for the random forest analysis.  Since this package is not available in Coursera shell, we will use **randomForest** package. A sample code with this package was provided in lecture slides. \n",
    "\n",
    "## OFP - Visits to Physician Office Data\n",
    "\n",
    "Our data set contains the following variables:\n",
    "\n",
    "**Predictors**\n",
    "\n",
    "1.\t**ofp**:  number of physician office visits\n",
    "2.\t**ofnpv**:  number of nonphysician office visits\n",
    "3.\t**opp**:  number of physician outpatient visits\n",
    "4.\t**opnp**:  number of nonphysician outpatient visits\n",
    "5.\t**emr**:  number of emergency room visits \n",
    "6.  **hosp**  number of hospitalizations \n",
    "7.\t**numchron**: number of chronic conditions\n",
    "8.\t**adldiff**:  the person has a condition that limits activities of daily living ?\n",
    "9.\t**age**:  age in years (divided by 10)\n",
    "10.\t**black**:  is the person african–american ?\n",
    "11.\t**sex**: is the person male ?\n",
    "12.\t**married**:  is the person married ?\n",
    "13.\t**school**:  number of years of education \n",
    "14.\t**faminc**:  family income in $10000 \n",
    "15.\t**employed**:  is the person employed ?\n",
    "16.\t**privins**:  is the person covered by private health insurance ?\n",
    "17.\t**medicaid**:  is the person covered by medicaid ?\n",
    "18.\t**region**:  the region (noreast, midwest,west)\n",
    "\n",
    "**Target Variable**\n",
    "- **hlth**:  self-perceived health (excellent, poor, other)\n",
    "\n",
    "\n",
    "There are 4406 observations and 18 predictors in our dataset to predict our outcome variable **hlth**\n",
    "\n"
   ]
  },
  {
   "cell_type": "code",
   "execution_count": 1,
   "metadata": {
    "deletable": false,
    "editable": false,
    "nbgrader": {
     "cell_type": "code",
     "checksum": "1b83053d7cc6850b528da6828cae87dc",
     "grade": false,
     "grade_id": "cell-f56f86d082bd144c",
     "locked": true,
     "schema_version": 3,
     "solution": false,
     "task": false
    }
   },
   "outputs": [
    {
     "name": "stderr",
     "output_type": "stream",
     "text": [
      "\n",
      "Attaching package: ‘dplyr’\n",
      "\n",
      "\n",
      "The following objects are masked from ‘package:stats’:\n",
      "\n",
      "    filter, lag\n",
      "\n",
      "\n",
      "The following objects are masked from ‘package:base’:\n",
      "\n",
      "    intersect, setdiff, setequal, union\n",
      "\n",
      "\n",
      "Loading required package: lattice\n",
      "\n",
      "Loading required package: ggplot2\n",
      "\n",
      "randomForest 4.6-14\n",
      "\n",
      "Type rfNews() to see new features/changes/bug fixes.\n",
      "\n",
      "\n",
      "Attaching package: ‘randomForest’\n",
      "\n",
      "\n",
      "The following object is masked from ‘package:ggplot2’:\n",
      "\n",
      "    margin\n",
      "\n",
      "\n",
      "The following object is masked from ‘package:dplyr’:\n",
      "\n",
      "    combine\n",
      "\n",
      "\n",
      "\n",
      "Attaching package: ‘testthat’\n",
      "\n",
      "\n",
      "The following object is masked from ‘package:dplyr’:\n",
      "\n",
      "    matches\n",
      "\n",
      "\n"
     ]
    },
    {
     "name": "stdout",
     "output_type": "stream",
     "text": [
      "'data.frame':\t4406 obs. of  19 variables:\n",
      " $ ofp     : int  13 16 17 1 12 6 5 4 8 13 ...\n",
      " $ ofnp    : int  0 0 0 0 0 0 1 2 0 4 ...\n",
      " $ opp     : int  0 5 0 0 0 0 1 1 0 2 ...\n",
      " $ opnp    : int  0 0 0 0 0 0 0 0 0 15 ...\n",
      " $ emr     : int  3 1 0 0 1 0 3 0 0 0 ...\n",
      " $ hosp    : int  3 1 0 0 0 1 1 0 2 0 ...\n",
      " $ numchron: int  4 2 5 1 5 2 4 2 1 1 ...\n",
      " $ adldiff : int  1 1 1 1 0 0 1 0 0 1 ...\n",
      " $ age     : num  6.6 7.6 6.6 8.1 7.2 8.7 9 6.6 7.9 6.6 ...\n",
      " $ black   : Factor w/ 2 levels \"no\",\"yes\": 2 1 1 1 1 1 1 1 1 1 ...\n",
      " $ sex     : Factor w/ 2 levels \"female\",\"male\": 1 2 1 1 2 1 1 2 1 1 ...\n",
      " $ maried  : Factor w/ 2 levels \"no\",\"yes\": 1 2 1 1 2 1 1 2 1 2 ...\n",
      " $ school  : int  10 3 7 8 6 8 13 8 8 10 ...\n",
      " $ faminc  : num  0.653 0.659 0.33 0.899 0.613 ...\n",
      " $ employed: Factor w/ 2 levels \"no\",\"yes\": 1 1 1 1 1 1 1 1 1 1 ...\n",
      " $ privins : Factor w/ 2 levels \"no\",\"yes\": 1 2 1 1 1 2 2 2 2 2 ...\n",
      " $ medicaid: Factor w/ 2 levels \"no\",\"yes\": 2 1 2 2 2 1 1 1 1 1 ...\n",
      " $ region  : Factor w/ 4 levels \"midwest\",\"noreast\",..: 3 3 3 1 1 1 1 1 1 1 ...\n",
      " $ hlth    : Factor w/ 3 levels \"excellent\",\"other\",..: 3 3 3 3 3 3 3 3 3 3 ...\n",
      "NULL\n",
      "\n",
      "excellent     other      poor \n",
      "      241      2457       388 \n"
     ]
    }
   ],
   "source": [
    "# Call the necessary packages\n",
    "library(dplyr)\n",
    "library(rpart)\n",
    "library(ipred)\n",
    "library(caret)\n",
    "library(ggplot2)\n",
    "library(randomForest)\n",
    "library(knitr)\n",
    "library(testthat)\n",
    "\n",
    "# read the csv file in R and name it as OFP_data\n",
    "\n",
    "OFP_data<-read.csv(\"OFB.csv\", head=TRUE)\n",
    "\n",
    "# split data into training and testing sets, keep 30% of the data for validation\n",
    "set.seed(4230) #set the seed function\n",
    "index_data <- createDataPartition(OFP_data$hlth, p = 0.7,\n",
    "list = FALSE)\n",
    "OFP_train <- OFP_data[index_data, ]\n",
    "OFP_test <- OFP_data[-index_data, ]\n",
    "# check the data structure \n",
    "print(str(OFP_data))\n",
    "\n",
    "print(table(OFP_train$hlth))"
   ]
  },
  {
   "cell_type": "markdown",
   "metadata": {
    "deletable": false,
    "editable": false,
    "nbgrader": {
     "cell_type": "markdown",
     "checksum": "7f29884c780848c41de9010b0b42f5d8",
     "grade": false,
     "grade_id": "cell-625b20ecaa237c09",
     "locked": true,
     "schema_version": 3,
     "solution": false,
     "task": false
    }
   },
   "source": [
    "## Modeling self-perceived health status with Random Forest method\n",
    "\n",
    "We will use the **OFP_train** data to train random forest model to predict self-perceived health status. As shown above, in the **OFP_train** data, 241 people self-described their health status as \"excellent\", 388 as \"poor\" and the remaining 2457 of them as \"other\".  We will use **randomForest** function in **randomForest** package to try to predict **hlth**.\n",
    "\n",
    "By default, **randomForest**  function grows an ensemble of 500 trees and takes the square root of number of predictors as the number of random features  at each split in tree-growing.  **randomForest** function displays in the output page **OOB estimate of error rate**  which can be used as the estimate of error rate: if the model is applied to a brand new data, we expect random forest model to perform with an estimated error rate captured by **OOB estimate of error rate**. \n",
    "\n",
    "# Exercise 1:\n",
    "In exercise 1, just use the default parameters in **randomForest** function to predict **hlth** by training the model with the **OFP_train** dataset. Use **set.seed(22222)** to ensure your code will pass the test.   Name your model **rf_default**. \n"
   ]
  },
  {
   "cell_type": "code",
   "execution_count": 2,
   "metadata": {
    "deletable": false,
    "nbgrader": {
     "cell_type": "code",
     "checksum": "24bb09025fb599b701211540f0f9c2d0",
     "grade": false,
     "grade_id": "cell-b62fcb6d6c8f0f35",
     "locked": false,
     "schema_version": 3,
     "solution": true,
     "task": false
    }
   },
   "outputs": [],
   "source": [
    "\n",
    "# Exercise #1: train random forest with OFP_train data with the default selection in randomForest package\n",
    "\n",
    "# your code here\n",
    "set.seed(22222)\n",
    "\n",
    "rf_default <- randomForest(hlth ~ ., data = OFP_train)\n",
    "\n"
   ]
  },
  {
   "cell_type": "code",
   "execution_count": 3,
   "metadata": {
    "deletable": false,
    "editable": false,
    "nbgrader": {
     "cell_type": "code",
     "checksum": "376bd40231fccf23cb287ea1dc3340ec",
     "grade": true,
     "grade_id": "cell-f1625d4ea38a67ea",
     "locked": true,
     "points": 20,
     "schema_version": 3,
     "solution": false,
     "task": false
    }
   },
   "outputs": [
    {
     "name": "stdout",
     "output_type": "stream",
     "text": [
      "[1] \"Passed! I knew you could do it! Now, it is time to work on the next exercise!\"\n"
     ]
    }
   ],
   "source": [
    "# Test your code in here\n",
    "### BEGIN HIDDEN TEST\n",
    "\n",
    "test_that(\"Check the model summary\", {\n",
    "    expect_equal( rf_default$confusion[1,2],240)\n",
    "        \n",
    "\n",
    "    expect_equal(  rf_default$confusion[2,1],6)\n",
    "\n",
    "    expect_equal(  rf_default$confusion[3,3],65)\n",
    "})\n",
    "\n",
    "\n",
    "print(\"Passed! I knew you could do it! Now, it is time to work on the next exercise!\")\n",
    "\n",
    "### END HIDDEN TEST"
   ]
  },
  {
   "cell_type": "markdown",
   "metadata": {
    "deletable": false,
    "editable": false,
    "nbgrader": {
     "cell_type": "markdown",
     "checksum": "8b7a27737b03be317273db2ef71a7f74",
     "grade": false,
     "grade_id": "cell-cd81250a1d4040f2",
     "locked": true,
     "schema_version": 3,
     "solution": false,
     "task": false
    }
   },
   "source": [
    "# Exercise 2: \n",
    "Now, predict the **hlth**  levels in the **OFP_test** dataset by using model **rf_default**, name the predictions as **rf_default_predict**. One can use the **predict()** function to predict outcome variable on a brand new data. The **type** parameter in **predict()** function can be either \"response\", \"prob\", or \"votes\". The **type** parameter is used to indicate whether the prediction should contain the predicted class (response), the predicted probabilities (prob), or the vote counts (votes). Use **type=\"response\"** when you calculate the predicted values. \n"
   ]
  },
  {
   "cell_type": "code",
   "execution_count": 20,
   "metadata": {
    "deletable": false,
    "nbgrader": {
     "cell_type": "code",
     "checksum": "99cc628393fda9312c915ce00e8a0adb",
     "grade": false,
     "grade_id": "cell-9808b5e3b20e25a3",
     "locked": false,
     "schema_version": 3,
     "solution": true,
     "task": false
    }
   },
   "outputs": [],
   "source": [
    "\n",
    "# Exercise #2: use rf_default model to predict  hlth levels in the OFP_test dataset\n",
    "\n",
    "# your code here\n",
    "\n",
    "rf_default_predict <- predict(rf_default, OFP_test, type=\"response\")\n",
    "\n"
   ]
  },
  {
   "cell_type": "code",
   "execution_count": 21,
   "metadata": {
    "deletable": false,
    "editable": false,
    "nbgrader": {
     "cell_type": "code",
     "checksum": "2b688f0c16d21a8b25e564f14c589728",
     "grade": true,
     "grade_id": "cell-c4f1b4fda7010b72",
     "locked": true,
     "points": 20,
     "schema_version": 3,
     "solution": false,
     "task": false
    }
   },
   "outputs": [
    {
     "name": "stdout",
     "output_type": "stream",
     "text": [
      "[1] \"Passed! You Rock! Now, it is time to work on the next exercise!\"\n"
     ]
    }
   ],
   "source": [
    "# Test your code in here\n",
    "### BEGIN HIDDEN TEST\n",
    "\n",
    "test_that(\"Check the predicred labels\", {\n",
    "    expect_equal( length(rf_default_predict[rf_default_predict==\"other\"]),1261)\n",
    "        \n",
    "expect_equal( length(rf_default_predict[rf_default_predict==\"excellent\"]),2)\n",
    "\n",
    "\n",
    "expect_equal( length(rf_default_predict[rf_default_predict==\"poor\"]),57)\n",
    "})\n",
    "\n",
    "\n",
    "\n",
    "print(\"Passed! You Rock! Now, it is time to work on the next exercise!\")\n",
    "\n",
    "### END HIDDEN TEST"
   ]
  },
  {
   "cell_type": "markdown",
   "metadata": {
    "deletable": false,
    "editable": false,
    "nbgrader": {
     "cell_type": "markdown",
     "checksum": "a81474f6c407124b215836494f8b0f8d",
     "grade": false,
     "grade_id": "cell-341847b47df24ee9",
     "locked": true,
     "schema_version": 3,
     "solution": false,
     "task": false
    }
   },
   "source": [
    "# Exercise 3:\n",
    " Before moving on to the next question, calculate the accuracy ratio in  **OFP_test** data set based on the predictions stored in **rf_default_predict** and name your calculation as **rf_default_accuracy**\n"
   ]
  },
  {
   "cell_type": "code",
   "execution_count": 23,
   "metadata": {
    "deletable": false,
    "nbgrader": {
     "cell_type": "code",
     "checksum": "e8b0fd82ea7377e50a32b254742980f8",
     "grade": false,
     "grade_id": "cell-5b35789c604296e2",
     "locked": false,
     "schema_version": 3,
     "solution": true,
     "task": false
    }
   },
   "outputs": [],
   "source": [
    "# Exercise #3: calculate accuracy ratio in OFP_test dataset based on rf_default_predict\n",
    "# table(actual=OFP_test$hlth, predicted = rf_default_predict)\n",
    "# your code here\n",
    " TP <- 2 + 1027 + 32\n",
    "\n",
    "rf_default_accuracy <- TP/nrow(OFP_test)"
   ]
  },
  {
   "cell_type": "code",
   "execution_count": 24,
   "metadata": {
    "deletable": false,
    "editable": false,
    "nbgrader": {
     "cell_type": "code",
     "checksum": "2a9b8529adaa8ea0429f0112a31a8c08",
     "grade": true,
     "grade_id": "cell-c5172cc1674605bf",
     "locked": true,
     "points": 20,
     "schema_version": 3,
     "solution": false,
     "task": false
    }
   },
   "outputs": [
    {
     "name": "stdout",
     "output_type": "stream",
     "text": [
      "[1] \"Passed! You’ve done really well so far, don’t give up now! Now, it is time to work on the next challenge!\"\n"
     ]
    }
   ],
   "source": [
    "# Test your code in here\n",
    "### BEGIN HIDDEN TEST\n",
    "\n",
    "test_that(\"Check the accuracy ratio\", {\n",
    "    expect_equal(round(rf_default_accuracy^-13),17)\n",
    "\n",
    "})\n",
    "\n",
    "\n",
    "print(\"Passed! You’ve done really well so far, don’t give up now! Now, it is time to work on the next challenge!\")\n",
    "\n",
    "### END HIDDEN TEST"
   ]
  },
  {
   "cell_type": "markdown",
   "metadata": {
    "deletable": false,
    "editable": false,
    "nbgrader": {
     "cell_type": "markdown",
     "checksum": "1ca90a7f33ea2d5441f2cbeecfe2492b",
     "grade": false,
     "grade_id": "cell-d3ab950f9d5f12d1",
     "locked": true,
     "schema_version": 3,
     "solution": false,
     "task": false
    }
   },
   "source": [
    "## Additional settings in fitting a random forest using randomForest\n",
    "We can modify the default parameters in **randomForest** function. Some of the options are listed below:\n",
    "\n",
    "- **ntree** – number of bootstrap trees in the forest\n",
    "- **mtry** – number of predictors to choose randomly for each split (default = p/3 for regression problems and √p  for classification problems.)\n",
    "- **nodesize** – minimum size of the terminal nodes in terms of the number of observations contained in them, default is 1 for classification problems and 5 for regression problems.  Larger values here speed of the fitting process because trees in the forest will not be as big.\n",
    "- **maxnodes** – maximum number of terminal nodes a tree can have in the forest.  Smaller values will speed up fitting.\n",
    "- **importance**  if **T** means variable importances will be computed.\n",
    "\n",
    "\n",
    "\n",
    "\n",
    "## Exercise 4:\n",
    "\n",
    "Modify **rf_default** model by:\n",
    "- growing 600 trees\n",
    "- setting the number of variables to randomly pick at each stage (**mtry**) to 3.  \n",
    "- setting the minimum size of the terminal nodes to 3\n",
    "- setting the maximum number of terminal nodes a tree can have to 300\n",
    " \n",
    " Use **set.seed(22222)** to ensure your code will pass the test. Name your model **rf_default2**.\n",
    " \n"
   ]
  },
  {
   "cell_type": "code",
   "execution_count": 25,
   "metadata": {
    "deletable": false,
    "nbgrader": {
     "cell_type": "code",
     "checksum": "7a8516f979bf83e3791ed89f1cbdcbe2",
     "grade": false,
     "grade_id": "cell-f49492bd230ed1f6",
     "locked": false,
     "schema_version": 3,
     "solution": true,
     "task": false
    }
   },
   "outputs": [],
   "source": [
    "# Exercise #4: modify rf_default model\n",
    "\n",
    "# your code here\n",
    "set.seed(22222)\n",
    "rf_default2 <- randomForest(hlth ~ ., data = OFP_train,\n",
    "                           ntree = 600,\n",
    "                           mtry = 3,\n",
    "                            nodesize = 3,\n",
    "                            maxnodes = 300\n",
    "                           )\n",
    "\n",
    "\n"
   ]
  },
  {
   "cell_type": "code",
   "execution_count": 26,
   "metadata": {
    "deletable": false,
    "editable": false,
    "nbgrader": {
     "cell_type": "code",
     "checksum": "e556cebba9db3c4cd7bf24edd7cb4b5b",
     "grade": true,
     "grade_id": "cell-0fbd740ef7001e2d",
     "locked": true,
     "points": 20,
     "schema_version": 3,
     "solution": false,
     "task": false
    }
   },
   "outputs": [
    {
     "name": "stdout",
     "output_type": "stream",
     "text": [
      "[1] \"Passed! Your hard work is really paying off! Now, it is time to work on the next exercise!\"\n"
     ]
    }
   ],
   "source": [
    "# Test your code in here\n",
    "### BEGIN HIDDEN TEST\n",
    "\n",
    "test_that(\"Check the model summary\", {\n",
    "    expect_equal( rf_default2$confusion[1,2],241)\n",
    "        \n",
    "\n",
    "    expect_equal(  rf_default2$confusion[2,1],1)\n",
    "\n",
    "    expect_equal(  rf_default2$confusion[3,3],51)\n",
    "})\n",
    "\n",
    "\n",
    "print(\"Passed! Your hard work is really paying off! Now, it is time to work on the next exercise!\")\n",
    "\n",
    "### END HIDDEN TEST"
   ]
  },
  {
   "cell_type": "markdown",
   "metadata": {
    "deletable": false,
    "editable": false,
    "nbgrader": {
     "cell_type": "markdown",
     "checksum": "d3eab1e5ccbae969ec9ff0011959882b",
     "grade": false,
     "grade_id": "cell-0e36a66d2f6ca4da",
     "locked": true,
     "schema_version": 3,
     "solution": false,
     "task": false
    }
   },
   "source": [
    "# Exercise 5:\n",
    "\n",
    "Now, predict the **hlth**  levels in the **OFP_test** dataset by using model **rf_default2** and name the predictions as **rf_default2_predict**.  Then, calculate the accuracy ratio in  **OFP_test** data set based on the predictions stored in **rf_default2_predict** and name your calculation as **rf_default2_accuracy**"
   ]
  },
  {
   "cell_type": "code",
   "execution_count": 31,
   "metadata": {
    "deletable": false,
    "nbgrader": {
     "cell_type": "code",
     "checksum": "6abd1e6c247e202bbf7181ef5ade4b7c",
     "grade": false,
     "grade_id": "cell-6d72cb79dfe614d6",
     "locked": false,
     "schema_version": 3,
     "solution": true,
     "task": false
    }
   },
   "outputs": [
    {
     "data": {
      "text/html": [
       "0.807575757575758"
      ],
      "text/latex": [
       "0.807575757575758"
      ],
      "text/markdown": [
       "0.807575757575758"
      ],
      "text/plain": [
       "[1] 0.8075758"
      ]
     },
     "metadata": {},
     "output_type": "display_data"
    }
   ],
   "source": [
    "\n",
    "# Exercise #5: calculate accuracy ratio with rf_default2 model \n",
    "\n",
    "# your code here\n",
    "\n",
    "rf_default2_predict <- predict(rf_default2, OFP_test, type=\"response\")\n",
    "\n",
    "TP_2 <- 0 + 1044 + 22\n",
    "\n",
    "rf_default2_accuracy <- TP_2/nrow(OFP_test)\n",
    "\n",
    "rf_default2_accuracy\n"
   ]
  },
  {
   "cell_type": "code",
   "execution_count": 30,
   "metadata": {
    "deletable": false,
    "editable": false,
    "nbgrader": {
     "cell_type": "code",
     "checksum": "fc46f9e1621e084f421ec6b1666d204e",
     "grade": true,
     "grade_id": "cell-e9d2def00c2d20a1",
     "locked": true,
     "points": 20,
     "schema_version": 3,
     "solution": false,
     "task": false
    }
   },
   "outputs": [
    {
     "name": "stdout",
     "output_type": "stream",
     "text": [
      "[1] \"Passed! You’ve done yourself proud.\"\n"
     ]
    }
   ],
   "source": [
    "# Test your code in here\n",
    "### BEGIN HIDDEN TEST\n",
    "\n",
    "test_that(\"Check the accuracy ratio\", {\n",
    "expect_equal(round(rf_default_accuracy^-40)*length(rf_default2_predict[rf_default2_predict==\"poor\"]),186840)\n",
    "\n",
    "expect_equal(length(rf_default2_predict[rf_default2_predict==\"other\"]),1290)\n",
    "        \n",
    "expect_equal( length(rf_default2_predict[rf_default2_predict==\"excellent\"]),0)\n",
    "\n",
    "    \n",
    "})\n",
    "\n",
    "\n",
    "print(\"Passed! You’ve done yourself proud.\")\n",
    "\n",
    "### END HIDDEN TEST"
   ]
  },
  {
   "cell_type": "markdown",
   "metadata": {
    "deletable": false,
    "editable": false,
    "nbgrader": {
     "cell_type": "markdown",
     "checksum": "8b698ec645e3347c6b6fa08021b3b72b",
     "grade": false,
     "grade_id": "cell-ab72d98d891a33e2",
     "locked": true,
     "schema_version": 3,
     "solution": false,
     "task": false
    }
   },
   "source": [
    "# Tuning with Random Forest model\n",
    "\n",
    "Since Coursera does not allow using **caret** package for parameter tuning, we will use **tuneRF** function in **randomForest** package to tune **mtry** parameter. \n",
    "In this exercise, we will start with mtry value of 4 (**mtryStart  = 4**) and increase it by a certain step factor (**stepFactor = 1.5**) until the Out-of-bag error stops improving by a certain amount (**improve    = 0.001**). Since **tuneRF** requires a separate **x**  and **y** specification, we will name the features matrix in **OFP_train** dataset as **OFP_train_features**. As shown below, **mtry** value of 3 minimizes the OOB error rate.  \n",
    "\n",
    "\n",
    "\n"
   ]
  },
  {
   "cell_type": "code",
   "execution_count": 32,
   "metadata": {
    "deletable": false,
    "editable": false,
    "nbgrader": {
     "cell_type": "code",
     "checksum": "b6ce7510f3404a2f978f0b97f093fb64",
     "grade": false,
     "grade_id": "cell-1d852f468729f372",
     "locked": true,
     "schema_version": 3,
     "solution": false,
     "task": false
    }
   },
   "outputs": [
    {
     "name": "stdout",
     "output_type": "stream",
     "text": [
      "0.006451613 0.001 \n",
      "-0.003246753 0.001 \n",
      "-0.0275974 0.001 \n"
     ]
    },
    {
     "data": {
      "image/png": "[encoded data removed]",
      "text/plain": [
       "plot without title"
      ]
     },
     "metadata": {
      "image/png": {
       "height": 420,
       "width": 420
      },
      "text/plain": {
       "height": 420,
       "width": 420
      }
     },
     "output_type": "display_data"
    }
   ],
   "source": [
    "## get the features column in OFP_train\n",
    "OFP_train_features<-OFP_train%>%\n",
    "select(-hlth)\n",
    "\n",
    "set.seed(22222)\n",
    "# \n",
    "tune_mtry <- tuneRF(\n",
    "  x          = OFP_train_features,\n",
    "  y          = OFP_train$hlth,\n",
    "  ntreeTry   = 600,\n",
    "  mtryStart  = 4,\n",
    "  stepFactor = 1.5,\n",
    "  improve    = 0.001,\n",
    "  trace      = FALSE    \n",
    ")\n"
   ]
  },
  {
   "cell_type": "code",
   "execution_count": null,
   "metadata": {},
   "outputs": [],
   "source": []
  }
 ],
 "metadata": {
  "kernelspec": {
   "display_name": "R",
   "language": "R",
   "name": "ir"
  },
  "language_info": {
   "codemirror_mode": "r",
   "file_extension": ".r",
   "mimetype": "text/x-r-source",
   "name": "R",
   "pygments_lexer": "r",
   "version": "3.6.3"
  }
 },
 "nbformat": 4,
 "nbformat_minor": 4
}
