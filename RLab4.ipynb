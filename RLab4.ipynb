{
 "cells": [
  {
   "cell_type": "markdown",
   "metadata": {
    "deletable": false,
    "editable": false,
    "nbgrader": {
     "cell_type": "markdown",
     "checksum": "399678d5efa024f9bcf0880c37749cf1",
     "grade": false,
     "grade_id": "cell-9bca7a3dfc9a08de",
     "locked": true,
     "schema_version": 3,
     "solution": false,
     "task": false
    }
   },
   "source": [
    "## RLab4: Tree-based Models\n",
    "Tree-based model is useful for classification and regression problems where one has a set of predictor variables **X** and a single reponse **Y**. \n",
    "\n",
    "- Why we use tree-based models?\n",
    "\n",
    "They are easier to interpret and discuss than linear models. Also, we do not have to worry about missing values or variable transformations. In tree-based models, we do not have to worry about recoding  categorical variables. \n",
    "\n",
    "In this RLab assignment, we will use **rpart** package in R. You can go over chapter 09 of HOML book to go over the details. \n",
    "\n",
    "\n",
    "\n",
    "\n"
   ]
  },
  {
   "cell_type": "markdown",
   "metadata": {
    "deletable": false,
    "editable": false,
    "nbgrader": {
     "cell_type": "markdown",
     "checksum": "a17aee72cff018d71b3b5189a8fdda7c",
     "grade": false,
     "grade_id": "cell-120e14ac6efa3efe",
     "locked": true,
     "schema_version": 3,
     "solution": false,
     "task": false
    }
   },
   "source": [
    "## BIRTH RATE DATE\n",
    " \n",
    "We will use North Carololina birth records for the year 2004. We want to  look at the relation between the habits and practices of expectant mothers and the birth of their children. The dataset is a random sample from the original dataset. \n",
    "\n",
    "# Predictors\n",
    "\n",
    "- **fage**:\tfather’s age in years.\n",
    "- **mage**:\tmother’s age in years.\n",
    "- **mature**:\tmaturity status of mother.\n",
    "- **weeks**:\tlength of pregnancy in weeks.\n",
    "- **premie**:\twhether the birth was classified as premature (premie) or full-term.\n",
    "- **visits**:\tnumber of hospital visits during pregnancy.\n",
    "- **marital**:\twhether mother is married or not married at birth.\n",
    "- **gained**:\tweight gained by mother during pregnancy in pounds.\n",
    "- **gender**:\tgender of the baby, female or male.\n",
    "- **habit**:\tstatus of the mother as a nonsmoker or a smoker.\n",
    "- **whitemom**:\twhether mother is white or not white.\n",
    "\n",
    "# Outcome variables\n",
    "\n",
    "- **weight**:\tweight of the baby at birth in pounds.  (Regression problem)\n",
    "- **lowbirthweight**:\twhether baby was classified as low birthweight (low) or not (not low).  (Classification problem)"
   ]
  },
  {
   "cell_type": "code",
   "execution_count": 1,
   "metadata": {
    "deletable": false,
    "editable": false,
    "nbgrader": {
     "cell_type": "code",
     "checksum": "0954e3ab009111bd13ef193f004ddd9a",
     "grade": false,
     "grade_id": "cell-7c9de330b2b70917",
     "locked": true,
     "schema_version": 3,
     "solution": false,
     "task": false
    }
   },
   "outputs": [
    {
     "name": "stderr",
     "output_type": "stream",
     "text": [
      "\n",
      "Attaching package: ‘dplyr’\n",
      "\n",
      "\n",
      "The following objects are masked from ‘package:stats’:\n",
      "\n",
      "    filter, lag\n",
      "\n",
      "\n",
      "The following objects are masked from ‘package:base’:\n",
      "\n",
      "    intersect, setdiff, setequal, union\n",
      "\n",
      "\n",
      "\n",
      "Attaching package: ‘testthat’\n",
      "\n",
      "\n",
      "The following object is masked from ‘package:dplyr’:\n",
      "\n",
      "    matches\n",
      "\n",
      "\n"
     ]
    }
   ],
   "source": [
    "# call the necessary packages\n",
    "library(dplyr)\n",
    "library(ggplot2)\n",
    "library(rpart)\n",
    "library(testthat)\n",
    "\n"
   ]
  },
  {
   "cell_type": "code",
   "execution_count": 2,
   "metadata": {
    "deletable": false,
    "editable": false,
    "nbgrader": {
     "cell_type": "code",
     "checksum": "f22aac5919b620deb15547386014953b",
     "grade": false,
     "grade_id": "cell-34ae554c032dee41",
     "locked": true,
     "schema_version": 3,
     "solution": false,
     "task": false
    }
   },
   "outputs": [
    {
     "name": "stdout",
     "output_type": "stream",
     "text": [
      "'data.frame':\t999 obs. of  13 variables:\n",
      " $ fage          : int  NA NA 19 21 NA NA 18 17 NA 20 ...\n",
      " $ mage          : int  13 14 15 15 15 15 15 15 16 16 ...\n",
      " $ mature        : Factor w/ 2 levels \"mature mom\",\"younger mom\": 2 2 2 2 2 2 2 2 2 2 ...\n",
      " $ weeks         : int  39 42 37 41 39 38 37 35 38 37 ...\n",
      " $ premie        : Factor w/ 2 levels \"full term\",\"premie\": 1 1 1 1 1 1 1 2 1 1 ...\n",
      " $ visits        : int  10 15 11 6 9 19 12 5 9 13 ...\n",
      " $ marital       : Factor w/ 2 levels \"married\",\"not married\": 1 1 1 1 1 1 1 1 1 1 ...\n",
      " $ gained        : int  38 20 38 34 27 22 76 15 NA 52 ...\n",
      " $ weight        : num  7.63 7.88 6.63 8 6.38 5.38 8.44 4.69 8.81 6.94 ...\n",
      " $ lowbirthweight: Factor w/ 2 levels \"low\",\"not low\": 2 2 2 2 2 1 2 1 2 2 ...\n",
      " $ gender        : Factor w/ 2 levels \"female\",\"male\": 2 2 1 2 1 2 2 2 2 1 ...\n",
      " $ habit         : Factor w/ 2 levels \"nonsmoker\",\"smoker\": 1 1 1 1 1 1 1 1 1 1 ...\n",
      " $ whitemom      : Factor w/ 2 levels \"not white\",\"white\": 1 1 2 2 1 1 1 1 2 2 ...\n"
     ]
    }
   ],
   "source": [
    "# data is stored in a csv file, the first row contains the variable names. \n",
    "# we call our data mydata\n",
    "mydata<-read.csv (\"nc.csv\", header=TRUE)\n",
    "# let's print the data structure to have an idea of the data we are dealing with\n",
    "str(mydata)\n"
   ]
  },
  {
   "cell_type": "code",
   "execution_count": 3,
   "metadata": {
    "deletable": false,
    "editable": false,
    "nbgrader": {
     "cell_type": "code",
     "checksum": "28bf71ce512e4534f8ffc948319771fb",
     "grade": false,
     "grade_id": "cell-dcccb9086c7b5851",
     "locked": true,
     "schema_version": 3,
     "solution": false,
     "task": false
    }
   },
   "outputs": [
    {
     "name": "stdout",
     "output_type": "stream",
     "text": [
      "  fage mage      mature weeks    premie visits marital gained weight\n",
      "1   NA   13 younger mom    39 full term     10 married     38   7.63\n",
      "2   NA   14 younger mom    42 full term     15 married     20   7.88\n",
      "3   19   15 younger mom    37 full term     11 married     38   6.63\n",
      "4   21   15 younger mom    41 full term      6 married     34   8.00\n",
      "5   NA   15 younger mom    39 full term      9 married     27   6.38\n",
      "6   NA   15 younger mom    38 full term     19 married     22   5.38\n",
      "  lowbirthweight gender     habit  whitemom\n",
      "1        not low   male nonsmoker not white\n",
      "2        not low   male nonsmoker not white\n",
      "3        not low female nonsmoker     white\n",
      "4        not low   male nonsmoker     white\n",
      "5        not low female nonsmoker not white\n",
      "6            low   male nonsmoker not white\n",
      "      fage            mage               mature        weeks      \n",
      " Min.   :14.00   Min.   :13.00   mature mom :132   Min.   :20.00  \n",
      " 1st Qu.:25.00   1st Qu.:22.00   younger mom:867   1st Qu.:37.00  \n",
      " Median :30.00   Median :27.00                     Median :39.00  \n",
      " Mean   :30.26   Mean   :26.99                     Mean   :38.33  \n",
      " 3rd Qu.:35.00   3rd Qu.:32.00                     3rd Qu.:40.00  \n",
      " Max.   :55.00   Max.   :50.00                     Max.   :45.00  \n",
      " NA's   :170                                       NA's   :1      \n",
      "       premie        visits            marital        gained     \n",
      " full term:846   Min.   : 0.0   married    :386   Min.   : 0.00  \n",
      " premie   :152   1st Qu.:10.0   not married:613   1st Qu.:20.00  \n",
      " NA's     :  1   Median :12.0                     Median :30.00  \n",
      "                 Mean   :12.1                     Mean   :30.33  \n",
      "                 3rd Qu.:15.0                     3rd Qu.:38.00  \n",
      "                 Max.   :30.0                     Max.   :85.00  \n",
      "                 NA's   :8                        NA's   :26     \n",
      "     weight       lowbirthweight    gender          habit          whitemom  \n",
      " Min.   : 1.000   low    :110    female:502   nonsmoker:873   not white:284  \n",
      " 1st Qu.: 6.380   not low:889    male  :497   smoker   :126   white    :713  \n",
      " Median : 7.310                                               NA's     :  2  \n",
      " Mean   : 7.104                                                              \n",
      " 3rd Qu.: 8.060                                                              \n",
      " Max.   :11.750                                                              \n",
      "                                                                             \n"
     ]
    }
   ],
   "source": [
    "# Let's also take a look at the data\n",
    "print(head(mydata))\n",
    "\n",
    "# check the summary statistics \n",
    "\n",
    "print(summary(mydata))\n"
   ]
  },
  {
   "cell_type": "markdown",
   "metadata": {
    "deletable": false,
    "editable": false,
    "nbgrader": {
     "cell_type": "markdown",
     "checksum": "f4f30f18cb165bfc5bd96b5189d67aab",
     "grade": false,
     "grade_id": "cell-1d47d0960404ca1d",
     "locked": true,
     "schema_version": 3,
     "solution": false,
     "task": false
    }
   },
   "source": [
    "## Data Split\n",
    "\n",
    "Before conducting our analyis, we will split our data into two, one for training and one for testing. In this lab assignment, use the **sample** function in **rsample** package to split your data by using the following seed:  **set.seed(1234)**\n",
    "\n",
    "# Exercise 1:   \n",
    "Bu using the **sample** function in R, split **mydata** into training and test sets by putting 70% of the data in training. Use set.seed(1234) when you do the split. Name the training set as **train_data** and the test set as **test_data**. "
   ]
  },
  {
   "cell_type": "code",
   "execution_count": 161,
   "metadata": {
    "deletable": false,
    "nbgrader": {
     "cell_type": "code",
     "checksum": "741b323c05d395e2a0eaa72666afa1fe",
     "grade": false,
     "grade_id": "cell-a49f830a5fad9171",
     "locked": false,
     "schema_version": 3,
     "solution": true,
     "task": false
    }
   },
   "outputs": [],
   "source": [
    "\n",
    "# Exercise #1: split data into train and test sets with sample function\n",
    "\n",
    "# your code here\n",
    "\n",
    "set.seed(1234)\n",
    "sample_size=round(nrow(mydata)*.70)\n",
    "index<-sample(seq_len(nrow(mydata)), size=sample_size)\n",
    "train_data <- mydata[index, ]\n",
    "test_data<- mydata[-index, ]\n"
   ]
  },
  {
   "cell_type": "code",
   "execution_count": 162,
   "metadata": {
    "deletable": false,
    "editable": false,
    "nbgrader": {
     "cell_type": "code",
     "checksum": "d9823fc64c588e48c6b917c19cc44acd",
     "grade": true,
     "grade_id": "cell-a0f38bcc0a51d2a2",
     "locked": true,
     "points": 10,
     "schema_version": 3,
     "solution": false,
     "task": false
    }
   },
   "outputs": [
    {
     "name": "stdout",
     "output_type": "stream",
     "text": [
      "[1] \"Passed! Great  Work! Now, it is time to work on the next exercise!\"\n"
     ]
    }
   ],
   "source": [
    "# Test your code in here\n",
    "### BEGIN HIDDEN TEST\n",
    "\n",
    "test_that(\"Check the train_data\", {\n",
    "    expect_equal( round(mean(train_data$mage)),27)})\n",
    "        \n",
    "test_that(\"Check the test_data\", {\n",
    "    expect_equal(  round(mean(test_data$fage, na.rm=TRUE)),30)})\n",
    "\n",
    "\n",
    "print(\"Passed! Great  Work! Now, it is time to work on the next exercise!\")\n",
    "\n",
    "### END HIDDEN TEST"
   ]
  },
  {
   "cell_type": "markdown",
   "metadata": {
    "deletable": false,
    "editable": false,
    "nbgrader": {
     "cell_type": "markdown",
     "checksum": "121c0cd218500d59aced273bda908d4d",
     "grade": false,
     "grade_id": "cell-560ef33f23c46ac0",
     "locked": true,
     "schema_version": 3,
     "solution": false,
     "task": false
    }
   },
   "source": [
    "## Tree-based Regression Model\n",
    "First, we will use decision tree to model **weight** by using the following features:\n",
    "\n",
    "- **fage**\n",
    "- **mage**\n",
    "- **mature**\n",
    "- **weeks**\n",
    "- **premie**\n",
    "- **visits**\n",
    "- **marital**\n",
    "- **gained** \n",
    "- **gender**\n",
    "- **habit**\n",
    "- **whitemom**\n",
    "\n",
    "# Exercise: 2\n",
    "Use **rpart** function in **rpart** package to build a decision tree to estimate **weight** by using the **train_data** and name your model as **model1**. Since we construct regression trees, you need to use **method=\"anova\"** in **rpart** function. Since **lowbirthweight** is not a predictor but another outcome variable, it should NOT be included in the set of predictors for  **weight**.\n",
    "\n",
    "In **rpart** function, if you do not specify the parameters, the default selections will be used. Below are the some of the important parameters one can define when building decision tree with **rpart** function. \n",
    "\n",
    "- **na.actions**: In the handling of missing values, the default option in **rpart** is to remove only those rows for which either the response or all of the predictors are missing. We will just go with the default **na.actions** option in **model1**.\n",
    "\n",
    "- **minsplit**: In **rpart** function, the minimum number of observations in a decision node is set to 20 by default (**minsplit=20**). We will just go with the default  **minsplit** option in **model1**. \n",
    "\n",
    "- **minbucket**: The minimum number of observations in a terminal node with **rpart** function is set to **minsplit/3** by default. We will just go with the default **minbucket** option in **model1**.\n",
    "\n",
    "- **xval**:  In **rpart** function, we can decide on the number of cross validation with **xval** option. If you set **xval=0**, then no cross validation will be done. We will set **xval=0** in **model1**.\n",
    "\n",
    "- **cp**: The threshold complexity parameter with **rpart** function is set by **cp** option. The default value of **cp** is .01 and it has been shown that this is a reasonably successful value to  ‘pre-prun’ trees. In this exercise, we will set the **cp=0.03** to have a small tree to start with. \n",
    "\n",
    "\n"
   ]
  },
  {
   "cell_type": "code",
   "execution_count": 163,
   "metadata": {},
   "outputs": [
    {
     "data": {
      "text/html": [
       "<style>\n",
       ".list-inline {list-style: none; margin:0; padding: 0}\n",
       ".list-inline>li {display: inline-block}\n",
       ".list-inline>li:not(:last-child)::after {content: \"\\00b7\"; padding: 0 .5ex}\n",
       "</style>\n",
       "<ol class=list-inline><li>'fage'</li><li>'mage'</li><li>'mature'</li><li>'weeks'</li><li>'premie'</li><li>'visits'</li><li>'marital'</li><li>'gained'</li><li>'weight'</li><li>'lowbirthweight'</li><li>'gender'</li><li>'habit'</li><li>'whitemom'</li></ol>\n"
      ],
      "text/latex": [
       "\\begin{enumerate*}\n",
       "\\item 'fage'\n",
       "\\item 'mage'\n",
       "\\item 'mature'\n",
       "\\item 'weeks'\n",
       "\\item 'premie'\n",
       "\\item 'visits'\n",
       "\\item 'marital'\n",
       "\\item 'gained'\n",
       "\\item 'weight'\n",
       "\\item 'lowbirthweight'\n",
       "\\item 'gender'\n",
       "\\item 'habit'\n",
       "\\item 'whitemom'\n",
       "\\end{enumerate*}\n"
      ],
      "text/markdown": [
       "1. 'fage'\n",
       "2. 'mage'\n",
       "3. 'mature'\n",
       "4. 'weeks'\n",
       "5. 'premie'\n",
       "6. 'visits'\n",
       "7. 'marital'\n",
       "8. 'gained'\n",
       "9. 'weight'\n",
       "10. 'lowbirthweight'\n",
       "11. 'gender'\n",
       "12. 'habit'\n",
       "13. 'whitemom'\n",
       "\n",
       "\n"
      ],
      "text/plain": [
       " [1] \"fage\"           \"mage\"           \"mature\"         \"weeks\"         \n",
       " [5] \"premie\"         \"visits\"         \"marital\"        \"gained\"        \n",
       " [9] \"weight\"         \"lowbirthweight\" \"gender\"         \"habit\"         \n",
       "[13] \"whitemom\"      "
      ]
     },
     "metadata": {},
     "output_type": "display_data"
    }
   ],
   "source": [
    "names(train_data)"
   ]
  },
  {
   "cell_type": "code",
   "execution_count": 164,
   "metadata": {
    "deletable": false,
    "nbgrader": {
     "cell_type": "code",
     "checksum": "a39921a09cfdfa24739d14995b4e1fd1",
     "grade": false,
     "grade_id": "cell-b363c556b4bc177f",
     "locked": false,
     "schema_version": 3,
     "solution": true,
     "task": false
    }
   },
   "outputs": [
    {
     "data": {
      "text/plain": [
       "n= 699 \n",
       "\n",
       "node), split, n, deviance, yval\n",
       "      * denotes terminal node\n",
       "\n",
       "1) root 699 1547.73500 7.111373  \n",
       "  2) weeks< 33.5 37   89.45357 3.201892 *\n",
       "  3) weeks>=33.5 662  861.16500 7.329879  \n",
       "    6) weeks< 37.5 142  217.91870 6.555211 *\n",
       "    7) weeks>=37.5 520  534.76010 7.541423 *"
      ]
     },
     "metadata": {},
     "output_type": "display_data"
    }
   ],
   "source": [
    " #Exercise #2: Regression tree on train_data\n",
    "# your code here\n",
    "\n",
    "model1<- rpart(\n",
    "  weight ~ (fage+mage+mature+weeks+premie+visits+marital+gained+gender+habit+whitemom), \n",
    "  data = train_data, \n",
    "  method = \"anova\",\n",
    "    cp=0.03\n",
    ")  \n",
    "     \n",
    "\n",
    "model1"
   ]
  },
  {
   "cell_type": "code",
   "execution_count": 165,
   "metadata": {
    "deletable": false,
    "editable": false,
    "nbgrader": {
     "cell_type": "code",
     "checksum": "60f9a00ef56e8216b2f33588bfb1c9eb",
     "grade": true,
     "grade_id": "cell-28224e56e091b767",
     "locked": true,
     "points": 13,
     "schema_version": 3,
     "solution": false,
     "task": false
    }
   },
   "outputs": [
    {
     "name": "stdout",
     "output_type": "stream",
     "text": [
      "[1] \"Passed! Good work!\"\n"
     ]
    }
   ],
   "source": [
    "# Test your code in here\n",
    "### BEGIN HIDDEN TEST\n",
    "\n",
    "test_that(\"Check the fitted  values\", {\n",
    "    expect_equal( round(sum(predict(model1))),4971)})\n",
    "        \n",
    "test_that(\"Check variable importance\", {\n",
    "    expect_equal( round(model1$variable.importance[[1]]),706)})\n",
    "\n",
    "\n",
    "print(\"Passed! Good work!\")\n",
    "\n",
    "### END HIDDEN TEST"
   ]
  },
  {
   "cell_type": "code",
   "execution_count": 166,
   "metadata": {
    "deletable": false,
    "editable": false,
    "nbgrader": {
     "cell_type": "code",
     "checksum": "00afcf8e3a4e84bffc19f1ce9e7e6d94",
     "grade": false,
     "grade_id": "cell-a97b1049cde62a9d",
     "locked": true,
     "schema_version": 3,
     "solution": false,
     "task": false
    }
   },
   "outputs": [
    {
     "data": {
      "image/png": "[encoded data removed]",
      "text/plain": [
       "plot without title"
      ]
     },
     "metadata": {
      "image/png": {
       "height": 420,
       "width": 420
      },
      "text/plain": {
       "height": 420,
       "width": 420
      }
     },
     "output_type": "display_data"
    }
   ],
   "source": [
    "# Plot the regression tree based on model 1\n",
    "par(mar = rep(0.1, 4))\n",
    "plot(model1)\n",
    "text(model1)"
   ]
  },
  {
   "cell_type": "markdown",
   "metadata": {
    "deletable": false,
    "editable": false,
    "nbgrader": {
     "cell_type": "markdown",
     "checksum": "ff0ba5daa4acdd54d0613a90b750dc43",
     "grade": false,
     "grade_id": "cell-639c235ead1e35e3",
     "locked": true,
     "schema_version": 3,
     "solution": false,
     "task": false
    }
   },
   "source": [
    "# Exercise 3\n",
    "Now, our task it to use **model1** to predict **weight** in the **test_data**.\n",
    "\n",
    "- By using **model1**, predict **weights** in **test_data** and name it as **pred_model1**. You can use **predict()** function for this task. \n",
    "- Calculate the mean squared error in **test_data** and name it **test_mse_model1**. Mean squared error refers to mean value of squared prediction errors. \n",
    "\n"
   ]
  },
  {
   "cell_type": "code",
   "execution_count": 169,
   "metadata": {
    "deletable": false,
    "nbgrader": {
     "cell_type": "code",
     "checksum": "5b891ac808e91b13269fd709cf260f6c",
     "grade": false,
     "grade_id": "cell-54cbc75ad5f01c17",
     "locked": false,
     "schema_version": 3,
     "solution": true,
     "task": false
    },
    "scrolled": true
   },
   "outputs": [
    {
     "data": {
      "text/html": [
       "4971"
      ],
      "text/latex": [
       "4971"
      ],
      "text/markdown": [
       "4971"
      ],
      "text/plain": [
       "[1] 4971"
      ]
     },
     "metadata": {},
     "output_type": "display_data"
    },
    {
     "name": "stdout",
     "output_type": "stream",
     "text": [
      "[1] 1.375466\n"
     ]
    }
   ],
   "source": [
    "\n",
    " #Exercise #3: MSE calculation\n",
    "# your code here\n",
    "pred_model1 <- predict(model1, test_data, type=\"matrix\")\n",
    "\n",
    "round(sum(predict(model1)))\n",
    "\n",
    "test_mse_model1 <- mean((test_data$weight-pred_model1)^2)\n",
    "print(test_mse_model1)"
   ]
  },
  {
   "cell_type": "code",
   "execution_count": 170,
   "metadata": {
    "deletable": false,
    "editable": false,
    "nbgrader": {
     "cell_type": "code",
     "checksum": "f4ec87a3aa0b53450173efc8b220ca39",
     "grade": true,
     "grade_id": "cell-7d34d337cae1b97f",
     "locked": true,
     "points": 10,
     "schema_version": 3,
     "solution": false,
     "task": false
    }
   },
   "outputs": [
    {
     "name": "stdout",
     "output_type": "stream",
     "text": [
      "[1] \"Passed! Excellent job!\"\n"
     ]
    }
   ],
   "source": [
    "# Test your code in here\n",
    "### BEGIN HIDDEN TEST\n",
    "\n",
    "test_that(\"Check the predicted values\", {\n",
    "    expect_equal( round(sum(predict(model1))),4971)})\n",
    "        \n",
    "test_that(\"Check the mse\", {\n",
    "    expect_equal(formatC(max(test_mse_model1 ), format = \"f\", digits = 1),'1.4')})\n",
    "\n",
    "\n",
    "print(\"Passed! Excellent job!\")\n",
    "\n",
    "### END HIDDEN TEST"
   ]
  },
  {
   "cell_type": "code",
   "execution_count": 171,
   "metadata": {
    "deletable": false,
    "editable": false,
    "nbgrader": {
     "cell_type": "code",
     "checksum": "69c50ba73423ed3c62efc0c9e81bc2cc",
     "grade": false,
     "grade_id": "cell-ff736140d298a202",
     "locked": true,
     "schema_version": 3,
     "solution": false,
     "task": false
    }
   },
   "outputs": [
    {
     "data": {
      "image/png": "[encoded data removed]",
      "text/plain": [
       "plot without title"
      ]
     },
     "metadata": {
      "image/png": {
       "height": 420,
       "width": 420
      },
      "text/plain": {
       "height": 420,
       "width": 420
      }
     },
     "output_type": "display_data"
    }
   ],
   "source": [
    "# Now, let's plot the actual vs predicted weights in test_data based on model1\n",
    "# You have to successfully run the previous code chunks to be able to plot this one\n",
    "# As can be seen from the plot, regression tree assigns the same weight to all observations that  are  in the same terminal node\n",
    "\n",
    "pairs <- data.frame(Predicted = pred_model1,  \n",
    "                       Observed = test_data$weight)\n",
    "\n",
    "\n",
    "ggplot(pairs, aes(x= pred_model1, y= test_data$weight)) +\n",
    "  geom_point() +\n",
    "  labs(x='Predicted Values', y='Actual Values', title='Predicted vs. Actual Values')"
   ]
  },
  {
   "cell_type": "markdown",
   "metadata": {
    "deletable": false,
    "editable": false,
    "nbgrader": {
     "cell_type": "markdown",
     "checksum": "fe6daaf3928922ba4198fbdf5a0cd892",
     "grade": false,
     "grade_id": "cell-5e0bc98bf356328f",
     "locked": true,
     "schema_version": 3,
     "solution": false,
     "task": false
    }
   },
   "source": [
    "## Prunning and Cross validation \n",
    "\n",
    "When growing a regression or classification tree, making it too large (complex) will overfit the data. A very simple tree, on the other hand, results in bias estimates. Hence, we can use cross validation to decide on the optimal complexity parameter, **cp**. If adding more nodes has no contribution to the overall fit, we would like to stop growing bigger trees. Theoretically,  we can set the number of terminal nodes (T) equal to the number of observations (N) which will create overfitting problem (one terminal node for each observation). By lowering the complexity parameter and using the cross validation internal results, we can choose a cost-complexity value to prune our tree.\n",
    "\n",
    "# Exercise 4:\n",
    "\n",
    "\n",
    "In this exercise, revise **model1** with the following parameters and name the new model as **model2**. \n",
    "\n",
    "- use 10-fold cross validation (**xval=10**)\n",
    "- use complexity parameter of 0.001 (**cp=0.001**)\n",
    "- use at least 4 observations in each terminal node (**minbucket=4**) \n",
    "\n",
    "\n"
   ]
  },
  {
   "cell_type": "code",
   "execution_count": 172,
   "metadata": {
    "deletable": false,
    "nbgrader": {
     "cell_type": "code",
     "checksum": "54a1791692a140c304e3e1de074ab1de",
     "grade": false,
     "grade_id": "cell-1ac1b7d984c9e422",
     "locked": false,
     "schema_version": 3,
     "solution": true,
     "task": false
    }
   },
   "outputs": [
    {
     "data": {
      "text/plain": [
       "n= 699 \n",
       "\n",
       "node), split, n, deviance, yval\n",
       "      * denotes terminal node\n",
       "\n",
       "    1) root 699 1547.7350000 7.111373  \n",
       "      2) weeks< 33.5 37   89.4535700 3.201892  \n",
       "        4) weeks< 31.5 21   19.9803800 2.269048  \n",
       "          8) weeks< 27 7    0.1731714 1.314286 *\n",
       "          9) weeks>=27 14   10.2357200 2.746429  \n",
       "           18) marital=married 8    2.6897500 2.282500 *\n",
       "           19) marital=not married 6    3.5283500 3.365000 *\n",
       "        5) weeks>=31.5 16   27.2141700 4.426250  \n",
       "         10) gained>=36 5    8.0215200 3.476000 *\n",
       "         11) gained< 36 11   12.6255600 4.858182 *\n",
       "      3) weeks>=33.5 662  861.1650000 7.329879  \n",
       "        6) weeks< 37.5 142  217.9187000 6.555211  \n",
       "         12) weeks< 36.5 70  123.9101000 6.253286  \n",
       "           24) visits< 10.5 25   30.7410200 5.654400  \n",
       "             48) weeks< 34.5 7    8.6797430 4.912857 *\n",
       "             49) weeks>=34.5 18   16.7151600 5.942778  \n",
       "               98) gained>=36 4    2.2121000 5.205000 *\n",
       "               99) gained< 36 14   11.7037200 6.153571  \n",
       "                198) mage< 23.5 8    2.6338000 5.720000 *\n",
       "                199) mage>=23.5 6    5.5608830 6.731667 *\n",
       "           25) visits>=10.5 45   79.2210800 6.586000  \n",
       "             50) fage>=37.5 7    6.5214860 5.511429 *\n",
       "             51) fage< 37.5 38   63.1277100 6.783947  \n",
       "              102) whitemom=not white 15   11.5038900 6.247333  \n",
       "                204) mage>=20.5 9    5.6862890 5.938889 *\n",
       "                205) mage< 20.5 6    3.6770000 6.710000 *\n",
       "              103) whitemom=white 23   44.4875500 7.133913  \n",
       "                206) visits>=12.5 16   21.6463700 6.648750  \n",
       "                  412) mage>=29.5 5    4.0820800 5.338000 *\n",
       "                  413) mage< 29.5 11    5.0692730 7.244545 *\n",
       "                207) visits< 12.5 7   10.4667400 8.242857 *\n",
       "         13) weeks>=36.5 72   81.4235900 6.848750  \n",
       "           26) visits>=17.5 9    8.8282890 5.931111 *\n",
       "           27) visits< 17.5 63   63.9341000 6.979841  \n",
       "             54) fage< 32.5 33   26.5982200 6.671515  \n",
       "              108) gained< 22.5 11   11.0570700 6.255455 *\n",
       "              109) gained>=22.5 22   12.6849000 6.879545  \n",
       "                218) gained>=28.5 14    6.0670360 6.657857 *\n",
       "                219) gained< 28.5 8    4.7257500 7.267500 *\n",
       "             55) fage>=32.5 30   30.7478700 7.319000  \n",
       "              110) gained< 29 9    8.6569560 6.687778 *\n",
       "              111) gained>=29 21   16.9681000 7.589524  \n",
       "                222) fage>=36.5 6    3.7375330 7.043333 *\n",
       "                223) fage< 36.5 15   10.7246400 7.808000  \n",
       "                  446) mage< 30.5 4    1.1961000 7.155000 *\n",
       "                  447) mage>=30.5 11    7.2026730 8.045455 *\n",
       "        7) weeks>=37.5 520  534.7601000 7.541423  \n",
       "         14) gender=female 247  218.6572000 7.325870  \n",
       "           28) gained< 28.5 119   92.9009200 7.142017  \n",
       "             56) visits>=15.5 17   11.3540200 6.545294  \n",
       "              112) gained>=18.5 10    7.0640100 6.177000 *\n",
       "              113) gained< 18.5 7    0.9958857 7.071429 *\n",
       "             57) visits< 15.5 102   74.4846800 7.241471  \n",
       "              114) fage< 39.5 94   55.4245300 7.175426  \n",
       "                228) habit=smoker 16    8.0327940 6.774375 *\n",
       "                229) habit=nonsmoker 78   44.2903800 7.257692  \n",
       "                  458) visits< 7.5 11    8.1906910 6.870909 *\n",
       "                  459) visits>=7.5 67   34.1839000 7.321194  \n",
       "                    918) weeks< 41.5 61   27.8009800 7.272623  \n",
       "                     1836) fage>=26.5 46   19.7358400 7.207609  \n",
       "                       3672) weeks< 38.5 11    0.9794545 6.876364 *\n",
       "                       3673) weeks>=38.5 35   17.1701000 7.311714  \n",
       "                         7346) fage< 29.5 12    2.9452250 7.032500 *\n",
       "                         7347) fage>=29.5 23   12.8012400 7.457391  \n",
       "                          14694) mage>=35.5 5    2.1630800 6.862000 *\n",
       "                          14695) mage< 35.5 18    8.3733610 7.622778  \n",
       "                            29390) mage< 31 13    3.7251080 7.376154 *\n",
       "                            29391) mage>=31 5    1.8017200 8.264000 *\n",
       "                     1837) fage< 26.5 15    7.2744400 7.472000  \n",
       "                       3674) mage< 22.5 11    3.6096000 7.200000 *\n",
       "                       3675) mage>=22.5 4    0.6130000 8.220000 *\n",
       "                    919) weeks>=41.5 6    4.7759500 7.815000 *\n",
       "              115) fage>=39.5 8   13.8323500 8.017500 *\n",
       "           29) gained>=28.5 128  117.9942000 7.496797  \n",
       "             58) mage< 31.5 98   84.3522400 7.394694  \n",
       "              116) whitemom=not white 19    9.3442630 6.905789  \n",
       "                232) mage< 20.5 7    1.5548000 6.420000 *\n",
       "                233) mage>=20.5 12    5.1738920 7.189167 *\n",
       "              117) whitemom=white 79   69.3741900 7.512278  \n",
       "                234) visits>=11.5 62   49.1651400 7.395323  \n",
       "                  468) visits< 12.5 8    4.4855500 6.727500 *\n",
       "                  469) visits>=12.5 54   40.5831200 7.494259  \n",
       "                    938) gained>=48.5 13   17.7330800 7.163077  \n",
       "                     1876) gained< 56.5 8   13.0575900 6.733750 *\n",
       "                     1877) gained>=56.5 5    0.8416000 7.850000 *\n",
       "                    939) gained< 48.5 41   20.9720800 7.599268  \n",
       "                     1878) gained< 37.5 27   13.4244700 7.441111  \n",
       "                       3756) mage< 22.5 4    1.6646000 6.830000 *\n",
       "                       3757) mage>=22.5 23   10.0062400 7.547391 *\n",
       "                     1879) gained>=37.5 14    5.5697430 7.904286 *\n",
       "                235) visits< 11.5 17   16.2679800 7.938824  \n",
       "                  470) gained>=34.5 12    8.2130670 7.616667  \n",
       "                    940) gained< 37.5 4    1.9505000 6.845000 *\n",
       "                    941) gained>=37.5 8    2.6897500 8.002500 *\n",
       "                  471) gained< 34.5 5    3.8204800 8.712000 *\n",
       "             59) mage>=31.5 30   29.2829000 7.830333  \n",
       "              118) mage>=33.5 26   17.0113800 7.609231 *\n",
       "              119) mage< 33.5 4    2.7386750 9.267500 *\n",
       "         15) gender=male 273  294.2433000 7.736447  \n",
       "           30) whitemom=not white 76   84.3163400 7.388553  \n",
       "             60) mage< 23.5 36   32.4776000 7.133333  \n",
       "              120) weeks< 40.5 29   20.9379000 6.930345  \n",
       "                240) gained< 36.5 20   15.4438000 6.770000  \n",
       "                  480) gained>=27.5 5    0.3147200 6.064000 *\n",
       "                  481) gained< 27.5 15   11.8061700 7.005333 *\n",
       "                241) gained>=36.5 9    3.8372000 7.286667 *\n",
       "              121) weeks>=40.5 7    5.3943710 7.974286 *\n",
       "             61) mage>=23.5 40   47.3833800 7.618250  \n",
       "              122) gained< 51 35   40.2702400 7.496000  \n",
       "                244) gained< 25.5 18   20.9064900 7.279444  \n",
       "                  488) visits< 16 13   10.2141700 7.021538  \n",
       "                    976) gained>=19.5 9    6.4315560 6.697778 *\n",
       "                    977) gained< 19.5 4    0.7166000 7.750000 *\n",
       "                  489) visits>=16 5    7.5794000 7.950000 *\n",
       "                245) gained>=25.5 17   17.6258200 7.725294  \n",
       "                  490) gained>=39 4    6.9352000 7.110000 *\n",
       "                  491) gained< 39 13    8.7103230 7.914615  \n",
       "                    982) mage>=26.5 8    5.0218000 7.525000 *\n",
       "                    983) mage< 26.5 5    0.5310800 8.538000 *\n",
       "              123) gained>=51 5    2.9285200 8.474000 *\n",
       "           31) whitemom=white 197  197.1800000 7.870660  \n",
       "             62) visits< 7.5 14   12.8193200 7.046429 *\n",
       "             63) visits>=7.5 183  174.1221000 7.933716  \n",
       "              126) gained>=52.5 11   16.7723600 7.211818 *\n",
       "              127) gained< 52.5 172  151.2506000 7.979884  \n",
       "                254) mature=younger mom 145  127.8984000 7.913724  \n",
       "                  508) visits>=17.5 9    4.4098000 7.280000 *\n",
       "                  509) visits< 17.5 136  119.6349000 7.955662  \n",
       "                   1018) fage< 24.5 20   13.2449800 7.561000  \n",
       "                     2036) gained< 39 16    7.7495000 7.337500  \n",
       "                       4072) marital=not married 7    2.4153430 6.777143 *\n",
       "                       4073) marital=married 9    1.4266000 7.773333 *\n",
       "                     2037) gained>=39 4    1.4993000 8.455000 *\n",
       "                   1019) fage>=24.5 116  102.7377000 8.023707  \n",
       "                     2038) fage>=28.5 84   74.3178000 7.891071  \n",
       "                       4076) mage>=31.5 23   17.7815000 7.640435  \n",
       "                         8152) visits< 11.5 11    8.1722550 7.376364 *\n",
       "                         8153) visits>=11.5 12    8.1390250 7.882500  \n",
       "                          16306) fage< 34.5 4    2.2826750 7.222500 *\n",
       "                          16307) fage>=34.5 8    3.2427500 8.212500 *\n",
       "                       4077) mage< 31.5 61   54.5467000 7.985574  \n",
       "                         8154) mage< 28.5 39   25.2035900 7.852821  \n",
       "                          16308) mage>=27.5 6    3.0738830 7.388333 *\n",
       "                          16309) mage< 27.5 33   20.5998500 7.937273  \n",
       "                            32618) gained>=35.5 13    7.4012000 7.650000  \n",
       "                              65236) marital=not married 7    1.8360860 7.161429 *\n",
       "                              65237) marital=married 6    1.9448000 8.220000 *\n",
       "                            32619) gained< 35.5 20   11.4284800 8.124000  \n",
       "                              65238) marital=married 7    3.6435430 7.572857 *\n",
       "                              65239) marital=not married 13    4.5136920 8.420769 *\n",
       "                         8155) mage>=28.5 22   27.4373800 8.220909  \n",
       "                          16310) visits>=10.5 18   12.7678500 7.985000 *\n",
       "                          16311) visits< 10.5 4    9.1598750 9.282500 *\n",
       "                     2039) fage< 28.5 32   23.0630900 8.371875  \n",
       "                       4078) gained>=21.5 27   14.0264700 8.251111  \n",
       "                         8156) visits< 14.5 19    8.1586950 8.060526  \n",
       "                          16312) gained< 34 9    2.2943560 7.702222 *\n",
       "                          16313) gained>=34 10    3.6690100 8.383000 *\n",
       "                         8157) visits>=14.5 8    3.5385880 8.703750 *\n",
       "                       4079) gained< 21.5 5    6.5165200 9.024000 *\n",
       "                255) mature=mature mom 27   19.3090700 8.335185  \n",
       "                  510) visits< 15.5 23   13.2526000 8.200000  \n",
       "                   1020) weeks< 38.5 5    1.9366000 7.500000 *\n",
       "                   1021) weeks>=38.5 18    8.1854440 8.394444  \n",
       "                     2042) visits>=12.5 7    1.2774860 7.931429 *\n",
       "                     2043) visits< 12.5 11    4.4522910 8.689091 *\n",
       "                  511) visits>=15.5 4    3.2192750 9.112500 *"
      ]
     },
     "metadata": {},
     "output_type": "display_data"
    }
   ],
   "source": [
    " #Exercise #4: model2\n",
    "# your code here\n",
    "model2<- rpart(\n",
    "  weight ~ (fage+mage+mature+weeks+premie+visits+marital+gained+gender+habit+whitemom), \n",
    "  data = train_data, \n",
    "  method = \"anova\",\n",
    "    cp=0.001,\n",
    "    xval=10,\n",
    "    minbucket=4\n",
    ")  \n",
    "     \n",
    "\n",
    "model2"
   ]
  },
  {
   "cell_type": "code",
   "execution_count": 173,
   "metadata": {
    "deletable": false,
    "editable": false,
    "nbgrader": {
     "cell_type": "code",
     "checksum": "5441745876d42c64bee2d7eb473f8152",
     "grade": true,
     "grade_id": "cell-fb99337109c9faed",
     "locked": true,
     "points": 10,
     "schema_version": 3,
     "solution": false,
     "task": false
    }
   },
   "outputs": [
    {
     "name": "stdout",
     "output_type": "stream",
     "text": [
      "[1] \"Passed! Good work! \"\n"
     ]
    }
   ],
   "source": [
    "# Test your code in here\n",
    "### BEGIN HIDDEN TEST\n",
    "\n",
    "test_that(\"Check the findings\", {\n",
    "    expect_equal( formatC(model2$cptable[[2]], format = \"f\", digits = 3),'0.070')})\n",
    "\n",
    "\n",
    "\n",
    "print(\"Passed! Good work! \")\n",
    "\n",
    "### END HIDDEN TEST"
   ]
  },
  {
   "cell_type": "code",
   "execution_count": 174,
   "metadata": {
    "deletable": false,
    "editable": false,
    "nbgrader": {
     "cell_type": "code",
     "checksum": "a639f23de8b68cb8ee50777b945a0912",
     "grade": false,
     "grade_id": "cell-a69e5f87c0c589bd",
     "locked": true,
     "schema_version": 3,
     "solution": false,
     "task": false
    }
   },
   "outputs": [
    {
     "data": {
      "image/png": "[encoded data removed]",
      "text/plain": [
       "plot without title"
      ]
     },
     "metadata": {
      "image/png": {
       "height": 420,
       "width": 420
      },
      "text/plain": {
       "height": 420,
       "width": 420
      }
     },
     "output_type": "display_data"
    }
   ],
   "source": [
    "# lowering cp value and minbucket helps us to grow a bigger tree. \n",
    "# Let's check to see how big our tree has grown\n",
    "par(mar = rep(0.1, 4))\n",
    "plot(model2)\n",
    "text(model2)"
   ]
  },
  {
   "cell_type": "markdown",
   "metadata": {
    "deletable": false,
    "editable": false,
    "nbgrader": {
     "cell_type": "markdown",
     "checksum": "d9b474f713b7d74de2d7b16029bac8cb",
     "grade": false,
     "grade_id": "cell-01b181693d9c1836",
     "locked": true,
     "schema_version": 3,
     "solution": false,
     "task": false
    }
   },
   "source": [
    "# Prunning\n",
    "\n",
    "When we do cross-validation,  we are specifically interested in cross-validated errors. **printcp(model2)** code displays the complexity parameter (CP) table for fitted Rpart Object **model2**. We look at the **xerror** column in the CP table to decide on the optimal **cp** value to prune our tree. In this exercise, we will prune a decision tree using the cp of smallest tree with the smallest **xerror**. \n",
    "\n",
    "As shown below, **xerror** takes the smallest value with 3 number of splits at **cp=0.0141237**. If your CP table produces a different cp value at the lowest **xerror**, still use **cp=0.0141237** to have your code pass the test. \n",
    "\n",
    "\n"
   ]
  },
  {
   "cell_type": "code",
   "execution_count": 175,
   "metadata": {
    "deletable": false,
    "editable": false,
    "nbgrader": {
     "cell_type": "code",
     "checksum": "a7da38f9b875157f5bd698265e666be9",
     "grade": false,
     "grade_id": "cell-11d24949f8342d11",
     "locked": true,
     "schema_version": 3,
     "solution": false,
     "task": false
    }
   },
   "outputs": [
    {
     "name": "stdout",
     "output_type": "stream",
     "text": [
      "\n",
      "Regression tree:\n",
      "rpart(formula = weight ~ (fage + mage + mature + weeks + premie + \n",
      "    visits + marital + gained + gender + habit + whitemom), data = train_data, \n",
      "    method = \"anova\", cp = 0.001, xval = 10, minbucket = 4)\n",
      "\n",
      "Variables actually used in tree construction:\n",
      " [1] fage     gained   gender   habit    mage     marital  mature   visits  \n",
      " [9] weeks    whitemom\n",
      "\n",
      "Root node error: 1547.7/699 = 2.2142\n",
      "\n",
      "n= 699 \n",
      "\n",
      "          CP nsplit rel error  xerror     xstd\n",
      "1  0.3858003      0   1.00000 1.00314 0.084769\n",
      "2  0.0700934      1   0.61420 0.63476 0.039087\n",
      "3  0.0273038      2   0.54411 0.55628 0.033237\n",
      "4  0.0141237      3   0.51680 0.55507 0.032925\n",
      "5  0.0085716      4   0.50268 0.53822 0.032505\n",
      "6  0.0082358      6   0.48554 0.54927 0.033924\n",
      "7  0.0067159      7   0.47730 0.55370 0.034156\n",
      "8  0.0066152     11   0.45044 0.56180 0.035873\n",
      "9  0.0061842     12   0.44382 0.56322 0.035964\n",
      "10 0.0055960     13   0.43764 0.55688 0.035390\n",
      "11 0.0050151     14   0.43204 0.55473 0.034692\n",
      "12 0.0045629     15   0.42703 0.55473 0.034743\n",
      "13 0.0044878     16   0.42246 0.55994 0.034919\n",
      "14 0.0042565     18   0.41349 0.56026 0.034845\n",
      "15 0.0042430     19   0.40923 0.56156 0.034704\n",
      "16 0.0039407     20   0.40499 0.55941 0.034685\n",
      "17 0.0036400     21   0.40105 0.56750 0.034867\n",
      "18 0.0034542     22   0.39741 0.57460 0.034688\n",
      "19 0.0034246     23   0.39395 0.57611 0.034696\n",
      "20 0.0033777     25   0.38710 0.57491 0.034650\n",
      "21 0.0033099     26   0.38373 0.57874 0.034659\n",
      "22 0.0027307     27   0.38042 0.59046 0.034873\n",
      "23 0.0027037     31   0.36949 0.60753 0.035480\n",
      "24 0.0026430     32   0.36679 0.60652 0.035486\n",
      "25 0.0025958     35   0.35886 0.61749 0.036628\n",
      "26 0.0025820     36   0.35626 0.62393 0.036977\n",
      "27 0.0025247     37   0.35368 0.63182 0.037772\n",
      "28 0.0023084     38   0.35116 0.62684 0.037248\n",
      "29 0.0021284     39   0.34885 0.63421 0.037974\n",
      "30 0.0020379     40   0.34672 0.63909 0.038339\n",
      "31 0.0020255     42   0.34265 0.63680 0.038324\n",
      "32 0.0020038     45   0.33657 0.63948 0.038494\n",
      "33 0.0019279     46   0.33456 0.63914 0.037950\n",
      "34 0.0018454     48   0.33071 0.64119 0.038065\n",
      "35 0.0018452     49   0.32886 0.64450 0.038543\n",
      "36 0.0016899     51   0.32517 0.64768 0.038539\n",
      "37 0.0016462     52   0.32348 0.64781 0.038661\n",
      "38 0.0016283     56   0.31690 0.64514 0.038520\n",
      "39 0.0016191     57   0.31527 0.64443 0.038513\n",
      "40 0.0016134     58   0.31365 0.64632 0.038618\n",
      "41 0.0016087     63   0.30522 0.64678 0.038544\n",
      "42 0.0015866     65   0.30200 0.64984 0.038709\n",
      "43 0.0015049     66   0.30041 0.64513 0.038567\n",
      "44 0.0015028     67   0.29891 0.64711 0.038575\n",
      "45 0.0014184     68   0.29740 0.64900 0.038713\n",
      "46 0.0013831     69   0.29599 0.65027 0.038657\n",
      "47 0.0013193     70   0.29460 0.64757 0.038506\n",
      "48 0.0012779     72   0.29196 0.64952 0.038661\n",
      "49 0.0012507     73   0.29069 0.64848 0.038656\n",
      "50 0.0012225     81   0.28068 0.65237 0.039113\n",
      "51 0.0011330     82   0.27946 0.65750 0.039896\n",
      "52 0.0010000     83   0.27833 0.67100 0.040651\n"
     ]
    }
   ],
   "source": [
    "\n",
    "# the following code will print the cross-validated results\n",
    "# \n",
    "# We look for the minimum **xerror** value to decide on the cp value for prunning\n",
    "# \n",
    "printcp(model2)\n"
   ]
  },
  {
   "cell_type": "markdown",
   "metadata": {
    "deletable": false,
    "editable": false,
    "nbgrader": {
     "cell_type": "markdown",
     "checksum": "913f5563e8532eb04dfe0a00356b990c",
     "grade": false,
     "grade_id": "cell-33738d160aedc8d8",
     "locked": true,
     "schema_version": 3,
     "solution": false,
     "task": false
    }
   },
   "source": [
    "## Exercise 5\n",
    "\n",
    "- Prune **model2** by setting **cp=0.0141237** and name the pruned rpart object as **model2_pruned**. You can use **prune()** function for this task. \n",
    "\n",
    "- By using **model2_pruned**, predict **weights** in **test_data** and name it as **pred_model2_pruned**. You can use **predict()** function for this task. \n",
    "- Calculate the mean squared error in **test_data** and name it **test_mse_model2_pruned**. Mean squared error refers to mean value of squared prediction errors. "
   ]
  },
  {
   "cell_type": "code",
   "execution_count": 176,
   "metadata": {
    "deletable": false,
    "nbgrader": {
     "cell_type": "code",
     "checksum": "f7750844bcebf471435a33fb15184841",
     "grade": false,
     "grade_id": "cell-e7e2ca6281a2ecb6",
     "locked": false,
     "schema_version": 3,
     "solution": true,
     "task": false
    }
   },
   "outputs": [
    {
     "data": {
      "text/html": [
       "1.32229772721623"
      ],
      "text/latex": [
       "1.32229772721623"
      ],
      "text/markdown": [
       "1.32229772721623"
      ],
      "text/plain": [
       "[1] 1.322298"
      ]
     },
     "metadata": {},
     "output_type": "display_data"
    }
   ],
   "source": [
    " #Exercise #5: prune model2 and calculate mse \n",
    "# your code here\n",
    "model2_pruned <- prune(model2, cp=0.0141237)\n",
    "\n",
    "pred_model2_pruned <- predict(model2_pruned, test_data, type=\"matrix\")\n",
    "test_mse_model2_pruned <- mean((test_data$weight-pred_model2_pruned)^2)\n",
    "test_mse_model2_pruned"
   ]
  },
  {
   "cell_type": "code",
   "execution_count": 177,
   "metadata": {
    "deletable": false,
    "editable": false,
    "nbgrader": {
     "cell_type": "code",
     "checksum": "1deee82c88a6bd25264b69dcd6e59d47",
     "grade": true,
     "grade_id": "cell-30902fff11679893",
     "locked": true,
     "points": 10,
     "schema_version": 3,
     "solution": false,
     "task": false
    }
   },
   "outputs": [
    {
     "name": "stdout",
     "output_type": "stream",
     "text": [
      "[1] \"Passed! Good work! \"\n"
     ]
    }
   ],
   "source": [
    "# Test your code in here\n",
    "### BEGIN HIDDEN TEST\n",
    "\n",
    "test_that(\"Check the findings\", {\n",
    "    expect_equal(round(min(pred_model2_pruned)),2)\n",
    "    expect_equal(round(mean(pred_model2_pruned)),7)\n",
    "    expect_equal( round(max(pred_model2_pruned)),8)\n",
    "   expect_equal( round(test_mse_model2_pruned*21.765),29)})\n",
    "\n",
    "print(\"Passed! Good work! \")\n",
    "\n",
    "### END HIDDEN TEST"
   ]
  },
  {
   "cell_type": "markdown",
   "metadata": {
    "deletable": false,
    "editable": false,
    "nbgrader": {
     "cell_type": "markdown",
     "checksum": "76a41845ebf561dd247f28dfaa14262b",
     "grade": false,
     "grade_id": "cell-3757c963ba3eeb9c",
     "locked": true,
     "schema_version": 3,
     "solution": false,
     "task": false
    }
   },
   "source": [
    "## Tree-based Classification Model\n",
    "\n",
    "In this section, we will model **lowbirthweight** outcome varible. According to data, **lowbirthweight** captures whether baby was classified as low birthweight (low) or not (not low).\n",
    "\n",
    "\n",
    "We will use decision tree to model **lowbirthweight** by using the following features:\n",
    "\n",
    "- **fage**\n",
    "- **mage**\n",
    "- **mature**\n",
    "- **weeks**\n",
    "- **premie**\n",
    "- **visits**\n",
    "- **marital**\n",
    "- **gained** \n",
    "- **gender**\n",
    "- **habit**\n",
    "- **whitemom**\n",
    "\n",
    "# Exercise: 6\n",
    "\n",
    "Use **rpart** function in **rpart** package to build a classification tree to estimate **lowbirthweight** by using the **train_data** and name your model as **model3**. Since we construct classification tree, you need to use **method=\"class\"** in **rpart** function. Since **weight** is not a predictor but another outcome variable, it should NOT be included in the set of predictors for  **lowbirthweight**.\n",
    "\n",
    "Since we have a classification problem, we need to use a purity measure in finding the best split. By default, **rpart** uses **gini impurity** to select splits when performing classification. We will go with the default selection.\n",
    "\n",
    "In **rpart** function, if you do not specify the parameters, the default selections will be used. In this exercise, use the following parameters in  **model2**.\n",
    "\n",
    "- use 10-fold cross validation (xval=10)\n",
    "- use complexity parameter of 0.00001 (cp=0.00001)\n",
    "- use at least 4 observations in each terminal node (minbucket=4)\n",
    "\n",
    "\n"
   ]
  },
  {
   "cell_type": "code",
   "execution_count": 178,
   "metadata": {
    "deletable": false,
    "nbgrader": {
     "cell_type": "code",
     "checksum": "e6d0de861d4b4b78ab39a933fba0bf71",
     "grade": false,
     "grade_id": "cell-d4c8a68d1f7111bb",
     "locked": false,
     "schema_version": 3,
     "solution": true,
     "task": false
    }
   },
   "outputs": [
    {
     "data": {
      "text/plain": [
       "n= 699 \n",
       "\n",
       "node), split, n, deviance, yval\n",
       "      * denotes terminal node\n",
       "\n",
       "1) root 699 1547.73500 7.111373  \n",
       "  2) weeks< 33.5 37   89.45357 3.201892 *\n",
       "  3) weeks>=33.5 662  861.16500 7.329879  \n",
       "    6) weeks< 37.5 142  217.91870 6.555211 *\n",
       "    7) weeks>=37.5 520  534.76010 7.541423 *"
      ]
     },
     "metadata": {},
     "output_type": "display_data"
    }
   ],
   "source": [
    " #Exercise #6: Classification tree on train_data\n",
    "# your code here\n",
    "\n",
    "model3<- rpart(\n",
    "  lowbirthweight ~ (fage+mage+mature+weeks+premie+visits+marital+gained+gender+habit+whitemom), \n",
    "  data = train_data, \n",
    "  method = \"class\",\n",
    "    cp=0.00001,\n",
    "    xval=10,\n",
    "    minbucket=4\n",
    ")  \n",
    "     \n",
    "\n",
    "model1\n"
   ]
  },
  {
   "cell_type": "code",
   "execution_count": 179,
   "metadata": {
    "deletable": false,
    "editable": false,
    "nbgrader": {
     "cell_type": "code",
     "checksum": "2b7cd84a5263f7235ac2a20b97b40e28",
     "grade": true,
     "grade_id": "cell-7abef3f4d41959d9",
     "locked": true,
     "points": 10,
     "schema_version": 3,
     "solution": false,
     "task": false
    }
   },
   "outputs": [
    {
     "name": "stdout",
     "output_type": "stream",
     "text": [
      "[1] \"Passed! Good work! \"\n"
     ]
    }
   ],
   "source": [
    "# Test your code in here\n",
    "### BEGIN HIDDEN TEST\n",
    "\n",
    "test_that(\"Check the findings\", {\n",
    "    expect_equal(round(sort(model3$variable.importance)[[3]]),1)\n",
    "   expect_equal(formatC(model3$cptable[[2]], format = \"f\", digits = 3),'0.023')})\n",
    "\n",
    "print(\"Passed! Good work! \")\n",
    "\n",
    "### END HIDDEN TEST"
   ]
  },
  {
   "cell_type": "code",
   "execution_count": 180,
   "metadata": {
    "deletable": false,
    "editable": false,
    "nbgrader": {
     "cell_type": "code",
     "checksum": "fe624b2d5d5229d40b7e2b7dfaa3e075",
     "grade": false,
     "grade_id": "cell-317cfe1392c8fca0",
     "locked": true,
     "schema_version": 3,
     "solution": false,
     "task": false
    }
   },
   "outputs": [
    {
     "data": {
      "image/png": "[encoded data removed]",
      "text/plain": [
       "plot without title"
      ]
     },
     "metadata": {
      "image/png": {
       "height": 420,
       "width": 420
      },
      "text/plain": {
       "height": 420,
       "width": 420
      }
     },
     "output_type": "display_data"
    }
   ],
   "source": [
    "# let's visualize the classificaton tree based on model3\n",
    "plot(model3)\n",
    "text(model3)\n"
   ]
  },
  {
   "cell_type": "markdown",
   "metadata": {
    "deletable": false,
    "editable": false,
    "nbgrader": {
     "cell_type": "markdown",
     "checksum": "376fe396480a79607ad0db003fff9ece",
     "grade": false,
     "grade_id": "cell-23269a0118057b9a",
     "locked": true,
     "schema_version": 3,
     "solution": false,
     "task": false
    }
   },
   "source": [
    "# Predict class probabilities and labels\n",
    "\n",
    "Now, our task it to use model3 to predict **lowbirthweight** labels in the **test_data**. We will both calculate the probabilities and the  **lowbirthweight** labels such as \"low\" and \"not low\"\n",
    "\n",
    "# Exercise 7\n",
    "\n",
    "- By using model3, predict **probabilities** of **lowbirthweight** labels in **test_data** and store them as  **prob_lowbirthweight**. You can use predict() function for this task and select type=\"prob\" to extract probabilities.\n",
    "- By using model3, predict **lowbirthweight** labels (\"low\", \"not low\") in **test_data** and store them as  **class_lowbirthweight**. You can use predict() function for this task and select type=\"class\" to extract probabilities.\n"
   ]
  },
  {
   "cell_type": "code",
   "execution_count": 183,
   "metadata": {
    "deletable": false,
    "nbgrader": {
     "cell_type": "code",
     "checksum": "5e3e11e17444e5654ea71252e1f19fb2",
     "grade": false,
     "grade_id": "cell-6017221fb50b651e",
     "locked": false,
     "schema_version": 3,
     "solution": true,
     "task": false
    }
   },
   "outputs": [],
   "source": [
    "\n",
    " #Exercise #7:  predict probabilities and labels in test_data based on model3\n",
    "# your code here\n",
    "\n",
    "prob_lowbirthweight <- predict(model3, test_data, type=\"prob\")\n",
    "\n",
    "class_lowbirthweight <- predict(model3, test_data, type=\"class\")"
   ]
  },
  {
   "cell_type": "code",
   "execution_count": 184,
   "metadata": {
    "deletable": false,
    "editable": false,
    "nbgrader": {
     "cell_type": "code",
     "checksum": "3ed52762a2e585fdd31d5b3640219e10",
     "grade": true,
     "grade_id": "cell-72f6d7a1490294dd",
     "locked": true,
     "points": 10,
     "schema_version": 3,
     "solution": false,
     "task": false
    }
   },
   "outputs": [
    {
     "name": "stdout",
     "output_type": "stream",
     "text": [
      "[1] \"Passed! Good work! \"\n"
     ]
    }
   ],
   "source": [
    "# Test your code in here\n",
    "### BEGIN HIDDEN TEST\n",
    "\n",
    "test_that(\"Check the findings\", {\n",
    "    expect_equal(prob_lowbirthweight[[1]],0.0287162162162162)\n",
    "   expect_equal(prob_lowbirthweight[[23]],1)\n",
    "    expect_equal(as.integer(class_lowbirthweight[87]),2)\n",
    "    \n",
    "})\n",
    "\n",
    "print(\"Passed! Good work! \")\n",
    "\n",
    "### END HIDDEN TEST"
   ]
  },
  {
   "cell_type": "markdown",
   "metadata": {
    "deletable": false,
    "editable": false,
    "nbgrader": {
     "cell_type": "markdown",
     "checksum": "b7de3945c27c61aa9721759f7718fc5f",
     "grade": false,
     "grade_id": "cell-e8da74f60af59953",
     "locked": true,
     "schema_version": 3,
     "solution": false,
     "task": false
    }
   },
   "source": [
    "## Create your own Confusion Matrix\n",
    "\n",
    "In this exercise, we will use **model3** and calculate  the confusion matrix by comparing actual and predicted **lowbirthweight** labels in the **test_data**. \n",
    "\n",
    "Use the following definitions when you are working on the following two exercises.\n",
    "\n",
    "- \"low\" is a positive class\n",
    "- \"not low\" is a negative class\n",
    "\n",
    "- **True Positive**: Model correctly predicts the positive class: The new-born baby has **lowbirthweight** status of \"low\" and **model3** predicts the  new-born baby as \"low\" in the **test_data**.\n",
    "- **False Positive**: Model inccorrectly predicts the positive class: The new-born baby has **lowbirthweight** status of \"not low\" and **model3** predicts the  new-born baby as \"low\" in the **test_data**.\n",
    "- **True Negative**: Model correctly predicts the negative class:The new-born baby has **lowbirthweight** status of \"not low\" and **model3** predicts the  new-born baby as \"not low\" in the **test_data**.\n",
    "- **False Negative**: Model inccorrectly predicts the negative class: The new-born baby has **lowbirthweight** status of \"low\" and **model3** predicts the  new-born baby as \"not low\" in the **test_data**.\n",
    "\n",
    "# Exercise 8\n",
    "- Calculate the total number of true positives in **test_data** and name it **TP**\n",
    "- Calculate the total number of false positives in **test_data** and name it **FP**\n",
    "- Calculate the total number of true negatives in **test_data** and name it **TN**\n",
    "- Calculate the total number of false negatives in **test_data** and name it **FN**\n"
   ]
  },
  {
   "cell_type": "code",
   "execution_count": 195,
   "metadata": {
    "deletable": false,
    "nbgrader": {
     "cell_type": "code",
     "checksum": "190414cf72d00b8cdd10a2c08f0e0645",
     "grade": false,
     "grade_id": "cell-b97ae6a9e298bbb5",
     "locked": false,
     "schema_version": 3,
     "solution": true,
     "task": false
    }
   },
   "outputs": [
    {
     "data": {
      "text/plain": [
       "                    \n",
       "class_lowbirthweight low not low\n",
       "             low      16       5\n",
       "             not low  23     256"
      ]
     },
     "metadata": {},
     "output_type": "display_data"
    }
   ],
   "source": [
    " #Exercise #8:  confusion matrix in test_data based on model3\n",
    "# your code here\n",
    "\n",
    "table(class_lowbirthweight, test_data$lowbirthweight)\n",
    "\n",
    "TP <- 16\n",
    "FP <- 5\n",
    "TN <- 256\n",
    "FN <- 23"
   ]
  },
  {
   "cell_type": "code",
   "execution_count": 196,
   "metadata": {
    "deletable": false,
    "editable": false,
    "nbgrader": {
     "cell_type": "code",
     "checksum": "2ca6a0246420a2ceaf5a4b600aea04f4",
     "grade": true,
     "grade_id": "cell-89c2639d3ef8aa43",
     "locked": true,
     "points": 15,
     "schema_version": 3,
     "solution": false,
     "task": false
    }
   },
   "outputs": [
    {
     "name": "stdout",
     "output_type": "stream",
     "text": [
      "[1] \"Passed! Good work! \"\n"
     ]
    }
   ],
   "source": [
    "\n",
    "# Test your code in here\n",
    "### BEGIN HIDDEN TEST\n",
    "\n",
    "test_that(\"Check the confusion matrix findings\", {\n",
    "    expect_equal(TP*FP,80)\n",
    "   expect_equal(TN*FN,5888)\n",
    "    expect_equal(TP-FP+TN-FN,244)\n",
    "    expect_equal(TN/FP,51.2)\n",
    "\n",
    "})\n",
    "\n",
    "print(\"Passed! Good work! \")\n",
    "\n",
    "### END HIDDEN TEST\n"
   ]
  },
  {
   "cell_type": "markdown",
   "metadata": {
    "deletable": false,
    "editable": false,
    "nbgrader": {
     "cell_type": "markdown",
     "checksum": "77544626b6b968ff7e0e0f9509ff0cc6",
     "grade": false,
     "grade_id": "cell-ac903835edd1ab3e",
     "locked": true,
     "schema_version": 3,
     "solution": false,
     "task": false
    }
   },
   "source": [
    "## Performance Measures \n",
    "\n",
    "By using **model3** predictons  of **test_data** labels (stored as **class_lowbirthweight** above) or the confusion matrix entries (**TP**, **FP**, **TN**, **FN**), calculate the following performance measures.\n",
    "\n",
    "# Exercise 9\n",
    "\n",
    "- Calculate accuracy and name it as **accuracy**\n",
    "- Calculate precision and name it as **precision**\n",
    "- Calculate sensitivity and name it as **sensitivity**\n",
    "- Calculate specificity and name it as **specificity**\n",
    "\n",
    "\n",
    "\n",
    "\n",
    "\n"
   ]
  },
  {
   "cell_type": "code",
   "execution_count": 197,
   "metadata": {
    "deletable": false,
    "nbgrader": {
     "cell_type": "code",
     "checksum": "1da59011ff30631c8365e59da46e58e4",
     "grade": false,
     "grade_id": "cell-468bf8fc6de0324d",
     "locked": false,
     "schema_version": 3,
     "solution": true,
     "task": false
    }
   },
   "outputs": [],
   "source": [
    " #Exercise #9:  calculate performance measures\n",
    "# your code here\n",
    "\n",
    "accuracy <- (TP + TN) / (TN + TP + FN + FP)\n",
    "\n",
    "precision <- TP / (TP + FP)\n",
    "\n",
    "sensitivity <- TP / (TP +FN)\n",
    "\n",
    "specificity <- TN / (TN + FP)"
   ]
  },
  {
   "cell_type": "code",
   "execution_count": 198,
   "metadata": {
    "deletable": false,
    "editable": false,
    "nbgrader": {
     "cell_type": "code",
     "checksum": "a83c4e549a059c6ed501f901ff15cc5e",
     "grade": true,
     "grade_id": "cell-bcc0ec9be527a9f4",
     "locked": true,
     "points": 12,
     "schema_version": 3,
     "solution": false,
     "task": false
    }
   },
   "outputs": [
    {
     "name": "stdout",
     "output_type": "stream",
     "text": [
      "[1] \"Passed! Good work! \"\n"
     ]
    }
   ],
   "source": [
    "# Test your code in here\n",
    "### BEGIN HIDDEN TEST\n",
    "\n",
    "test_that(\"Check the performance measures\", {\n",
    "    expect_equal(formatC(accuracy, format = \"f\", digits = 2),'0.91')\n",
    "   expect_equal(formatC(precision*sensitivity),'0.3126')\n",
    "    expect_equal(round((1+specificity)*143), 283)\n",
    "    expect_equal(formatC(specificity*accuracy),'0.8893')\n",
    "\n",
    "})\n",
    "\n",
    "print(\"Passed! Good work! \")\n",
    "\n",
    "### END HIDDEN TEST"
   ]
  },
  {
   "cell_type": "code",
   "execution_count": null,
   "metadata": {},
   "outputs": [],
   "source": []
  }
 ],
 "metadata": {
  "kernelspec": {
   "display_name": "R",
   "language": "R",
   "name": "ir"
  },
  "language_info": {
   "codemirror_mode": "r",
   "file_extension": ".r",
   "mimetype": "text/x-r-source",
   "name": "R",
   "pygments_lexer": "r",
   "version": "3.6.3"
  }
 },
 "nbformat": 4,
 "nbformat_minor": 4
}
